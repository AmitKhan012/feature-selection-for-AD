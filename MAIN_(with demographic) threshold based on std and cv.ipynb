{
 "cells": [
  {
   "cell_type": "code",
   "execution_count": 1,
   "id": "c46540f9",
   "metadata": {},
   "outputs": [],
   "source": [
    "import warnings\n",
    "warnings.filterwarnings('ignore')"
   ]
  },
  {
   "cell_type": "code",
   "execution_count": 73,
   "id": "edefd8f7",
   "metadata": {},
   "outputs": [],
   "source": [
    "import pandas as pd\n",
    "import csv\n",
    "import pickle\n",
    "import statistics\n",
    "import numpy as np\n",
    "import matplotlib.pyplot as plt\n",
    "import seaborn as sns\n",
    "from collections import Counter, defaultdict\n",
    "from sklearn.linear_model import Lasso\n",
    "from sklearn.metrics import make_scorer, accuracy_score\n",
    "from sklearn.model_selection import GridSearchCV\n",
    "from sklearn.ensemble import RandomForestClassifier\n",
    "from matplotlib_venn import venn2, venn2_circles\n",
    "from sklearn.model_selection import train_test_split\n",
    "from sklearn.preprocessing import StandardScaler\n",
    "from sklearn.metrics import confusion_matrix"
   ]
  },
  {
   "cell_type": "code",
   "execution_count": 3,
   "id": "d117f5e7",
   "metadata": {},
   "outputs": [],
   "source": [
    "# build the final data frame\n",
    "\n",
    "# loading the dataset which has the features (gene symbol)\n",
    "file_path = 'dataset/ADNI_Gene_Expression_Profile.csv'\n",
    "df1 = pd.read_csv(file_path)\n",
    "\n",
    "# df1.head()\n",
    "\n",
    "col = df1.columns[3:747]\n",
    "# print(len(c))\n",
    "sampleList = []\n",
    "for c in col:\n",
    "    sample = df1.loc[:, c]\n",
    "    sample = sample.tolist()\n",
    "    sampleList.append(sample)\n",
    "    \n",
    "file_path = 'dataset/Complete_ADNI_clinical_info.csv'\n",
    "df2 = pd.read_csv(file_path)\n",
    "\n",
    "# df2.head(10)\n",
    "\n",
    "tem_col = list(df1['Unnamed: 2'])\n",
    "tem_col[1] = 'IID'\n",
    "\n",
    "finalDataFrame = pd.DataFrame(sampleList, columns=tem_col)\n",
    "finalDataFrame = finalDataFrame.loc[:, finalDataFrame.columns.notna()]\n",
    "finalDataFrame = finalDataFrame.drop(columns=['Symbol'])\n",
    "\n",
    "finalDataFrame['Age'] = \"\"\n",
    "finalDataFrame['Gender'] = \"\"\n",
    "finalDataFrame['Ethnicity'] = \"\"\n",
    "finalDataFrame['Race'] = \"\"\n",
    "finalDataFrame['Phenotype'] = \"\"\n",
    "\n",
    "for index, row in finalDataFrame.iterrows():\n",
    "    patientID = finalDataFrame.at[index, 'IID']\n",
    "    # cell_value = df.at[row_number, column_name]\n",
    "    #print(\"P ID: \", patient)\n",
    "    for index2, row2 in df2.iterrows():\n",
    "        if df2.at[index2, 'IID'] == patientID:\n",
    "            finalDataFrame.at[index, 'Age'] = df2.at[index2, 'Age']\n",
    "            finalDataFrame.at[index, 'Gender'] = df2.at[index2, 'Gender']\n",
    "            finalDataFrame.at[index, 'Ethnicity'] = df2.at[index2, 'Ethnicity']\n",
    "            finalDataFrame.at[index, 'Race'] = df2.at[index2, 'Race']\n",
    "            finalDataFrame.at[index, 'Phenotype'] = df2.at[index2, 'Phenotype']"
   ]
  },
  {
   "cell_type": "code",
   "execution_count": 4,
   "id": "4ed20360",
   "metadata": {},
   "outputs": [],
   "source": [
    "pickle_file_name = 'keyDictionaryPickel.pickle'\n",
    "with open(pickle_file_name, 'rb') as file:\n",
    "    keyDictionary = pickle.load(file)"
   ]
  },
  {
   "cell_type": "code",
   "execution_count": 5,
   "id": "460e20f8",
   "metadata": {},
   "outputs": [],
   "source": [
    "geneMetrics = pd.read_csv(\"dataset/Gene_Metrics_Info.csv\")"
   ]
  },
  {
   "cell_type": "code",
   "execution_count": 6,
   "id": "2c291e6e",
   "metadata": {},
   "outputs": [
    {
     "data": {
      "text/html": [
       "<div>\n",
       "<style scoped>\n",
       "    .dataframe tbody tr th:only-of-type {\n",
       "        vertical-align: middle;\n",
       "    }\n",
       "\n",
       "    .dataframe tbody tr th {\n",
       "        vertical-align: top;\n",
       "    }\n",
       "\n",
       "    .dataframe thead th {\n",
       "        text-align: right;\n",
       "    }\n",
       "</style>\n",
       "<table border=\"1\" class=\"dataframe\">\n",
       "  <thead>\n",
       "    <tr style=\"text-align: right;\">\n",
       "      <th></th>\n",
       "      <th>Gene Symbol</th>\n",
       "      <th>Mean Standard Deviation</th>\n",
       "      <th>Mean Max</th>\n",
       "      <th>Mean Mean</th>\n",
       "      <th>Mean Median</th>\n",
       "      <th>Mean CV</th>\n",
       "    </tr>\n",
       "  </thead>\n",
       "  <tbody>\n",
       "    <tr>\n",
       "      <th>0</th>\n",
       "      <td>HIST1H3G</td>\n",
       "      <td>0.2377</td>\n",
       "      <td>2.5467</td>\n",
       "      <td>2.2895</td>\n",
       "      <td>2.2987</td>\n",
       "      <td>0.1036</td>\n",
       "    </tr>\n",
       "    <tr>\n",
       "      <th>1</th>\n",
       "      <td>TNFAIP8L1</td>\n",
       "      <td>2.4977</td>\n",
       "      <td>7.0980</td>\n",
       "      <td>5.3318</td>\n",
       "      <td>5.3318</td>\n",
       "      <td>0.4695</td>\n",
       "    </tr>\n",
       "    <tr>\n",
       "      <th>2</th>\n",
       "      <td>OTOP2</td>\n",
       "      <td>0.3734</td>\n",
       "      <td>2.8182</td>\n",
       "      <td>2.5542</td>\n",
       "      <td>2.5542</td>\n",
       "      <td>0.1455</td>\n",
       "    </tr>\n",
       "    <tr>\n",
       "      <th>3</th>\n",
       "      <td>CTAGE6 || CTAGE15</td>\n",
       "      <td>0.3436</td>\n",
       "      <td>2.4837</td>\n",
       "      <td>2.2407</td>\n",
       "      <td>2.2407</td>\n",
       "      <td>0.1534</td>\n",
       "    </tr>\n",
       "    <tr>\n",
       "      <th>4</th>\n",
       "      <td>LINC01098</td>\n",
       "      <td>0.1168</td>\n",
       "      <td>2.4627</td>\n",
       "      <td>2.3801</td>\n",
       "      <td>2.3801</td>\n",
       "      <td>0.0490</td>\n",
       "    </tr>\n",
       "  </tbody>\n",
       "</table>\n",
       "</div>"
      ],
      "text/plain": [
       "         Gene Symbol  Mean Standard Deviation  Mean Max  Mean Mean  \\\n",
       "0           HIST1H3G                   0.2377    2.5467     2.2895   \n",
       "1          TNFAIP8L1                   2.4977    7.0980     5.3318   \n",
       "2              OTOP2                   0.3734    2.8182     2.5542   \n",
       "3  CTAGE6 || CTAGE15                   0.3436    2.4837     2.2407   \n",
       "4          LINC01098                   0.1168    2.4627     2.3801   \n",
       "\n",
       "   Mean Median  Mean CV  \n",
       "0       2.2987   0.1036  \n",
       "1       5.3318   0.4695  \n",
       "2       2.5542   0.1455  \n",
       "3       2.2407   0.1534  \n",
       "4       2.3801   0.0490  "
      ]
     },
     "execution_count": 6,
     "metadata": {},
     "output_type": "execute_result"
    }
   ],
   "source": [
    "geneMetrics.head()"
   ]
  },
  {
   "cell_type": "code",
   "execution_count": 7,
   "id": "a45a8d8d",
   "metadata": {},
   "outputs": [],
   "source": [
    "lowHighGeneSymbolBasedOnStd = {}\n",
    "\n",
    "for index, row in geneMetrics.iterrows():\n",
    "    msd = geneMetrics.at[index, 'Mean Standard Deviation']\n",
    "    key = geneMetrics.at[index, 'Gene Symbol']\n",
    "    if msd > 1.5:\n",
    "        lowHighGeneSymbolBasedOnStd[key] = 1\n",
    "    else:\n",
    "        lowHighGeneSymbolBasedOnStd[key] = 0"
   ]
  },
  {
   "cell_type": "code",
   "execution_count": 8,
   "id": "72a7249f",
   "metadata": {},
   "outputs": [],
   "source": [
    "columns =  set(finalDataFrame.columns)\n",
    "idxs = finalDataFrame[\"IID\"]"
   ]
  },
  {
   "cell_type": "code",
   "execution_count": 9,
   "id": "845eacb9",
   "metadata": {},
   "outputs": [],
   "source": [
    "dic = defaultdict(list)\n",
    "for idx in idxs:\n",
    "    for col in columns:\n",
    "        res = keyDictionary.get((idx, col))\n",
    "        if res:\n",
    "            if lowHighGeneSymbolBasedOnStd[col] == 0:\n",
    "                dic[col].append(np.mean(res))\n",
    "            else:\n",
    "                dic[col].append(np.median(res))\n",
    "lastBasedOnStd = pd.DataFrame(dic)"
   ]
  },
  {
   "cell_type": "code",
   "execution_count": 10,
   "id": "f69f03fc",
   "metadata": {},
   "outputs": [],
   "source": [
    "original_col = finalDataFrame.columns\n",
    "new_colBasedOnStd = lastBasedOnStd.columns\n",
    "disjointBasedOnStd = [i for i in original_col if i not in new_colBasedOnStd]\n",
    "lastBasedOnStd = lastBasedOnStd.merge(finalDataFrame[disjointBasedOnStd], left_index=True, right_index=True)"
   ]
  },
  {
   "cell_type": "code",
   "execution_count": null,
   "id": "fd34e8a5",
   "metadata": {},
   "outputs": [],
   "source": [
    "# lastBasedOnStd = lastBasedOnStd.drop('IID', axis = 1)"
   ]
  },
  {
   "cell_type": "code",
   "execution_count": 11,
   "id": "6849c6cc",
   "metadata": {},
   "outputs": [
    {
     "name": "stdout",
     "output_type": "stream",
     "text": [
      "80\n",
      "0\n"
     ]
    }
   ],
   "source": [
    "lastBasedOnStd.replace(\"\", np.nan, inplace=True)\n",
    "print(sum(lastBasedOnStd.isna().sum()))\n",
    "lastBasedOnStd = lastBasedOnStd[lastBasedOnStd[\"Phenotype\"].notna()].reset_index(drop=True)\n",
    "print(sum(lastBasedOnStd.isna().sum()))"
   ]
  },
  {
   "cell_type": "code",
   "execution_count": 12,
   "id": "70594aa9",
   "metadata": {},
   "outputs": [],
   "source": [
    "for col in lastBasedOnStd.columns:\n",
    "    if (\n",
    "        any(lastBasedOnStd[col].isna())\n",
    "        and lastBasedOnStd[col].isna().value_counts().to_dict().get(True) / len(lastBasedOnStd[col])\n",
    "        > 0.90\n",
    "    ):\n",
    "        print(col)\n",
    "        lastBasedOnStd = lastBasedOnStd.drop(col, axis=1)"
   ]
  },
  {
   "cell_type": "code",
   "execution_count": 13,
   "id": "495f5e07",
   "metadata": {},
   "outputs": [],
   "source": [
    "featuresBasedOnStd = lastBasedOnStd.drop('Phenotype', axis = 1)\n",
    "targetBasedOnStd = lastBasedOnStd['Phenotype']\n",
    "featuresBasedOnStd = featuresBasedOnStd.drop('IID', axis = 1)"
   ]
  },
  {
   "cell_type": "code",
   "execution_count": 14,
   "id": "8c875d1f",
   "metadata": {},
   "outputs": [],
   "source": [
    "lasso1 = Lasso(alpha=0.01)\n",
    "lasso1.fit(featuresBasedOnStd, targetBasedOnStd)\n",
    "selectedFeaturesBasedOnStd = featuresBasedOnStd.columns[lasso1.coef_ != 0.0]"
   ]
  },
  {
   "cell_type": "code",
   "execution_count": 16,
   "id": "fdeaca56",
   "metadata": {},
   "outputs": [
    {
     "data": {
      "text/plain": [
       "pandas.core.indexes.base.Index"
      ]
     },
     "execution_count": 16,
     "metadata": {},
     "output_type": "execute_result"
    }
   ],
   "source": [
    "type(selectedFeaturesBasedOnStd)"
   ]
  },
  {
   "cell_type": "code",
   "execution_count": 17,
   "id": "81585203",
   "metadata": {},
   "outputs": [],
   "source": [
    "X = lastBasedOnStd[selectedFeaturesBasedOnStd]\n",
    "y = lastBasedOnStd['Phenotype']"
   ]
  },
  {
   "cell_type": "code",
   "execution_count": 21,
   "id": "e428dcf3",
   "metadata": {},
   "outputs": [
    {
     "data": {
      "text/plain": [
       "0    2.0\n",
       "1    0.0\n",
       "2    2.0\n",
       "3    0.0\n",
       "4    1.0\n",
       "Name: Phenotype, dtype: float64"
      ]
     },
     "execution_count": 21,
     "metadata": {},
     "output_type": "execute_result"
    }
   ],
   "source": [
    "y.head()"
   ]
  },
  {
   "cell_type": "code",
   "execution_count": 22,
   "id": "043a205d",
   "metadata": {},
   "outputs": [],
   "source": [
    "X_train, X_test, y_train, y_test = train_test_split(X, y, test_size=0.2, random_state=42)"
   ]
  },
  {
   "cell_type": "code",
   "execution_count": 25,
   "id": "f86af08f",
   "metadata": {},
   "outputs": [],
   "source": [
    "scaler = StandardScaler()\n",
    "X_train = scaler.fit_transform(X_train)\n",
    "X_test = scaler.transform(X_test)"
   ]
  },
  {
   "cell_type": "code",
   "execution_count": 35,
   "id": "93170c73",
   "metadata": {},
   "outputs": [],
   "source": [
    "y_train = y_train.values\n",
    "y_test = y_test.values"
   ]
  },
  {
   "cell_type": "code",
   "execution_count": 39,
   "id": "bc05e01f",
   "metadata": {},
   "outputs": [],
   "source": [
    "y_train = y_train.astype(np.int)\n",
    "y_test = y_test.astype(np.int)"
   ]
  },
  {
   "cell_type": "code",
   "execution_count": 42,
   "id": "1e3cac90",
   "metadata": {},
   "outputs": [],
   "source": [
    "parameterGrid = { \n",
    "    'n_estimators': [int(x) for x in np.linspace(start = 50, stop = 200, num = 10)], \n",
    "    'max_features': ['sqrt', 'log2', None], \n",
    "    'max_depth': [3, 6, 9], \n",
    "    'max_leaf_nodes': [3, 6, 9], \n",
    "}"
   ]
  },
  {
   "cell_type": "code",
   "execution_count": 45,
   "id": "bb6ebbb3",
   "metadata": {},
   "outputs": [
    {
     "name": "stdout",
     "output_type": "stream",
     "text": [
      "[50, 66, 83, 100, 116, 133, 150, 166, 183, 200]\n"
     ]
    }
   ],
   "source": [
    "a = [int(x) for x in np.linspace(start = 50, stop = 200, num = 10)]\n",
    "print(a)"
   ]
  },
  {
   "cell_type": "code",
   "execution_count": 43,
   "id": "d5c24694",
   "metadata": {},
   "outputs": [
    {
     "name": "stdout",
     "output_type": "stream",
     "text": [
      "RandomForestClassifier(max_depth=3, max_features=None, max_leaf_nodes=9)\n"
     ]
    }
   ],
   "source": [
    "gridSearch = GridSearchCV(RandomForestClassifier(), \n",
    "                           param_grid=parameterGrid) \n",
    "gridSearch.fit(X_train, y_train) \n",
    "print(gridSearch.best_estimator_)"
   ]
  },
  {
   "cell_type": "code",
   "execution_count": 46,
   "id": "0957aa33",
   "metadata": {},
   "outputs": [],
   "source": [
    "model = RandomForestClassifier(n_estimators=150, max_depth=3, max_features=None, max_leaf_nodes=9, random_state=42)"
   ]
  },
  {
   "cell_type": "code",
   "execution_count": 47,
   "id": "528b89b4",
   "metadata": {},
   "outputs": [
    {
     "data": {
      "text/html": [
       "<style>#sk-container-id-1 {color: black;}#sk-container-id-1 pre{padding: 0;}#sk-container-id-1 div.sk-toggleable {background-color: white;}#sk-container-id-1 label.sk-toggleable__label {cursor: pointer;display: block;width: 100%;margin-bottom: 0;padding: 0.3em;box-sizing: border-box;text-align: center;}#sk-container-id-1 label.sk-toggleable__label-arrow:before {content: \"▸\";float: left;margin-right: 0.25em;color: #696969;}#sk-container-id-1 label.sk-toggleable__label-arrow:hover:before {color: black;}#sk-container-id-1 div.sk-estimator:hover label.sk-toggleable__label-arrow:before {color: black;}#sk-container-id-1 div.sk-toggleable__content {max-height: 0;max-width: 0;overflow: hidden;text-align: left;background-color: #f0f8ff;}#sk-container-id-1 div.sk-toggleable__content pre {margin: 0.2em;color: black;border-radius: 0.25em;background-color: #f0f8ff;}#sk-container-id-1 input.sk-toggleable__control:checked~div.sk-toggleable__content {max-height: 200px;max-width: 100%;overflow: auto;}#sk-container-id-1 input.sk-toggleable__control:checked~label.sk-toggleable__label-arrow:before {content: \"▾\";}#sk-container-id-1 div.sk-estimator input.sk-toggleable__control:checked~label.sk-toggleable__label {background-color: #d4ebff;}#sk-container-id-1 div.sk-label input.sk-toggleable__control:checked~label.sk-toggleable__label {background-color: #d4ebff;}#sk-container-id-1 input.sk-hidden--visually {border: 0;clip: rect(1px 1px 1px 1px);clip: rect(1px, 1px, 1px, 1px);height: 1px;margin: -1px;overflow: hidden;padding: 0;position: absolute;width: 1px;}#sk-container-id-1 div.sk-estimator {font-family: monospace;background-color: #f0f8ff;border: 1px dotted black;border-radius: 0.25em;box-sizing: border-box;margin-bottom: 0.5em;}#sk-container-id-1 div.sk-estimator:hover {background-color: #d4ebff;}#sk-container-id-1 div.sk-parallel-item::after {content: \"\";width: 100%;border-bottom: 1px solid gray;flex-grow: 1;}#sk-container-id-1 div.sk-label:hover label.sk-toggleable__label {background-color: #d4ebff;}#sk-container-id-1 div.sk-serial::before {content: \"\";position: absolute;border-left: 1px solid gray;box-sizing: border-box;top: 0;bottom: 0;left: 50%;z-index: 0;}#sk-container-id-1 div.sk-serial {display: flex;flex-direction: column;align-items: center;background-color: white;padding-right: 0.2em;padding-left: 0.2em;position: relative;}#sk-container-id-1 div.sk-item {position: relative;z-index: 1;}#sk-container-id-1 div.sk-parallel {display: flex;align-items: stretch;justify-content: center;background-color: white;position: relative;}#sk-container-id-1 div.sk-item::before, #sk-container-id-1 div.sk-parallel-item::before {content: \"\";position: absolute;border-left: 1px solid gray;box-sizing: border-box;top: 0;bottom: 0;left: 50%;z-index: -1;}#sk-container-id-1 div.sk-parallel-item {display: flex;flex-direction: column;z-index: 1;position: relative;background-color: white;}#sk-container-id-1 div.sk-parallel-item:first-child::after {align-self: flex-end;width: 50%;}#sk-container-id-1 div.sk-parallel-item:last-child::after {align-self: flex-start;width: 50%;}#sk-container-id-1 div.sk-parallel-item:only-child::after {width: 0;}#sk-container-id-1 div.sk-dashed-wrapped {border: 1px dashed gray;margin: 0 0.4em 0.5em 0.4em;box-sizing: border-box;padding-bottom: 0.4em;background-color: white;}#sk-container-id-1 div.sk-label label {font-family: monospace;font-weight: bold;display: inline-block;line-height: 1.2em;}#sk-container-id-1 div.sk-label-container {text-align: center;}#sk-container-id-1 div.sk-container {/* jupyter's `normalize.less` sets `[hidden] { display: none; }` but bootstrap.min.css set `[hidden] { display: none !important; }` so we also need the `!important` here to be able to override the default hidden behavior on the sphinx rendered scikit-learn.org. See: https://github.com/scikit-learn/scikit-learn/issues/21755 */display: inline-block !important;position: relative;}#sk-container-id-1 div.sk-text-repr-fallback {display: none;}</style><div id=\"sk-container-id-1\" class=\"sk-top-container\"><div class=\"sk-text-repr-fallback\"><pre>RandomForestClassifier(max_depth=3, max_features=None, max_leaf_nodes=9,\n",
       "                       n_estimators=150, random_state=42)</pre><b>In a Jupyter environment, please rerun this cell to show the HTML representation or trust the notebook. <br />On GitHub, the HTML representation is unable to render, please try loading this page with nbviewer.org.</b></div><div class=\"sk-container\" hidden><div class=\"sk-item\"><div class=\"sk-estimator sk-toggleable\"><input class=\"sk-toggleable__control sk-hidden--visually\" id=\"sk-estimator-id-1\" type=\"checkbox\" checked><label for=\"sk-estimator-id-1\" class=\"sk-toggleable__label sk-toggleable__label-arrow\">RandomForestClassifier</label><div class=\"sk-toggleable__content\"><pre>RandomForestClassifier(max_depth=3, max_features=None, max_leaf_nodes=9,\n",
       "                       n_estimators=150, random_state=42)</pre></div></div></div></div></div>"
      ],
      "text/plain": [
       "RandomForestClassifier(max_depth=3, max_features=None, max_leaf_nodes=9,\n",
       "                       n_estimators=150, random_state=42)"
      ]
     },
     "execution_count": 47,
     "metadata": {},
     "output_type": "execute_result"
    }
   ],
   "source": [
    "model.fit(X_train, y_train)"
   ]
  },
  {
   "cell_type": "code",
   "execution_count": 48,
   "id": "c8bba077",
   "metadata": {},
   "outputs": [],
   "source": [
    "y_pred = model.predict(X_test)"
   ]
  },
  {
   "cell_type": "code",
   "execution_count": 49,
   "id": "eeb84b4d",
   "metadata": {},
   "outputs": [],
   "source": [
    "accuracy = accuracy_score(y_test, y_pred)"
   ]
  },
  {
   "cell_type": "code",
   "execution_count": 50,
   "id": "8b69892e",
   "metadata": {},
   "outputs": [
    {
     "name": "stdout",
     "output_type": "stream",
     "text": [
      "0.5273972602739726\n"
     ]
    }
   ],
   "source": [
    "print(accuracy)"
   ]
  },
  {
   "cell_type": "code",
   "execution_count": 74,
   "id": "b0643988",
   "metadata": {},
   "outputs": [],
   "source": [
    "cm = confusion_matrix(y_test, y_pred)"
   ]
  },
  {
   "cell_type": "code",
   "execution_count": 75,
   "id": "df816d83",
   "metadata": {},
   "outputs": [],
   "source": [
    "cmDF = pd.DataFrame(cm,\n",
    "                     index = ['Control','MCI','AD'], \n",
    "                     columns = ['Control','MCI','AD'])"
   ]
  },
  {
   "cell_type": "code",
   "execution_count": 76,
   "id": "f56de160",
   "metadata": {},
   "outputs": [
    {
     "data": {
      "image/png": "[encoded data removed]",
      "text/plain": [
       "<Figure size 500x400 with 2 Axes>"
      ]
     },
     "metadata": {},
     "output_type": "display_data"
    }
   ],
   "source": [
    "# plotting the confusion matrix to represent the preformance of Random Forest Model\n",
    "plt.figure(figsize=(5,4))\n",
    "sns.heatmap(cmDF, annot=True)\n",
    "plt.title('Confusion Matrix')\n",
    "plt.ylabel('Actual Values')\n",
    "plt.xlabel('Predicted Values')\n",
    "plt.show()"
   ]
  },
  {
   "cell_type": "code",
   "execution_count": null,
   "id": "aadc8249",
   "metadata": {},
   "outputs": [],
   "source": []
  },
  {
   "cell_type": "code",
   "execution_count": 51,
   "id": "5b063578",
   "metadata": {},
   "outputs": [],
   "source": [
    "lowHighGeneSymbolBasedOnCV = {}\n",
    "\n",
    "for index, row in geneMetrics.iterrows():\n",
    "    mcv = geneMetrics.at[index, 'Mean CV']\n",
    "    key = geneMetrics.at[index, 'Gene Symbol']\n",
    "    if mcv > 0.35:\n",
    "        lowHighGeneSymbolBasedOnCV[key] = 1\n",
    "    else:\n",
    "        lowHighGeneSymbolBasedOnCV[key] = 1"
   ]
  },
  {
   "cell_type": "code",
   "execution_count": 52,
   "id": "3183308c",
   "metadata": {},
   "outputs": [],
   "source": [
    "columns =  set(finalDataFrame.columns)\n",
    "idxs = finalDataFrame[\"IID\"]"
   ]
  },
  {
   "cell_type": "code",
   "execution_count": 53,
   "id": "84674ecd",
   "metadata": {},
   "outputs": [],
   "source": [
    "dic = defaultdict(list)\n",
    "for idx in idxs:\n",
    "    for col in columns:\n",
    "        res = keyDictionary.get((idx, col))\n",
    "        if res:\n",
    "            if lowHighGeneSymbolBasedOnCV[col] == 0:\n",
    "                dic[col].append(np.mean(res))\n",
    "            else:\n",
    "                dic[col].append(np.median(res))\n",
    "lastBasedOnCV = pd.DataFrame(dic)"
   ]
  },
  {
   "cell_type": "code",
   "execution_count": 54,
   "id": "688498c5",
   "metadata": {},
   "outputs": [],
   "source": [
    "original_col = finalDataFrame.columns\n",
    "new_colBasedOnCV = lastBasedOnCV.columns\n",
    "disjointBasedOnCV = [i for i in original_col if i not in new_colBasedOnCV]\n",
    "lastBasedOnCV = lastBasedOnCV.merge(finalDataFrame[disjointBasedOnCV], left_index=True, right_index=True)"
   ]
  },
  {
   "cell_type": "code",
   "execution_count": 55,
   "id": "cb7fe2ca",
   "metadata": {},
   "outputs": [
    {
     "name": "stdout",
     "output_type": "stream",
     "text": [
      "80\n",
      "0\n"
     ]
    }
   ],
   "source": [
    "lastBasedOnCV.replace(\"\", np.nan, inplace=True)\n",
    "print(sum(lastBasedOnCV.isna().sum()))\n",
    "lastBasedOnCV = lastBasedOnCV[lastBasedOnCV[\"Phenotype\"].notna()].reset_index(drop=True)\n",
    "print(sum(lastBasedOnCV.isna().sum()))"
   ]
  },
  {
   "cell_type": "code",
   "execution_count": 56,
   "id": "c5b32509",
   "metadata": {},
   "outputs": [],
   "source": [
    "for col in lastBasedOnCV.columns:\n",
    "    if (\n",
    "        any(lastBasedOnCV[col].isna())\n",
    "        and lastBasedOnCV[col].isna().value_counts().to_dict().get(True) / len(lastBasedOnCV[col])\n",
    "        > 0.90\n",
    "    ):\n",
    "        print(col)\n",
    "        lastBasedOnCV = lastBasedOnCV.drop(col, axis=1)"
   ]
  },
  {
   "cell_type": "code",
   "execution_count": 57,
   "id": "96d3f6c8",
   "metadata": {},
   "outputs": [],
   "source": [
    "featuresBasedOnCV = lastBasedOnCV.drop('Phenotype', axis = 1)\n",
    "targetBasedOnCV = lastBasedOnCV['Phenotype']\n",
    "featuresBasedOnCV = featuresBasedOnCV.drop('IID', axis = 1)"
   ]
  },
  {
   "cell_type": "code",
   "execution_count": 58,
   "id": "76c1b2d7",
   "metadata": {},
   "outputs": [],
   "source": [
    "lasso2 = Lasso(alpha=0.01)\n",
    "lasso2.fit(featuresBasedOnCV, targetBasedOnCV)\n",
    "selectedFeaturesBasedOnCV = featuresBasedOnCV.columns[lasso2.coef_ != 0.0]"
   ]
  },
  {
   "cell_type": "code",
   "execution_count": 59,
   "id": "05c0254b",
   "metadata": {},
   "outputs": [
    {
     "data": {
      "text/plain": [
       "318"
      ]
     },
     "execution_count": 59,
     "metadata": {},
     "output_type": "execute_result"
    }
   ],
   "source": [
    "len(selectedFeaturesBasedOnCV)"
   ]
  },
  {
   "cell_type": "code",
   "execution_count": 90,
   "id": "b12a6f20",
   "metadata": {},
   "outputs": [],
   "source": [
    "X2 = lastBasedOnCV[selectedFeaturesBasedOnCV]\n",
    "y2 = lastBasedOnCV['Phenotype']"
   ]
  },
  {
   "cell_type": "code",
   "execution_count": 91,
   "id": "775a8750",
   "metadata": {},
   "outputs": [],
   "source": [
    "X_train2, X_test2, y_train2, y_test2 = train_test_split(X2, y2, test_size=0.2, random_state=42)"
   ]
  },
  {
   "cell_type": "code",
   "execution_count": 92,
   "id": "22b4ee70",
   "metadata": {},
   "outputs": [],
   "source": [
    "scaler2 = StandardScaler()\n",
    "X_train2 = scaler2.fit_transform(X_train2)\n",
    "X_test2 = scaler2.transform(X_test2)"
   ]
  },
  {
   "cell_type": "code",
   "execution_count": 93,
   "id": "2c452627",
   "metadata": {},
   "outputs": [],
   "source": [
    "y_train2 = y_train2.values\n",
    "y_test2 = y_test2.values"
   ]
  },
  {
   "cell_type": "code",
   "execution_count": 94,
   "id": "e8a3e4f0",
   "metadata": {},
   "outputs": [],
   "source": [
    "y_train2 = y_train2.astype(np.int)\n",
    "y_test2 = y_test2.astype(np.int)"
   ]
  },
  {
   "cell_type": "code",
   "execution_count": 95,
   "id": "e7b0756e",
   "metadata": {},
   "outputs": [],
   "source": [
    "model2 = RandomForestClassifier(n_estimators=150, max_depth=3, max_features=None, max_leaf_nodes=9, random_state=42)"
   ]
  },
  {
   "cell_type": "code",
   "execution_count": 96,
   "id": "8de7c7db",
   "metadata": {},
   "outputs": [
    {
     "data": {
      "text/html": [
       "<style>#sk-container-id-3 {color: black;}#sk-container-id-3 pre{padding: 0;}#sk-container-id-3 div.sk-toggleable {background-color: white;}#sk-container-id-3 label.sk-toggleable__label {cursor: pointer;display: block;width: 100%;margin-bottom: 0;padding: 0.3em;box-sizing: border-box;text-align: center;}#sk-container-id-3 label.sk-toggleable__label-arrow:before {content: \"▸\";float: left;margin-right: 0.25em;color: #696969;}#sk-container-id-3 label.sk-toggleable__label-arrow:hover:before {color: black;}#sk-container-id-3 div.sk-estimator:hover label.sk-toggleable__label-arrow:before {color: black;}#sk-container-id-3 div.sk-toggleable__content {max-height: 0;max-width: 0;overflow: hidden;text-align: left;background-color: #f0f8ff;}#sk-container-id-3 div.sk-toggleable__content pre {margin: 0.2em;color: black;border-radius: 0.25em;background-color: #f0f8ff;}#sk-container-id-3 input.sk-toggleable__control:checked~div.sk-toggleable__content {max-height: 200px;max-width: 100%;overflow: auto;}#sk-container-id-3 input.sk-toggleable__control:checked~label.sk-toggleable__label-arrow:before {content: \"▾\";}#sk-container-id-3 div.sk-estimator input.sk-toggleable__control:checked~label.sk-toggleable__label {background-color: #d4ebff;}#sk-container-id-3 div.sk-label input.sk-toggleable__control:checked~label.sk-toggleable__label {background-color: #d4ebff;}#sk-container-id-3 input.sk-hidden--visually {border: 0;clip: rect(1px 1px 1px 1px);clip: rect(1px, 1px, 1px, 1px);height: 1px;margin: -1px;overflow: hidden;padding: 0;position: absolute;width: 1px;}#sk-container-id-3 div.sk-estimator {font-family: monospace;background-color: #f0f8ff;border: 1px dotted black;border-radius: 0.25em;box-sizing: border-box;margin-bottom: 0.5em;}#sk-container-id-3 div.sk-estimator:hover {background-color: #d4ebff;}#sk-container-id-3 div.sk-parallel-item::after {content: \"\";width: 100%;border-bottom: 1px solid gray;flex-grow: 1;}#sk-container-id-3 div.sk-label:hover label.sk-toggleable__label {background-color: #d4ebff;}#sk-container-id-3 div.sk-serial::before {content: \"\";position: absolute;border-left: 1px solid gray;box-sizing: border-box;top: 0;bottom: 0;left: 50%;z-index: 0;}#sk-container-id-3 div.sk-serial {display: flex;flex-direction: column;align-items: center;background-color: white;padding-right: 0.2em;padding-left: 0.2em;position: relative;}#sk-container-id-3 div.sk-item {position: relative;z-index: 1;}#sk-container-id-3 div.sk-parallel {display: flex;align-items: stretch;justify-content: center;background-color: white;position: relative;}#sk-container-id-3 div.sk-item::before, #sk-container-id-3 div.sk-parallel-item::before {content: \"\";position: absolute;border-left: 1px solid gray;box-sizing: border-box;top: 0;bottom: 0;left: 50%;z-index: -1;}#sk-container-id-3 div.sk-parallel-item {display: flex;flex-direction: column;z-index: 1;position: relative;background-color: white;}#sk-container-id-3 div.sk-parallel-item:first-child::after {align-self: flex-end;width: 50%;}#sk-container-id-3 div.sk-parallel-item:last-child::after {align-self: flex-start;width: 50%;}#sk-container-id-3 div.sk-parallel-item:only-child::after {width: 0;}#sk-container-id-3 div.sk-dashed-wrapped {border: 1px dashed gray;margin: 0 0.4em 0.5em 0.4em;box-sizing: border-box;padding-bottom: 0.4em;background-color: white;}#sk-container-id-3 div.sk-label label {font-family: monospace;font-weight: bold;display: inline-block;line-height: 1.2em;}#sk-container-id-3 div.sk-label-container {text-align: center;}#sk-container-id-3 div.sk-container {/* jupyter's `normalize.less` sets `[hidden] { display: none; }` but bootstrap.min.css set `[hidden] { display: none !important; }` so we also need the `!important` here to be able to override the default hidden behavior on the sphinx rendered scikit-learn.org. See: https://github.com/scikit-learn/scikit-learn/issues/21755 */display: inline-block !important;position: relative;}#sk-container-id-3 div.sk-text-repr-fallback {display: none;}</style><div id=\"sk-container-id-3\" class=\"sk-top-container\"><div class=\"sk-text-repr-fallback\"><pre>RandomForestClassifier(max_depth=3, max_features=None, max_leaf_nodes=9,\n",
       "                       n_estimators=150, random_state=42)</pre><b>In a Jupyter environment, please rerun this cell to show the HTML representation or trust the notebook. <br />On GitHub, the HTML representation is unable to render, please try loading this page with nbviewer.org.</b></div><div class=\"sk-container\" hidden><div class=\"sk-item\"><div class=\"sk-estimator sk-toggleable\"><input class=\"sk-toggleable__control sk-hidden--visually\" id=\"sk-estimator-id-3\" type=\"checkbox\" checked><label for=\"sk-estimator-id-3\" class=\"sk-toggleable__label sk-toggleable__label-arrow\">RandomForestClassifier</label><div class=\"sk-toggleable__content\"><pre>RandomForestClassifier(max_depth=3, max_features=None, max_leaf_nodes=9,\n",
       "                       n_estimators=150, random_state=42)</pre></div></div></div></div></div>"
      ],
      "text/plain": [
       "RandomForestClassifier(max_depth=3, max_features=None, max_leaf_nodes=9,\n",
       "                       n_estimators=150, random_state=42)"
      ]
     },
     "execution_count": 96,
     "metadata": {},
     "output_type": "execute_result"
    }
   ],
   "source": [
    "model2.fit(X_train2, y_train2)"
   ]
  },
  {
   "cell_type": "code",
   "execution_count": 97,
   "id": "302eeaea",
   "metadata": {},
   "outputs": [],
   "source": [
    "y_pred2 = model2.predict(X_test2)"
   ]
  },
  {
   "cell_type": "code",
   "execution_count": 98,
   "id": "049e1cd9",
   "metadata": {},
   "outputs": [],
   "source": [
    "accuracy2 = accuracy_score(y_test2, y_pred2)"
   ]
  },
  {
   "cell_type": "code",
   "execution_count": 99,
   "id": "dc171092",
   "metadata": {},
   "outputs": [
    {
     "name": "stdout",
     "output_type": "stream",
     "text": [
      "0.547945205479452\n"
     ]
    }
   ],
   "source": [
    "print(accuracy2)"
   ]
  },
  {
   "cell_type": "code",
   "execution_count": 100,
   "id": "d31361e1",
   "metadata": {},
   "outputs": [],
   "source": [
    "cm2 = confusion_matrix(y_test2, y_pred2)"
   ]
  },
  {
   "cell_type": "code",
   "execution_count": 101,
   "id": "0f16cdee",
   "metadata": {},
   "outputs": [],
   "source": [
    "cmDF2 = pd.DataFrame(cm2,\n",
    "                     index = ['Control','MCI','AD'], \n",
    "                     columns = ['Control','MCI','AD'])"
   ]
  },
  {
   "cell_type": "code",
   "execution_count": 102,
   "id": "a68f7aa0",
   "metadata": {},
   "outputs": [
    {
     "data": {
      "image/png": "[encoded data removed]",
      "text/plain": [
       "<Figure size 500x400 with 2 Axes>"
      ]
     },
     "metadata": {},
     "output_type": "display_data"
    }
   ],
   "source": [
    "# plotting the confusion matrix to represent the preformance of Random Forest Model\n",
    "plt.figure(figsize=(5,4))\n",
    "sns.heatmap(cmDF2, annot=True)\n",
    "plt.title('Confusion Matrix')\n",
    "plt.ylabel('Actual Values')\n",
    "plt.xlabel('Predicted Values')\n",
    "plt.show()"
   ]
  },
  {
   "cell_type": "code",
   "execution_count": 103,
   "id": "096fb65e",
   "metadata": {},
   "outputs": [],
   "source": [
    "selectedFeaturesBasedOnStdList = selectedFeaturesBasedOnStd.tolist()\n",
    "selectedFeaturesBasedOnCVList = selectedFeaturesBasedOnCV.tolist()"
   ]
  },
  {
   "cell_type": "code",
   "execution_count": 104,
   "id": "9766007b",
   "metadata": {},
   "outputs": [
    {
     "name": "stdout",
     "output_type": "stream",
     "text": [
      "322\n",
      "318\n"
     ]
    }
   ],
   "source": [
    "print(len(selectedFeaturesBasedOnStdList))\n",
    "print(len(selectedFeaturesBasedOnCVList))"
   ]
  },
  {
   "cell_type": "code",
   "execution_count": 105,
   "id": "9fad1c19",
   "metadata": {},
   "outputs": [],
   "source": [
    "inBothList = 0\n",
    "\n",
    "for feature in selectedFeaturesBasedOnStdList:\n",
    "    if feature in selectedFeaturesBasedOnCVList:\n",
    "        inBothList += 1\n",
    "        \n",
    "onlyInFirstList = len(selectedFeaturesBasedOnStdList) - inBothList\n",
    "onlyInSecondList = len(selectedFeaturesBasedOnCVList) - inBothList"
   ]
  },
  {
   "cell_type": "code",
   "execution_count": 106,
   "id": "8fcdc7b3",
   "metadata": {},
   "outputs": [
    {
     "data": {
      "image/png": "[encoded data removed]",
      "text/plain": [
       "<Figure size 640x480 with 1 Axes>"
      ]
     },
     "metadata": {},
     "output_type": "display_data"
    }
   ],
   "source": [
    "# depict venn diagram \n",
    "venn2(subsets=(onlyInFirstList, onlyInSecondList, inBothList),  \n",
    "      set_labels=('Selected Feautres Preprocessed based on Mean STD', 'Selected Feautres Preprocessed based on Mean CV'), \n",
    "      set_colors=(\"orange\", \"blue\"), alpha=.7) \n",
    "  \n",
    "# add outline \n",
    "venn2_circles(subsets=(onlyInFirstList, onlyInSecondList, inBothList),  \n",
    "              linestyle=\"dashed\",  \n",
    "              linewidth=2) \n",
    "  \n",
    "\n",
    "# assign title of the venn diagram \n",
    "plt.title(\"Venn Diagram representing features selected by Lasso preprocessed based on Mean STD and Mean CV\")   \n",
    "plt.show()"
   ]
  },
  {
   "cell_type": "code",
   "execution_count": 107,
   "id": "1a19a5b1",
   "metadata": {},
   "outputs": [
    {
     "name": "stdout",
     "output_type": "stream",
     "text": [
      "TMX3\n",
      "WLS\n",
      "RBPMS2\n",
      "FXYD6-FXYD2 || FXYD2\n",
      "CACUL1\n",
      "PPAT\n",
      "SPRY1\n",
      "ZNF25\n",
      "RALGPS2\n",
      "HEY1\n",
      "HSPA1B\n",
      "BTNL8\n",
      "AK5\n",
      "ADK\n",
      "FAM118A\n",
      "RAP1GAP2\n",
      "SFMBT2\n",
      "ZNF397\n",
      "ANGPTL1\n",
      "AKR1C1\n",
      "XIST\n",
      "MRP63\n",
      "GALNT14\n",
      "BNIP1\n",
      "FAM122B\n",
      "ICA1\n",
      "HIP1\n",
      "SRD5A3\n",
      "KCTD20\n",
      "LOC391322\n",
      "FGFR1OP\n",
      "HP\n",
      "DBP\n",
      "CLEC4F\n",
      "FMNL2\n",
      "TCL1A\n",
      "BTNL3\n",
      "ITGB1\n",
      "INPP4B\n",
      "STAG3\n",
      "ERAP2\n",
      "S100B\n",
      "LOC100653194 || SIRPB1\n",
      "PLB1\n",
      "FBXL13\n",
      "FMN1\n",
      "RHCE || RHD\n",
      "EMR2\n",
      "HLA-DQA1\n",
      "GSTM4\n",
      "POLR2A\n",
      "TNNT1\n",
      "PSPH\n",
      "CD160\n",
      "SMAD5\n",
      "RPP30\n",
      "USP53\n",
      "CCNE2\n",
      "ABAT\n",
      "C19ORF35\n",
      "DCLK2\n",
      "CD177\n",
      "MPZL2\n",
      "IFT88\n",
      "CCR3\n",
      "RTCA\n",
      "BACE2\n",
      "TRIM66\n",
      "OLFM4\n",
      "TMEM159\n",
      "TMEM168\n",
      "TSC22D1\n",
      "CLCN3\n",
      "OLFM1\n",
      "PIGR\n",
      "TMEM45B\n",
      "ADPRH\n",
      "TRNP1\n",
      "FAS\n",
      "SH3YL1\n",
      "NEK7\n",
      "PPP2R2B\n",
      "FRMD3\n",
      "ABCC13\n",
      "VEPH1\n",
      "H2AFJ\n",
      "STK17A\n",
      "FAM46C\n",
      "NKX3-1\n",
      "RPL22L1\n",
      "CA1\n",
      "ZNF136\n",
      "HLA-C\n",
      "TMEM144\n",
      "ABCA5\n",
      "EGR1\n",
      "MT1G\n",
      "PFN1P2\n",
      "HBEGF\n",
      "DSC2\n",
      "GPR34\n",
      "TWSG1\n",
      "ETV7\n",
      "PEX6\n",
      "TARSL2\n",
      "CEACAM8\n",
      "ZNF23\n",
      "STIL\n",
      "FAM3C\n",
      "SLC22A15\n",
      "P2RY14\n",
      "CLEC4C\n",
      "AFF3\n",
      "FAM19A2\n",
      "CXCL5\n",
      "LOC101929373 || SLC9B1\n",
      "SERINC2\n",
      "ANKRD36 || ANKRD36B\n",
      "VNN1\n",
      "NAIP\n",
      "EMC1\n",
      "PTPRN2\n",
      "HAL\n",
      "IFI27\n",
      "ZNF880\n",
      "PRKAB2\n",
      "PRDM1\n",
      "RAB28\n",
      "PISD\n",
      "ALDH8A1\n",
      "SETBP1\n",
      "MILR1\n",
      "PIKFYVE\n",
      "TSC22D2\n",
      "CHST13\n",
      "GSTM3\n",
      "ENSG00000211789\n",
      "ARMCX1\n",
      "ZNF621\n",
      "SCGB1C1 || LOC653486\n",
      "EXOC8\n",
      "ITGB1BP1\n",
      "CCNE1\n",
      "H3F3C\n",
      "IFITM3\n",
      "UGT2B11\n",
      "ST8SIA1\n",
      "C3\n",
      "JUP\n",
      "RPS4Y1\n",
      "SERPINB2\n",
      "CCNB2\n",
      "NDN\n",
      "S100P\n",
      "CRYZ\n",
      "C11ORF96\n",
      "BUB1B\n",
      "HLA-DRB5\n",
      "MYL4\n",
      "TPD52L1\n",
      "ZNF629\n",
      "ZNF787\n",
      "RPRM\n",
      "SMN2\n",
      "GATA6\n",
      "KRT1\n",
      "PRSS21\n",
      "TMEM158\n",
      "HOXB2\n",
      "MYOM2\n",
      "NFXL1\n",
      "ASB2\n",
      "CTSL\n",
      "SCGB3A2\n",
      "BEAN1\n",
      "S1PR3\n",
      "KIAA1683\n",
      "HBZ\n",
      "C17ORF96\n",
      "LEPR\n",
      "C15ORF41\n",
      "FBXL8\n",
      "CCDC66\n",
      "RBBP8\n",
      "TWIST1\n",
      "RFXAP\n",
      "HPD\n",
      "MTERF\n",
      "BLNK\n",
      "RPGRIP1\n",
      "BPI\n",
      "LOC100509764 || KRT86\n",
      "PHYH\n",
      "JAKMIP2\n",
      "DCLRE1A\n",
      "RGPD1\n",
      "KIAA1024\n",
      "LILRA3\n",
      "LOC101928771 || BTN3A2\n",
      "C1ORF172\n",
      "ESPN\n",
      "EPSTI1\n",
      "FIGNL2\n",
      "CYP27A1\n",
      "ISL2\n",
      "CLECL1\n",
      "KPNA5\n",
      "SELRC1\n",
      "HGD\n",
      "SLC24A5\n",
      "WRN\n",
      "TVP23C\n",
      "SEC14L5\n",
      "APOBEC3A_B || APOBEC3B\n",
      "USF1\n",
      "CA2\n",
      "TMEM164\n",
      "TMED6\n",
      "SPTA1\n",
      "GLYATL2\n",
      "RFPL3 || RFPL2\n",
      "TMEM252\n",
      "SPATA24\n",
      "ZNF16\n",
      "RNASE3\n",
      "ZNF70\n",
      "GNG8\n",
      "PTGR1\n",
      "TNFRSF18\n",
      "XCL1\n",
      "LYPD2\n",
      "THEM5\n",
      "IRX4\n",
      "ZNF124\n",
      "IFIT1B\n",
      "TAS2R20\n",
      "TIAM2\n",
      "TIGD1\n",
      "RNF182\n",
      "KIR2DS2 || LOC100996743 || KIR2DL3 || KIR2DS1 || KIR2DS4\n",
      "DNAAF1\n",
      "ERV3-1 || ZNF117\n",
      "PPIAL4A\n",
      "LIPN\n",
      "OR1J1\n",
      "NFE4\n",
      "ZNF253\n",
      "GINS3\n",
      "DSC1\n",
      "KRT72\n",
      "HEPHL1\n",
      "LAIR1 || LAIR2\n",
      "RGPD4 || RGPD3 || RGPD8 || RGPD6 || RGPD5 || GCC2\n",
      "NUGGC\n",
      "P2RY10\n",
      "GPR89B || GPR89C\n",
      "RFPL4A || RFPL4AL1\n",
      "HIST1H1C\n",
      "FBLN5\n",
      "LRRC6\n",
      "CTSE\n",
      "NARS2\n",
      "APITD1-CORT || APITD1\n",
      "INIP\n",
      "DDIT4\n",
      "CD72\n",
      "HYI\n",
      "CCL4L2 || CCL4L1\n",
      "DLEU2L || DLEU2\n",
      "MGC39372*\n",
      "LHPP\n",
      "LOC100271836 || LOC101060386 || SMG1 || LOC440354 || LOC595101 || SMG1P1\n",
      "TDG || LOC732360\n",
      "DNASE1L3\n",
      "SVILP1\n",
      "SFXN4\n",
      "GSTM1 || GSTM4\n",
      "LOC101928705 || CCDC91\n",
      "BEGAIN\n",
      "PXDC1\n",
      "C17ORF97\n",
      "TTC12\n",
      "PLGLA || PLGLB2 || PLGLB1\n",
      "RNASE2 || ECRP*\n",
      "HLA-DRB4\n",
      "ENSG00000206239 || ENSG00000206305 || ENSG00000257473\n",
      "RCL1\n",
      "IPW\n",
      "CHI3L1\n",
      "TPST1\n",
      "BLM\n",
      "LOC100509445 || OVOS2* || LOC728715\n",
      "MAFIP\n",
      "PTGDS\n",
      "FAM206A\n",
      "ASIC3\n",
      "SNORA9\n",
      "SNORA72\n",
      "LMLN\n",
      "LOC202181\n",
      "IFI27L1\n",
      "LINC00266-1 || LINC01000\n",
      "C1GALT1\n",
      "ARL17A\n",
      "ENSG00000240834 || ENSG00000243290\n",
      "LOC100130428\n",
      "LOC254896\n",
      "ENSG00000236406 || ENSG00000239618 || ENSG00000241166 || ENSG00000242227 || ENSG00000243492 || HLA-L || ENSG00000244721\n",
      "ENSG00000254473\n",
      "CALCRL || ENSG00000213952\n",
      "ENSG00000211803\n",
      "ENSG00000211861 || ENSG00000229164\n",
      "ENSG00000211797\n",
      "CATR1\n",
      "LOC101927618\n",
      "ENSG00000211776\n",
      "ENSG00000211716 || ENSG00000261031\n",
      "ENSG00000211638\n",
      "LOC100505946\n",
      "LOC101929125\n",
      "SNORA16B\n",
      "Age\n"
     ]
    }
   ],
   "source": [
    "for feature in selectedFeaturesBasedOnStdList:\n",
    "    print(feature)"
   ]
  },
  {
   "cell_type": "code",
   "execution_count": 108,
   "id": "128e5ae0",
   "metadata": {},
   "outputs": [
    {
     "name": "stdout",
     "output_type": "stream",
     "text": [
      "WLS\n",
      "PAM\n",
      "PTPN12\n",
      "RBPMS2\n",
      "FXYD6-FXYD2 || FXYD2\n",
      "CACUL1\n",
      "PPAT\n",
      "SPRY1\n",
      "HEY1\n",
      "HSPA1B\n",
      "BTNL8\n",
      "VANGL1\n",
      "AK5\n",
      "ADK\n",
      "C9ORF84\n",
      "FAM118A\n",
      "AQP3\n",
      "RAP1GAP2\n",
      "ZNF397\n",
      "ANGPTL1\n",
      "AKR1C1\n",
      "KDM4C\n",
      "XIST\n",
      "GALNT14\n",
      "BNIP1\n",
      "FAM122B\n",
      "CACNB4\n",
      "PROS1\n",
      "SRD5A3\n",
      "KCTD20\n",
      "LOC391322\n",
      "FGFR1OP\n",
      "HP\n",
      "C10ORF32-ASMT || AS3MT\n",
      "DBP\n",
      "FCGR2B\n",
      "FMNL2\n",
      "TCL1A\n",
      "BTNL3\n",
      "INPP4B\n",
      "STAG3\n",
      "S100B\n",
      "METTL6\n",
      "LOC100653194 || SIRPB1\n",
      "FBXL13\n",
      "FMN1\n",
      "EMR2\n",
      "HLA-DQA1\n",
      "GSTM4\n",
      "IFT74\n",
      "POLR2A\n",
      "TNNT1\n",
      "PSPH\n",
      "GID8\n",
      "WDFY3\n",
      "DLD\n",
      "ADAT2\n",
      "KIAA1841\n",
      "ZNF326\n",
      "CD160\n",
      "SMAD5\n",
      "RPP30\n",
      "CCNE2\n",
      "ABAT\n",
      "C19ORF35\n",
      "P21*\n",
      "CD177\n",
      "MPZL2\n",
      "IFT88\n",
      "ZSCAN12\n",
      "KANK1\n",
      "CCR3\n",
      "ETV3\n",
      "BACE2\n",
      "TRIM66\n",
      "OLFM4\n",
      "TMEM159\n",
      "TMEM168\n",
      "CLCN3\n",
      "COL6A3\n",
      "OLFM1\n",
      "C20ORF197\n",
      "FBXW8\n",
      "PIGR\n",
      "TMEM45B\n",
      "ADPRH\n",
      "WARS\n",
      "TRNP1\n",
      "KIAA1407\n",
      "FAS\n",
      "SH3YL1\n",
      "RFPL2\n",
      "PPP2R2B\n",
      "LOC101928218 || SMIM13\n",
      "FRMD3\n",
      "ABCC13\n",
      "PRH1* || PRR4\n",
      "H2AFJ\n",
      "APOD\n",
      "STK17A\n",
      "BTN3A2\n",
      "FAM46C\n",
      "CD3EAP\n",
      "CA1\n",
      "HLA-C\n",
      "TMEM144\n",
      "EGR1\n",
      "MT1G\n",
      "HBEGF\n",
      "EFNA5\n",
      "DSC2\n",
      "NLN\n",
      "GPR34\n",
      "ZFP1\n",
      "TWSG1\n",
      "ETV7\n",
      "PEX6\n",
      "TARSL2\n",
      "ELOVL7\n",
      "CEACAM8\n",
      "ZNF23\n",
      "FAM3C\n",
      "SLC22A15\n",
      "P2RY14\n",
      "CLEC4C\n",
      "MYEF2\n",
      "FAM19A2\n",
      "PCDH9\n",
      "CXCL5\n",
      "LOC101929373 || SLC9B1\n",
      "TUBB2A\n",
      "WDR92\n",
      "SERINC2\n",
      "ANKRD36 || ANKRD36B\n",
      "VNN1\n",
      "ASXL2\n",
      "NAIP\n",
      "HAL\n",
      "IFI27\n",
      "ZNF880\n",
      "PRKAB2\n",
      "PRDM1\n",
      "RUNDC3A\n",
      "RAB28\n",
      "PISD\n",
      "ALDH8A1\n",
      "SETBP1\n",
      "MILR1\n",
      "MAPK13\n",
      "TSC22D2\n",
      "CHST13\n",
      "GSTM3\n",
      "ENSG00000211789\n",
      "FSTL3\n",
      "ARMCX1\n",
      "ZNF621\n",
      "TNIK\n",
      "CENPA\n",
      "SCGB1C1 || LOC653486\n",
      "ITGB1BP1\n",
      "H3F3C\n",
      "IFITM3\n",
      "ST8SIA1\n",
      "C3\n",
      "JUP\n",
      "RPS4Y1\n",
      "SERPINB2\n",
      "CCNB2\n",
      "NDN\n",
      "S100P\n",
      "AURKA\n",
      "CRYZ\n",
      "C11ORF96\n",
      "HLA-DRB5\n",
      "MYL4\n",
      "ZNF629\n",
      "ZNF787\n",
      "SMN2\n",
      "GATA6\n",
      "KRT1\n",
      "PRSS21\n",
      "TMEM158\n",
      "HOXB2\n",
      "MYOM2\n",
      "NFXL1\n",
      "ASB2\n",
      "CTSL\n",
      "SCGB3A2\n",
      "BEX5\n",
      "S1PR3\n",
      "KIAA1683\n",
      "C2ORF40\n",
      "C17ORF96\n",
      "LEPR\n",
      "C15ORF41\n",
      "FBXL8\n",
      "C7ORF61\n",
      "RBBP8\n",
      "TWIST1\n",
      "RFXAP\n",
      "HPD\n",
      "BLNK\n",
      "BPI\n",
      "LOC100509764 || KRT86\n",
      "PHYH\n",
      "SIGLEC5\n",
      "DCLRE1A\n",
      "RGPD1\n",
      "KIAA1024\n",
      "LILRA3\n",
      "C1ORF172\n",
      "ESPN\n",
      "EPSTI1\n",
      "FIGNL2\n",
      "CYP27A1\n",
      "ISL2\n",
      "KPNA5\n",
      "HGD\n",
      "APOBEC3A_B || APOBEC3B\n",
      "APOBEC3B\n",
      "USF1\n",
      "CA2\n",
      "TMEM164\n",
      "NUDT7\n",
      "FGGY\n",
      "SPTA1\n",
      "GLYATL2\n",
      "RFPL3 || RFPL2\n",
      "TMEM252\n",
      "SPATA24\n",
      "UTS2\n",
      "RNASE3\n",
      "ALS2CR11\n",
      "PTGR1\n",
      "TNFRSF18\n",
      "XCL1\n",
      "LYPD2\n",
      "THEM5\n",
      "IRX4\n",
      "GCSAML\n",
      "TAS2R20\n",
      "TIAM2\n",
      "TIGD1\n",
      "RNF182\n",
      "ERV3-1 || ZNF117\n",
      "PPIAL4A\n",
      "LIPN\n",
      "NFE4\n",
      "ZNF253\n",
      "GINS3\n",
      "DSC1\n",
      "KRT72\n",
      "HEPHL1\n",
      "LAIR1 || LAIR2\n",
      "RGPD4 || RGPD3 || RGPD8 || RGPD6 || RGPD5 || GCC2\n",
      "NUGGC\n",
      "P2RY10\n",
      "GPR89B || GPR89C\n",
      "RFPL4A || RFPL4AL1\n",
      "HIST1H1C\n",
      "LRRC6\n",
      "CTSE\n",
      "ALMS1\n",
      "APITD1-CORT || APITD1\n",
      "DDIT4\n",
      "HYI\n",
      "CCL4L2 || CCL4L1\n",
      "DLEU2L || DLEU2\n",
      "MGC39372*\n",
      "LHPP\n",
      "LOC100271836 || LOC101060386 || SMG1 || LOC440354 || LOC595101 || SMG1P1\n",
      "TDG || LOC732360\n",
      "SVILP1\n",
      "SFXN4\n",
      "GSTM1 || GSTM4\n",
      "LOC101928705 || CCDC91\n",
      "BEGAIN\n",
      "PXDC1\n",
      "C17ORF97\n",
      "TTC12\n",
      "PLGLA || PLGLB2 || PLGLB1\n",
      "RNASE2 || ECRP*\n",
      "ENSG00000206239 || ENSG00000206305 || ENSG00000257473\n",
      "IPW\n",
      "CHI3L1\n",
      "TPST1\n",
      "BLM\n",
      "LOC100509445 || OVOS2* || LOC728715\n",
      "MAFIP\n",
      "PTGDS\n",
      "CASP8AP2\n",
      "SNORA9\n",
      "SNORA72\n",
      "RNF149 || SNORD89\n",
      "LOC202181\n",
      "IFI27L1\n",
      "LINC00266-1 || LINC01000\n",
      "C1GALT1\n",
      "ARL17A\n",
      "SGK494*\n",
      "ENSG00000240834 || ENSG00000243290\n",
      "LOC100130428\n",
      "LOC254896\n",
      "ENSG00000236406 || ENSG00000239618 || ENSG00000241166 || ENSG00000242227 || ENSG00000243492 || HLA-L || ENSG00000244721\n",
      "ENSG00000254473\n",
      "CALCRL || ENSG00000213952\n",
      "ENSG00000211803\n",
      "ENSG00000211861 || ENSG00000229164\n",
      "ENSG00000211797\n",
      "CATR1\n",
      "LOC101927618\n",
      "ENSG00000211776\n",
      "ENSG00000211638\n",
      "LOC100505946\n",
      "LOC101929125\n",
      "SNORA16B\n",
      "LOC101927057\n",
      "Age\n"
     ]
    }
   ],
   "source": [
    "for feature in selectedFeaturesBasedOnCVList:\n",
    "    print(feature)"
   ]
  },
  {
   "cell_type": "code",
   "execution_count": null,
   "id": "3709467d",
   "metadata": {},
   "outputs": [],
   "source": []
  }
 ],
 "metadata": {
  "kernelspec": {
   "display_name": "Python 3 (ipykernel)",
   "language": "python",
   "name": "python3"
  },
  "language_info": {
   "codemirror_mode": {
    "name": "ipython",
    "version": 3
   },
   "file_extension": ".py",
   "mimetype": "text/x-python",
   "name": "python",
   "nbconvert_exporter": "python",
   "pygments_lexer": "ipython3",
   "version": "3.11.4"
  }
 },
 "nbformat": 4,
 "nbformat_minor": 5
}
