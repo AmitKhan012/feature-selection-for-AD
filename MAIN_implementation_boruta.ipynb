{
 "cells": [
  {
   "cell_type": "code",
   "execution_count": 4,
   "id": "1fb2c6cb",
   "metadata": {},
   "outputs": [],
   "source": [
    "import warnings\n",
    "warnings.filterwarnings('ignore')"
   ]
  },
  {
   "cell_type": "code",
   "execution_count": 5,
   "id": "0f622b37",
   "metadata": {},
   "outputs": [],
   "source": [
    "import pandas as pd\n",
    "import pickle\n",
    "import statistics\n",
    "import numpy as np\n",
    "from sklearn.preprocessing import MinMaxScaler\n",
    "from sklearn.preprocessing import StandardScaler\n",
    "from boruta import BorutaPy\n",
    "from sklearn.ensemble import RandomForestClassifier\n",
    "from collections import defaultdict\n",
    "from sklearn.model_selection import train_test_split\n",
    "from sklearn.metrics import confusion_matrix\n",
    "from sklearn.model_selection import GridSearchCV\n",
    "from sklearn.metrics import accuracy_score\n",
    "import matplotlib.pyplot as plt\n",
    "import seaborn as sns"
   ]
  },
  {
   "cell_type": "code",
   "execution_count": 6,
   "id": "3630ab79",
   "metadata": {},
   "outputs": [],
   "source": [
    "# loading the dataset which has the features (gene symbol)\n",
    "file_path = 'dataset/ADNI_Gene_Expression_Profile.csv'\n",
    "df1 = pd.read_csv(file_path)\n",
    "\n",
    "# loading the dataset with targets (phenotype)\n",
    "file_path = 'dataset/Complete_ADNI_clinical_info.csv'\n",
    "df2 = pd.read_csv(file_path)\n",
    "\n",
    "col = df1.columns[3:747]\n",
    "# print(len(c))\n",
    "sampleList = []\n",
    "for c in col:\n",
    "    sample = df1.loc[:, c]\n",
    "    sample = sample.tolist()\n",
    "    sampleList.append(sample)\n",
    "\n",
    "tem_col = list(df1['Unnamed: 2'])\n",
    "tem_col[1] = 'IID'\n",
    "\n",
    "# final step of making the finalDataFrameWithoutDemographic\n",
    "finalDataFrame = pd.DataFrame(sampleList, columns=tem_col)\n",
    "finalDataFrame = finalDataFrame.loc[:, finalDataFrame.columns.notna()]\n",
    "finalDataFrame = finalDataFrame.drop(columns=['Symbol'])\n",
    "\n",
    "finalDataFrame['Phenotype'] = \"\"\n",
    "finalDataFrame['Age'] = \"\"\n",
    "finalDataFrame['Gender'] = \"\"\n",
    "finalDataFrame['Ethnicity'] = \"\"\n",
    "finalDataFrame['Race'] = \"\"\n",
    "\n",
    "for index, row in finalDataFrame.iterrows():\n",
    "    patientID = finalDataFrame.at[index, 'IID']\n",
    "    # cell_value = df.at[row_number, column_name]\n",
    "    #print(\"P ID: \", patient)\n",
    "    for index2, row2 in df2.iterrows():\n",
    "        if df2.at[index2, 'IID'] == patientID:\n",
    "            finalDataFrame.at[index, 'Phenotype'] = df2.at[index2, 'Phenotype']\n",
    "            finalDataFrame.at[index, 'Age'] = df2.at[index2, 'Age']\n",
    "            finalDataFrame.at[index, 'Gender'] = df2.at[index2, 'Gender']\n",
    "            finalDataFrame.at[index, 'Ethnicity'] = df2.at[index2, 'Ethnicity']\n",
    "            finalDataFrame.at[index, 'Race'] = df2.at[index2, 'Race']"
   ]
  },
  {
   "cell_type": "code",
   "execution_count": 4,
   "id": "fba330d2",
   "metadata": {},
   "outputs": [],
   "source": [
    "# finalDataFrame.head()"
   ]
  },
  {
   "cell_type": "code",
   "execution_count": 5,
   "id": "08b528b2",
   "metadata": {},
   "outputs": [],
   "source": [
    "pickle_file_name = 'keyDictionaryPickel.pickle'\n",
    "with open(pickle_file_name, 'rb') as file:\n",
    "    keyDictionary = pickle.load(file)"
   ]
  },
  {
   "cell_type": "code",
   "execution_count": 6,
   "id": "539b9131",
   "metadata": {},
   "outputs": [],
   "source": [
    "columns =  set(finalDataFrame.columns)\n",
    "idxs = finalDataFrame[\"IID\"]"
   ]
  },
  {
   "cell_type": "code",
   "execution_count": 7,
   "id": "78b88f3b",
   "metadata": {},
   "outputs": [],
   "source": [
    "dic = defaultdict(list)\n",
    "for idx in idxs:\n",
    "    for col in columns:\n",
    "        res = keyDictionary.get((idx, col))\n",
    "        if res:\n",
    "            dic[col].append(np.mean(res))\n",
    "lastDf = pd.DataFrame(dic)"
   ]
  },
  {
   "cell_type": "code",
   "execution_count": 8,
   "id": "8698f9f5",
   "metadata": {},
   "outputs": [],
   "source": [
    "# lastDf.head()"
   ]
  },
  {
   "cell_type": "code",
   "execution_count": 9,
   "id": "142a0f6f",
   "metadata": {},
   "outputs": [],
   "source": [
    "originalCol = finalDataFrame.columns\n",
    "newCol = lastDf.columns\n",
    "disjointCol = [i for i in originalCol if i not in newCol]\n",
    "lastDf = lastDf.merge(finalDataFrame[disjointCol], left_index=True, right_index=True)"
   ]
  },
  {
   "cell_type": "code",
   "execution_count": 10,
   "id": "5b2f37b2",
   "metadata": {},
   "outputs": [
    {
     "name": "stdout",
     "output_type": "stream",
     "text": [
      "80\n",
      "0\n"
     ]
    }
   ],
   "source": [
    "lastDf.replace(\"\", np.nan, inplace=True)\n",
    "print(sum(lastDf.isna().sum()))\n",
    "lastDf = lastDf[lastDf[\"Phenotype\"].notna()].reset_index(drop=True)\n",
    "print(sum(lastDf.isna().sum()))"
   ]
  },
  {
   "cell_type": "code",
   "execution_count": 11,
   "id": "115dc214",
   "metadata": {},
   "outputs": [],
   "source": [
    "# # creating a smaller dataframe\n",
    "# c = lastDf.columns\n",
    "# c = c[19793:20094]\n",
    "# df = lastDf[c].copy()"
   ]
  },
  {
   "cell_type": "code",
   "execution_count": 12,
   "id": "71400a90",
   "metadata": {},
   "outputs": [],
   "source": [
    "# df"
   ]
  },
  {
   "cell_type": "code",
   "execution_count": 13,
   "id": "e288e71a",
   "metadata": {},
   "outputs": [],
   "source": [
    "# for col in finalDataFrame.columns:\n",
    "#     if (\n",
    "#         any(finalDataFrame[col].isna())\n",
    "#         and finalDataFrame[col].isna().value_counts().to_dict().get(True) / len(finalDataFrame[col])\n",
    "#         > 0.90\n",
    "#     ):\n",
    "#         print(col)\n",
    "#         finalDataFrame = finalDataFrame.drop(col, axis=1)"
   ]
  },
  {
   "cell_type": "code",
   "execution_count": 14,
   "id": "825d34c7",
   "metadata": {},
   "outputs": [],
   "source": [
    "features = lastDf.drop('Phenotype', axis = 1)\n",
    "features = features.drop('IID', axis = 1)\n",
    "target = lastDf['Phenotype']"
   ]
  },
  {
   "cell_type": "code",
   "execution_count": 15,
   "id": "5ac7e722",
   "metadata": {},
   "outputs": [],
   "source": [
    "dfForColumns = lastDf.drop('Phenotype', axis = 1)\n",
    "dfForColumns = dfForColumns.drop('IID', axis = 1)"
   ]
  },
  {
   "cell_type": "code",
   "execution_count": 16,
   "id": "0cf2485f",
   "metadata": {},
   "outputs": [],
   "source": [
    "# scaler = MinMaxScaler()"
   ]
  },
  {
   "cell_type": "code",
   "execution_count": 17,
   "id": "af785ab3",
   "metadata": {},
   "outputs": [],
   "source": [
    "scaler = StandardScaler()"
   ]
  },
  {
   "cell_type": "code",
   "execution_count": 18,
   "id": "a124a7a4",
   "metadata": {},
   "outputs": [],
   "source": [
    "features = scaler.fit_transform(features)"
   ]
  },
  {
   "cell_type": "code",
   "execution_count": 19,
   "id": "f88a6ff4",
   "metadata": {},
   "outputs": [
    {
     "name": "stdout",
     "output_type": "stream",
     "text": [
      "[2. 0. 2. 0. 1. 1. 0. 1. 0. 1.]\n",
      "[2 0 2 0 1 1 0 1 0 1]\n"
     ]
    }
   ],
   "source": [
    "target = target.to_numpy()\n",
    "print(target[0:10])\n",
    "# target = target.astype(int)\n",
    "target = target.astype(int)\n",
    "print(target[0:10])"
   ]
  },
  {
   "cell_type": "code",
   "execution_count": 20,
   "id": "58d3c0a1",
   "metadata": {},
   "outputs": [],
   "source": [
    "model = RandomForestClassifier(n_estimators=100, max_depth=5, random_state=42)"
   ]
  },
  {
   "cell_type": "code",
   "execution_count": 21,
   "id": "32f4d93b",
   "metadata": {},
   "outputs": [],
   "source": [
    "feat_selector = BorutaPy(\n",
    "    verbose=2,\n",
    "    estimator=model,\n",
    "    n_estimators='auto',\n",
    "    max_iter=100,  \n",
    "    random_state=42,\n",
    ")"
   ]
  },
  {
   "cell_type": "code",
   "execution_count": 22,
   "id": "c433f007",
   "metadata": {},
   "outputs": [
    {
     "name": "stdout",
     "output_type": "stream",
     "text": [
      "Iteration: \t1 / 100\n",
      "Confirmed: \t0\n",
      "Tentative: \t20096\n",
      "Rejected: \t0\n",
      "Iteration: \t2 / 100\n",
      "Confirmed: \t0\n",
      "Tentative: \t20096\n",
      "Rejected: \t0\n",
      "Iteration: \t3 / 100\n",
      "Confirmed: \t0\n",
      "Tentative: \t20096\n",
      "Rejected: \t0\n",
      "Iteration: \t4 / 100\n",
      "Confirmed: \t0\n",
      "Tentative: \t20096\n",
      "Rejected: \t0\n",
      "Iteration: \t5 / 100\n",
      "Confirmed: \t0\n",
      "Tentative: \t20096\n",
      "Rejected: \t0\n",
      "Iteration: \t6 / 100\n",
      "Confirmed: \t0\n",
      "Tentative: \t20096\n",
      "Rejected: \t0\n",
      "Iteration: \t7 / 100\n",
      "Confirmed: \t0\n",
      "Tentative: \t20096\n",
      "Rejected: \t0\n",
      "Iteration: \t8 / 100\n",
      "Confirmed: \t0\n",
      "Tentative: \t16\n",
      "Rejected: \t20080\n",
      "Iteration: \t9 / 100\n",
      "Confirmed: \t1\n",
      "Tentative: \t15\n",
      "Rejected: \t20080\n",
      "Iteration: \t10 / 100\n",
      "Confirmed: \t1\n",
      "Tentative: \t15\n",
      "Rejected: \t20080\n",
      "Iteration: \t11 / 100\n",
      "Confirmed: \t1\n",
      "Tentative: \t15\n",
      "Rejected: \t20080\n",
      "Iteration: \t12 / 100\n",
      "Confirmed: \t1\n",
      "Tentative: \t15\n",
      "Rejected: \t20080\n",
      "Iteration: \t13 / 100\n",
      "Confirmed: \t1\n",
      "Tentative: \t15\n",
      "Rejected: \t20080\n",
      "Iteration: \t14 / 100\n",
      "Confirmed: \t1\n",
      "Tentative: \t15\n",
      "Rejected: \t20080\n",
      "Iteration: \t15 / 100\n",
      "Confirmed: \t1\n",
      "Tentative: \t15\n",
      "Rejected: \t20080\n",
      "Iteration: \t16 / 100\n",
      "Confirmed: \t1\n",
      "Tentative: \t15\n",
      "Rejected: \t20080\n",
      "Iteration: \t17 / 100\n",
      "Confirmed: \t1\n",
      "Tentative: \t15\n",
      "Rejected: \t20080\n",
      "Iteration: \t18 / 100\n",
      "Confirmed: \t1\n",
      "Tentative: \t15\n",
      "Rejected: \t20080\n",
      "Iteration: \t19 / 100\n",
      "Confirmed: \t1\n",
      "Tentative: \t15\n",
      "Rejected: \t20080\n",
      "Iteration: \t20 / 100\n",
      "Confirmed: \t1\n",
      "Tentative: \t15\n",
      "Rejected: \t20080\n",
      "Iteration: \t21 / 100\n",
      "Confirmed: \t1\n",
      "Tentative: \t15\n",
      "Rejected: \t20080\n",
      "Iteration: \t22 / 100\n",
      "Confirmed: \t4\n",
      "Tentative: \t12\n",
      "Rejected: \t20080\n",
      "Iteration: \t23 / 100\n",
      "Confirmed: \t4\n",
      "Tentative: \t12\n",
      "Rejected: \t20080\n",
      "Iteration: \t24 / 100\n",
      "Confirmed: \t4\n",
      "Tentative: \t12\n",
      "Rejected: \t20080\n",
      "Iteration: \t25 / 100\n",
      "Confirmed: \t4\n",
      "Tentative: \t12\n",
      "Rejected: \t20080\n",
      "Iteration: \t26 / 100\n",
      "Confirmed: \t4\n",
      "Tentative: \t12\n",
      "Rejected: \t20080\n",
      "Iteration: \t27 / 100\n",
      "Confirmed: \t4\n",
      "Tentative: \t12\n",
      "Rejected: \t20080\n",
      "Iteration: \t28 / 100\n",
      "Confirmed: \t4\n",
      "Tentative: \t12\n",
      "Rejected: \t20080\n",
      "Iteration: \t29 / 100\n",
      "Confirmed: \t4\n",
      "Tentative: \t12\n",
      "Rejected: \t20080\n",
      "Iteration: \t30 / 100\n",
      "Confirmed: \t4\n",
      "Tentative: \t12\n",
      "Rejected: \t20080\n",
      "Iteration: \t31 / 100\n",
      "Confirmed: \t4\n",
      "Tentative: \t12\n",
      "Rejected: \t20080\n",
      "Iteration: \t32 / 100\n",
      "Confirmed: \t7\n",
      "Tentative: \t9\n",
      "Rejected: \t20080\n",
      "Iteration: \t33 / 100\n",
      "Confirmed: \t7\n",
      "Tentative: \t9\n",
      "Rejected: \t20080\n",
      "Iteration: \t34 / 100\n",
      "Confirmed: \t8\n",
      "Tentative: \t8\n",
      "Rejected: \t20080\n",
      "Iteration: \t35 / 100\n",
      "Confirmed: \t8\n",
      "Tentative: \t8\n",
      "Rejected: \t20080\n",
      "Iteration: \t36 / 100\n",
      "Confirmed: \t8\n",
      "Tentative: \t8\n",
      "Rejected: \t20080\n",
      "Iteration: \t37 / 100\n",
      "Confirmed: \t9\n",
      "Tentative: \t7\n",
      "Rejected: \t20080\n",
      "Iteration: \t38 / 100\n",
      "Confirmed: \t9\n",
      "Tentative: \t7\n",
      "Rejected: \t20080\n",
      "Iteration: \t39 / 100\n",
      "Confirmed: \t9\n",
      "Tentative: \t7\n",
      "Rejected: \t20080\n",
      "Iteration: \t40 / 100\n",
      "Confirmed: \t10\n",
      "Tentative: \t6\n",
      "Rejected: \t20080\n",
      "Iteration: \t41 / 100\n",
      "Confirmed: \t10\n",
      "Tentative: \t6\n",
      "Rejected: \t20080\n",
      "Iteration: \t42 / 100\n",
      "Confirmed: \t10\n",
      "Tentative: \t6\n",
      "Rejected: \t20080\n",
      "Iteration: \t43 / 100\n",
      "Confirmed: \t12\n",
      "Tentative: \t4\n",
      "Rejected: \t20080\n",
      "Iteration: \t44 / 100\n",
      "Confirmed: \t12\n",
      "Tentative: \t4\n",
      "Rejected: \t20080\n",
      "Iteration: \t45 / 100\n",
      "Confirmed: \t12\n",
      "Tentative: \t4\n",
      "Rejected: \t20080\n",
      "Iteration: \t46 / 100\n",
      "Confirmed: \t14\n",
      "Tentative: \t2\n",
      "Rejected: \t20080\n",
      "Iteration: \t47 / 100\n",
      "Confirmed: \t14\n",
      "Tentative: \t2\n",
      "Rejected: \t20080\n",
      "Iteration: \t48 / 100\n",
      "Confirmed: \t14\n",
      "Tentative: \t2\n",
      "Rejected: \t20080\n",
      "Iteration: \t49 / 100\n",
      "Confirmed: \t14\n",
      "Tentative: \t2\n",
      "Rejected: \t20080\n",
      "Iteration: \t50 / 100\n",
      "Confirmed: \t14\n",
      "Tentative: \t2\n",
      "Rejected: \t20080\n",
      "Iteration: \t51 / 100\n",
      "Confirmed: \t14\n",
      "Tentative: \t2\n",
      "Rejected: \t20080\n",
      "Iteration: \t52 / 100\n",
      "Confirmed: \t14\n",
      "Tentative: \t2\n",
      "Rejected: \t20080\n",
      "Iteration: \t53 / 100\n",
      "Confirmed: \t14\n",
      "Tentative: \t2\n",
      "Rejected: \t20080\n",
      "Iteration: \t54 / 100\n",
      "Confirmed: \t14\n",
      "Tentative: \t2\n",
      "Rejected: \t20080\n",
      "Iteration: \t55 / 100\n",
      "Confirmed: \t14\n",
      "Tentative: \t2\n",
      "Rejected: \t20080\n",
      "Iteration: \t56 / 100\n",
      "Confirmed: \t14\n",
      "Tentative: \t2\n",
      "Rejected: \t20080\n",
      "Iteration: \t57 / 100\n",
      "Confirmed: \t14\n",
      "Tentative: \t2\n",
      "Rejected: \t20080\n",
      "Iteration: \t58 / 100\n",
      "Confirmed: \t14\n",
      "Tentative: \t2\n",
      "Rejected: \t20080\n",
      "Iteration: \t59 / 100\n",
      "Confirmed: \t14\n",
      "Tentative: \t2\n",
      "Rejected: \t20080\n",
      "Iteration: \t60 / 100\n",
      "Confirmed: \t14\n",
      "Tentative: \t2\n",
      "Rejected: \t20080\n",
      "Iteration: \t61 / 100\n",
      "Confirmed: \t14\n",
      "Tentative: \t2\n",
      "Rejected: \t20080\n",
      "Iteration: \t62 / 100\n",
      "Confirmed: \t14\n",
      "Tentative: \t2\n",
      "Rejected: \t20080\n",
      "Iteration: \t63 / 100\n",
      "Confirmed: \t14\n",
      "Tentative: \t2\n",
      "Rejected: \t20080\n",
      "Iteration: \t64 / 100\n",
      "Confirmed: \t14\n",
      "Tentative: \t2\n",
      "Rejected: \t20080\n",
      "Iteration: \t65 / 100\n",
      "Confirmed: \t14\n",
      "Tentative: \t2\n",
      "Rejected: \t20080\n",
      "Iteration: \t66 / 100\n",
      "Confirmed: \t14\n",
      "Tentative: \t2\n",
      "Rejected: \t20080\n",
      "Iteration: \t67 / 100\n",
      "Confirmed: \t14\n",
      "Tentative: \t2\n",
      "Rejected: \t20080\n",
      "Iteration: \t68 / 100\n",
      "Confirmed: \t14\n",
      "Tentative: \t2\n",
      "Rejected: \t20080\n",
      "Iteration: \t69 / 100\n",
      "Confirmed: \t14\n",
      "Tentative: \t2\n",
      "Rejected: \t20080\n",
      "Iteration: \t70 / 100\n",
      "Confirmed: \t14\n",
      "Tentative: \t2\n",
      "Rejected: \t20080\n",
      "Iteration: \t71 / 100\n",
      "Confirmed: \t14\n",
      "Tentative: \t2\n",
      "Rejected: \t20080\n",
      "Iteration: \t72 / 100\n",
      "Confirmed: \t14\n",
      "Tentative: \t2\n",
      "Rejected: \t20080\n",
      "Iteration: \t73 / 100\n",
      "Confirmed: \t14\n",
      "Tentative: \t2\n",
      "Rejected: \t20080\n",
      "Iteration: \t74 / 100\n",
      "Confirmed: \t14\n",
      "Tentative: \t2\n",
      "Rejected: \t20080\n",
      "Iteration: \t75 / 100\n",
      "Confirmed: \t14\n",
      "Tentative: \t2\n",
      "Rejected: \t20080\n",
      "Iteration: \t76 / 100\n",
      "Confirmed: \t14\n",
      "Tentative: \t2\n",
      "Rejected: \t20080\n",
      "Iteration: \t77 / 100\n",
      "Confirmed: \t14\n",
      "Tentative: \t2\n",
      "Rejected: \t20080\n",
      "Iteration: \t78 / 100\n",
      "Confirmed: \t14\n",
      "Tentative: \t2\n",
      "Rejected: \t20080\n",
      "Iteration: \t79 / 100\n",
      "Confirmed: \t14\n",
      "Tentative: \t2\n",
      "Rejected: \t20080\n",
      "Iteration: \t80 / 100\n",
      "Confirmed: \t14\n",
      "Tentative: \t2\n",
      "Rejected: \t20080\n",
      "Iteration: \t81 / 100\n",
      "Confirmed: \t14\n",
      "Tentative: \t2\n",
      "Rejected: \t20080\n",
      "Iteration: \t82 / 100\n",
      "Confirmed: \t14\n",
      "Tentative: \t2\n",
      "Rejected: \t20080\n",
      "Iteration: \t83 / 100\n",
      "Confirmed: \t14\n",
      "Tentative: \t2\n",
      "Rejected: \t20080\n",
      "Iteration: \t84 / 100\n",
      "Confirmed: \t14\n",
      "Tentative: \t2\n",
      "Rejected: \t20080\n",
      "Iteration: \t85 / 100\n",
      "Confirmed: \t14\n",
      "Tentative: \t2\n",
      "Rejected: \t20080\n",
      "Iteration: \t86 / 100\n",
      "Confirmed: \t14\n",
      "Tentative: \t2\n",
      "Rejected: \t20080\n",
      "Iteration: \t87 / 100\n",
      "Confirmed: \t14\n",
      "Tentative: \t2\n",
      "Rejected: \t20080\n",
      "Iteration: \t88 / 100\n",
      "Confirmed: \t14\n",
      "Tentative: \t2\n",
      "Rejected: \t20080\n",
      "Iteration: \t89 / 100\n",
      "Confirmed: \t14\n",
      "Tentative: \t2\n",
      "Rejected: \t20080\n",
      "Iteration: \t90 / 100\n",
      "Confirmed: \t14\n",
      "Tentative: \t2\n",
      "Rejected: \t20080\n",
      "Iteration: \t91 / 100\n",
      "Confirmed: \t14\n",
      "Tentative: \t2\n",
      "Rejected: \t20080\n",
      "Iteration: \t92 / 100\n",
      "Confirmed: \t14\n",
      "Tentative: \t2\n",
      "Rejected: \t20080\n",
      "Iteration: \t93 / 100\n",
      "Confirmed: \t14\n",
      "Tentative: \t2\n",
      "Rejected: \t20080\n",
      "Iteration: \t94 / 100\n",
      "Confirmed: \t14\n",
      "Tentative: \t2\n",
      "Rejected: \t20080\n",
      "Iteration: \t95 / 100\n",
      "Confirmed: \t14\n",
      "Tentative: \t2\n",
      "Rejected: \t20080\n",
      "Iteration: \t96 / 100\n",
      "Confirmed: \t14\n",
      "Tentative: \t2\n",
      "Rejected: \t20080\n",
      "Iteration: \t97 / 100\n",
      "Confirmed: \t14\n",
      "Tentative: \t2\n",
      "Rejected: \t20080\n",
      "Iteration: \t98 / 100\n",
      "Confirmed: \t14\n",
      "Tentative: \t2\n",
      "Rejected: \t20080\n",
      "Iteration: \t99 / 100\n",
      "Confirmed: \t14\n",
      "Tentative: \t2\n",
      "Rejected: \t20080\n",
      "\n",
      "\n",
      "BorutaPy finished running.\n",
      "\n",
      "Iteration: \t100 / 100\n",
      "Confirmed: \t14\n",
      "Tentative: \t2\n",
      "Rejected: \t20080\n"
     ]
    },
    {
     "data": {
      "text/html": [
       "<style>#sk-container-id-1 {color: black;}#sk-container-id-1 pre{padding: 0;}#sk-container-id-1 div.sk-toggleable {background-color: white;}#sk-container-id-1 label.sk-toggleable__label {cursor: pointer;display: block;width: 100%;margin-bottom: 0;padding: 0.3em;box-sizing: border-box;text-align: center;}#sk-container-id-1 label.sk-toggleable__label-arrow:before {content: \"▸\";float: left;margin-right: 0.25em;color: #696969;}#sk-container-id-1 label.sk-toggleable__label-arrow:hover:before {color: black;}#sk-container-id-1 div.sk-estimator:hover label.sk-toggleable__label-arrow:before {color: black;}#sk-container-id-1 div.sk-toggleable__content {max-height: 0;max-width: 0;overflow: hidden;text-align: left;background-color: #f0f8ff;}#sk-container-id-1 div.sk-toggleable__content pre {margin: 0.2em;color: black;border-radius: 0.25em;background-color: #f0f8ff;}#sk-container-id-1 input.sk-toggleable__control:checked~div.sk-toggleable__content {max-height: 200px;max-width: 100%;overflow: auto;}#sk-container-id-1 input.sk-toggleable__control:checked~label.sk-toggleable__label-arrow:before {content: \"▾\";}#sk-container-id-1 div.sk-estimator input.sk-toggleable__control:checked~label.sk-toggleable__label {background-color: #d4ebff;}#sk-container-id-1 div.sk-label input.sk-toggleable__control:checked~label.sk-toggleable__label {background-color: #d4ebff;}#sk-container-id-1 input.sk-hidden--visually {border: 0;clip: rect(1px 1px 1px 1px);clip: rect(1px, 1px, 1px, 1px);height: 1px;margin: -1px;overflow: hidden;padding: 0;position: absolute;width: 1px;}#sk-container-id-1 div.sk-estimator {font-family: monospace;background-color: #f0f8ff;border: 1px dotted black;border-radius: 0.25em;box-sizing: border-box;margin-bottom: 0.5em;}#sk-container-id-1 div.sk-estimator:hover {background-color: #d4ebff;}#sk-container-id-1 div.sk-parallel-item::after {content: \"\";width: 100%;border-bottom: 1px solid gray;flex-grow: 1;}#sk-container-id-1 div.sk-label:hover label.sk-toggleable__label {background-color: #d4ebff;}#sk-container-id-1 div.sk-serial::before {content: \"\";position: absolute;border-left: 1px solid gray;box-sizing: border-box;top: 0;bottom: 0;left: 50%;z-index: 0;}#sk-container-id-1 div.sk-serial {display: flex;flex-direction: column;align-items: center;background-color: white;padding-right: 0.2em;padding-left: 0.2em;position: relative;}#sk-container-id-1 div.sk-item {position: relative;z-index: 1;}#sk-container-id-1 div.sk-parallel {display: flex;align-items: stretch;justify-content: center;background-color: white;position: relative;}#sk-container-id-1 div.sk-item::before, #sk-container-id-1 div.sk-parallel-item::before {content: \"\";position: absolute;border-left: 1px solid gray;box-sizing: border-box;top: 0;bottom: 0;left: 50%;z-index: -1;}#sk-container-id-1 div.sk-parallel-item {display: flex;flex-direction: column;z-index: 1;position: relative;background-color: white;}#sk-container-id-1 div.sk-parallel-item:first-child::after {align-self: flex-end;width: 50%;}#sk-container-id-1 div.sk-parallel-item:last-child::after {align-self: flex-start;width: 50%;}#sk-container-id-1 div.sk-parallel-item:only-child::after {width: 0;}#sk-container-id-1 div.sk-dashed-wrapped {border: 1px dashed gray;margin: 0 0.4em 0.5em 0.4em;box-sizing: border-box;padding-bottom: 0.4em;background-color: white;}#sk-container-id-1 div.sk-label label {font-family: monospace;font-weight: bold;display: inline-block;line-height: 1.2em;}#sk-container-id-1 div.sk-label-container {text-align: center;}#sk-container-id-1 div.sk-container {/* jupyter's `normalize.less` sets `[hidden] { display: none; }` but bootstrap.min.css set `[hidden] { display: none !important; }` so we also need the `!important` here to be able to override the default hidden behavior on the sphinx rendered scikit-learn.org. See: https://github.com/scikit-learn/scikit-learn/issues/21755 */display: inline-block !important;position: relative;}#sk-container-id-1 div.sk-text-repr-fallback {display: none;}</style><div id=\"sk-container-id-1\" class=\"sk-top-container\"><div class=\"sk-text-repr-fallback\"><pre>BorutaPy(estimator=RandomForestClassifier(max_depth=5, n_estimators=113,\n",
       "                                          random_state=RandomState(MT19937) at 0x1EDCBE73040),\n",
       "         n_estimators=&#x27;auto&#x27;,\n",
       "         random_state=RandomState(MT19937) at 0x1EDCBE73040, verbose=2)</pre><b>In a Jupyter environment, please rerun this cell to show the HTML representation or trust the notebook. <br />On GitHub, the HTML representation is unable to render, please try loading this page with nbviewer.org.</b></div><div class=\"sk-container\" hidden><div class=\"sk-item sk-dashed-wrapped\"><div class=\"sk-label-container\"><div class=\"sk-label sk-toggleable\"><input class=\"sk-toggleable__control sk-hidden--visually\" id=\"sk-estimator-id-1\" type=\"checkbox\" ><label for=\"sk-estimator-id-1\" class=\"sk-toggleable__label sk-toggleable__label-arrow\">BorutaPy</label><div class=\"sk-toggleable__content\"><pre>BorutaPy(estimator=RandomForestClassifier(max_depth=5, n_estimators=113,\n",
       "                                          random_state=RandomState(MT19937) at 0x1EDCBE73040),\n",
       "         n_estimators=&#x27;auto&#x27;,\n",
       "         random_state=RandomState(MT19937) at 0x1EDCBE73040, verbose=2)</pre></div></div></div><div class=\"sk-parallel\"><div class=\"sk-parallel-item\"><div class=\"sk-item\"><div class=\"sk-label-container\"><div class=\"sk-label sk-toggleable\"><input class=\"sk-toggleable__control sk-hidden--visually\" id=\"sk-estimator-id-2\" type=\"checkbox\" ><label for=\"sk-estimator-id-2\" class=\"sk-toggleable__label sk-toggleable__label-arrow\">estimator: RandomForestClassifier</label><div class=\"sk-toggleable__content\"><pre>RandomForestClassifier(max_depth=5, n_estimators=113,\n",
       "                       random_state=RandomState(MT19937) at 0x1EDCBE73040)</pre></div></div></div><div class=\"sk-serial\"><div class=\"sk-item\"><div class=\"sk-estimator sk-toggleable\"><input class=\"sk-toggleable__control sk-hidden--visually\" id=\"sk-estimator-id-3\" type=\"checkbox\" ><label for=\"sk-estimator-id-3\" class=\"sk-toggleable__label sk-toggleable__label-arrow\">RandomForestClassifier</label><div class=\"sk-toggleable__content\"><pre>RandomForestClassifier(max_depth=5, n_estimators=113,\n",
       "                       random_state=RandomState(MT19937) at 0x1EDCBE73040)</pre></div></div></div></div></div></div></div></div></div></div>"
      ],
      "text/plain": [
       "BorutaPy(estimator=RandomForestClassifier(max_depth=5, n_estimators=113,\n",
       "                                          random_state=RandomState(MT19937) at 0x1EDCBE73040),\n",
       "         n_estimators='auto',\n",
       "         random_state=RandomState(MT19937) at 0x1EDCBE73040, verbose=2)"
      ]
     },
     "execution_count": 22,
     "metadata": {},
     "output_type": "execute_result"
    }
   ],
   "source": [
    "feat_selector.fit(features, target)"
   ]
  },
  {
   "cell_type": "code",
   "execution_count": 23,
   "id": "05837ed0",
   "metadata": {},
   "outputs": [
    {
     "data": {
      "text/plain": [
       "20096"
      ]
     },
     "execution_count": 23,
     "metadata": {},
     "output_type": "execute_result"
    }
   ],
   "source": [
    "# len(feat_selector.support_)"
   ]
  },
  {
   "cell_type": "code",
   "execution_count": 27,
   "id": "a409cb91",
   "metadata": {},
   "outputs": [],
   "source": [
    "selectedFeatures = []"
   ]
  },
  {
   "cell_type": "code",
   "execution_count": 28,
   "id": "084781ee",
   "metadata": {},
   "outputs": [],
   "source": [
    "for i in range(len(feat_selector.support_)):\n",
    "    if feat_selector.support_[i]:\n",
    "#         print(\"-------SELECTED--------\")\n",
    "#         print(dfForColumns.columns[i])\n",
    "#         print(feat_selector.ranking_[i])\n",
    "        selectedFeatures.append(dfForColumns.columns[i])"
   ]
  },
  {
   "cell_type": "code",
   "execution_count": 30,
   "id": "e80244cb",
   "metadata": {},
   "outputs": [],
   "source": [
    "X = lastDf[selectedFeatures]"
   ]
  },
  {
   "cell_type": "code",
   "execution_count": 33,
   "id": "f6e0cafd",
   "metadata": {},
   "outputs": [],
   "source": [
    "y = lastDf['Phenotype']"
   ]
  },
  {
   "cell_type": "code",
   "execution_count": 34,
   "id": "3ced24eb",
   "metadata": {},
   "outputs": [
    {
     "data": {
      "text/plain": [
       "0      2.0\n",
       "1      0.0\n",
       "2      2.0\n",
       "3      0.0\n",
       "4      1.0\n",
       "      ... \n",
       "723    2.0\n",
       "724    1.0\n",
       "725    1.0\n",
       "726    0.0\n",
       "727    2.0\n",
       "Name: Phenotype, Length: 728, dtype: float64"
      ]
     },
     "execution_count": 34,
     "metadata": {},
     "output_type": "execute_result"
    }
   ],
   "source": [
    "y"
   ]
  },
  {
   "cell_type": "code",
   "execution_count": 36,
   "id": "f67cd6d5",
   "metadata": {},
   "outputs": [],
   "source": [
    "X_train, X_test, y_train, y_test = train_test_split(X, y, test_size=0.2, random_state=42)"
   ]
  },
  {
   "cell_type": "code",
   "execution_count": 39,
   "id": "8d3960bb",
   "metadata": {},
   "outputs": [],
   "source": [
    "scaler = StandardScaler()\n",
    "X_train = scaler.fit_transform(X_train)\n",
    "X_test = scaler.transform(X_test)"
   ]
  },
  {
   "cell_type": "code",
   "execution_count": 40,
   "id": "29effc33",
   "metadata": {},
   "outputs": [],
   "source": [
    "y_train = y_train.values\n",
    "y_test = y_test.values"
   ]
  },
  {
   "cell_type": "code",
   "execution_count": 41,
   "id": "69685728",
   "metadata": {},
   "outputs": [],
   "source": [
    "y_train = y_train.astype(np.int)\n",
    "y_test = y_test.astype(np.int)"
   ]
  },
  {
   "cell_type": "code",
   "execution_count": 42,
   "id": "fb77a9da",
   "metadata": {},
   "outputs": [],
   "source": [
    "parameterGrid = { \n",
    "    'n_estimators': [int(x) for x in np.linspace(start = 50, stop = 200, num = 10)], \n",
    "    'max_features': ['sqrt', 'log2', None], \n",
    "    'max_depth': [3, 6, 9], \n",
    "    'max_leaf_nodes': [3, 6, 9], \n",
    "}"
   ]
  },
  {
   "cell_type": "code",
   "execution_count": 45,
   "id": "af2139bc",
   "metadata": {},
   "outputs": [
    {
     "name": "stdout",
     "output_type": "stream",
     "text": [
      "RandomForestClassifier(max_depth=9, max_features='log2', max_leaf_nodes=9,\n",
      "                       n_estimators=133)\n"
     ]
    }
   ],
   "source": [
    "gridSearch = GridSearchCV(RandomForestClassifier(), \n",
    "                           param_grid=parameterGrid) \n",
    "gridSearch.fit(X_train, y_train) \n",
    "print(gridSearch.best_estimator_)"
   ]
  },
  {
   "cell_type": "code",
   "execution_count": 46,
   "id": "d7e458e7",
   "metadata": {},
   "outputs": [],
   "source": [
    "model = RandomForestClassifier(n_estimators=133, max_depth=9, max_features='log2', max_leaf_nodes=9, random_state=42)"
   ]
  },
  {
   "cell_type": "code",
   "execution_count": 47,
   "id": "ed1b128b",
   "metadata": {},
   "outputs": [
    {
     "data": {
      "text/html": [
       "<style>#sk-container-id-2 {color: black;}#sk-container-id-2 pre{padding: 0;}#sk-container-id-2 div.sk-toggleable {background-color: white;}#sk-container-id-2 label.sk-toggleable__label {cursor: pointer;display: block;width: 100%;margin-bottom: 0;padding: 0.3em;box-sizing: border-box;text-align: center;}#sk-container-id-2 label.sk-toggleable__label-arrow:before {content: \"▸\";float: left;margin-right: 0.25em;color: #696969;}#sk-container-id-2 label.sk-toggleable__label-arrow:hover:before {color: black;}#sk-container-id-2 div.sk-estimator:hover label.sk-toggleable__label-arrow:before {color: black;}#sk-container-id-2 div.sk-toggleable__content {max-height: 0;max-width: 0;overflow: hidden;text-align: left;background-color: #f0f8ff;}#sk-container-id-2 div.sk-toggleable__content pre {margin: 0.2em;color: black;border-radius: 0.25em;background-color: #f0f8ff;}#sk-container-id-2 input.sk-toggleable__control:checked~div.sk-toggleable__content {max-height: 200px;max-width: 100%;overflow: auto;}#sk-container-id-2 input.sk-toggleable__control:checked~label.sk-toggleable__label-arrow:before {content: \"▾\";}#sk-container-id-2 div.sk-estimator input.sk-toggleable__control:checked~label.sk-toggleable__label {background-color: #d4ebff;}#sk-container-id-2 div.sk-label input.sk-toggleable__control:checked~label.sk-toggleable__label {background-color: #d4ebff;}#sk-container-id-2 input.sk-hidden--visually {border: 0;clip: rect(1px 1px 1px 1px);clip: rect(1px, 1px, 1px, 1px);height: 1px;margin: -1px;overflow: hidden;padding: 0;position: absolute;width: 1px;}#sk-container-id-2 div.sk-estimator {font-family: monospace;background-color: #f0f8ff;border: 1px dotted black;border-radius: 0.25em;box-sizing: border-box;margin-bottom: 0.5em;}#sk-container-id-2 div.sk-estimator:hover {background-color: #d4ebff;}#sk-container-id-2 div.sk-parallel-item::after {content: \"\";width: 100%;border-bottom: 1px solid gray;flex-grow: 1;}#sk-container-id-2 div.sk-label:hover label.sk-toggleable__label {background-color: #d4ebff;}#sk-container-id-2 div.sk-serial::before {content: \"\";position: absolute;border-left: 1px solid gray;box-sizing: border-box;top: 0;bottom: 0;left: 50%;z-index: 0;}#sk-container-id-2 div.sk-serial {display: flex;flex-direction: column;align-items: center;background-color: white;padding-right: 0.2em;padding-left: 0.2em;position: relative;}#sk-container-id-2 div.sk-item {position: relative;z-index: 1;}#sk-container-id-2 div.sk-parallel {display: flex;align-items: stretch;justify-content: center;background-color: white;position: relative;}#sk-container-id-2 div.sk-item::before, #sk-container-id-2 div.sk-parallel-item::before {content: \"\";position: absolute;border-left: 1px solid gray;box-sizing: border-box;top: 0;bottom: 0;left: 50%;z-index: -1;}#sk-container-id-2 div.sk-parallel-item {display: flex;flex-direction: column;z-index: 1;position: relative;background-color: white;}#sk-container-id-2 div.sk-parallel-item:first-child::after {align-self: flex-end;width: 50%;}#sk-container-id-2 div.sk-parallel-item:last-child::after {align-self: flex-start;width: 50%;}#sk-container-id-2 div.sk-parallel-item:only-child::after {width: 0;}#sk-container-id-2 div.sk-dashed-wrapped {border: 1px dashed gray;margin: 0 0.4em 0.5em 0.4em;box-sizing: border-box;padding-bottom: 0.4em;background-color: white;}#sk-container-id-2 div.sk-label label {font-family: monospace;font-weight: bold;display: inline-block;line-height: 1.2em;}#sk-container-id-2 div.sk-label-container {text-align: center;}#sk-container-id-2 div.sk-container {/* jupyter's `normalize.less` sets `[hidden] { display: none; }` but bootstrap.min.css set `[hidden] { display: none !important; }` so we also need the `!important` here to be able to override the default hidden behavior on the sphinx rendered scikit-learn.org. See: https://github.com/scikit-learn/scikit-learn/issues/21755 */display: inline-block !important;position: relative;}#sk-container-id-2 div.sk-text-repr-fallback {display: none;}</style><div id=\"sk-container-id-2\" class=\"sk-top-container\"><div class=\"sk-text-repr-fallback\"><pre>RandomForestClassifier(max_depth=9, max_features=&#x27;log2&#x27;, max_leaf_nodes=9,\n",
       "                       n_estimators=133, random_state=42)</pre><b>In a Jupyter environment, please rerun this cell to show the HTML representation or trust the notebook. <br />On GitHub, the HTML representation is unable to render, please try loading this page with nbviewer.org.</b></div><div class=\"sk-container\" hidden><div class=\"sk-item\"><div class=\"sk-estimator sk-toggleable\"><input class=\"sk-toggleable__control sk-hidden--visually\" id=\"sk-estimator-id-4\" type=\"checkbox\" checked><label for=\"sk-estimator-id-4\" class=\"sk-toggleable__label sk-toggleable__label-arrow\">RandomForestClassifier</label><div class=\"sk-toggleable__content\"><pre>RandomForestClassifier(max_depth=9, max_features=&#x27;log2&#x27;, max_leaf_nodes=9,\n",
       "                       n_estimators=133, random_state=42)</pre></div></div></div></div></div>"
      ],
      "text/plain": [
       "RandomForestClassifier(max_depth=9, max_features='log2', max_leaf_nodes=9,\n",
       "                       n_estimators=133, random_state=42)"
      ]
     },
     "execution_count": 47,
     "metadata": {},
     "output_type": "execute_result"
    }
   ],
   "source": [
    "model.fit(X_train, y_train)"
   ]
  },
  {
   "cell_type": "code",
   "execution_count": 48,
   "id": "f3ede1b7",
   "metadata": {},
   "outputs": [],
   "source": [
    "y_pred = model.predict(X_test)"
   ]
  },
  {
   "cell_type": "code",
   "execution_count": 51,
   "id": "f0527b75",
   "metadata": {},
   "outputs": [],
   "source": [
    "accuracy = accuracy_score(y_test, y_pred)"
   ]
  },
  {
   "cell_type": "code",
   "execution_count": 52,
   "id": "3240f084",
   "metadata": {},
   "outputs": [
    {
     "name": "stdout",
     "output_type": "stream",
     "text": [
      "0.5273972602739726\n"
     ]
    }
   ],
   "source": [
    "print(accuracy)"
   ]
  },
  {
   "cell_type": "code",
   "execution_count": 53,
   "id": "ea815f08",
   "metadata": {},
   "outputs": [],
   "source": [
    "cm = confusion_matrix(y_test, y_pred)"
   ]
  },
  {
   "cell_type": "code",
   "execution_count": 54,
   "id": "3dda907d",
   "metadata": {},
   "outputs": [],
   "source": [
    "cmDF = pd.DataFrame(cm,\n",
    "                     index = ['Control','MCI','AD'], \n",
    "                     columns = ['Control','MCI','AD'])"
   ]
  },
  {
   "cell_type": "code",
   "execution_count": 59,
   "id": "7c5b7f0e",
   "metadata": {},
   "outputs": [
    {
     "data": {
      "image/png": "[encoded data removed]",
      "text/plain": [
       "<Figure size 500x400 with 2 Axes>"
      ]
     },
     "metadata": {},
     "output_type": "display_data"
    }
   ],
   "source": [
    "# plotting the confusion matrix to represent the preformance of Random Forest Model\n",
    "plt.figure(figsize=(5,4))\n",
    "sns.heatmap(cmDF, annot=True)\n",
    "plt.title('Confusion Matrix')\n",
    "plt.ylabel('Actual Values')\n",
    "plt.xlabel('Predicted Values')\n",
    "plt.show()"
   ]
  },
  {
   "cell_type": "code",
   "execution_count": null,
   "id": "e8e622c3",
   "metadata": {},
   "outputs": [],
   "source": []
  }
 ],
 "metadata": {
  "kernelspec": {
   "display_name": "Python 3 (ipykernel)",
   "language": "python",
   "name": "python3"
  },
  "language_info": {
   "codemirror_mode": {
    "name": "ipython",
    "version": 3
   },
   "file_extension": ".py",
   "mimetype": "text/x-python",
   "name": "python",
   "nbconvert_exporter": "python",
   "pygments_lexer": "ipython3",
   "version": "3.11.4"
  }
 },
 "nbformat": 4,
 "nbformat_minor": 5
}
