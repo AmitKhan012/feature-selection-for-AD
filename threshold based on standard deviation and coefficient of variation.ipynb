{
 "cells": [
  {
   "cell_type": "code",
   "execution_count": 1,
   "id": "bf725d9b",
   "metadata": {},
   "outputs": [],
   "source": [
    "# In this program first I will preprocess the dataset. By preprocessing I mean replace the gene symbol values\n",
    "# with there mean or median \n",
    "# first I will choose the right value for replacing based on standard deviation and then I will choose the right value \n",
    "# based on coefficient of variation\n",
    "# After that I have two preprocessed datasets then apply Lasso separately on both of them\n",
    "# I will creat a venn diagram with the selected features by lasso from two preprocessed datasets"
   ]
  },
  {
   "cell_type": "code",
   "execution_count": 1,
   "id": "8abf4af9",
   "metadata": {},
   "outputs": [],
   "source": [
    "import warnings\n",
    "warnings.filterwarnings('ignore')"
   ]
  },
  {
   "cell_type": "code",
   "execution_count": 2,
   "id": "52079922",
   "metadata": {},
   "outputs": [],
   "source": [
    "import pandas as pd\n",
    "import csv\n",
    "import pickle\n",
    "import statistics\n",
    "import numpy as np\n",
    "import matplotlib.pyplot as plt\n",
    "import seaborn as sns\n",
    "from collections import Counter, defaultdict\n",
    "from sklearn.linear_model import Lasso\n",
    "from sklearn.metrics import make_scorer, accuracy_score\n",
    "from sklearn.model_selection import GridSearchCV\n",
    "from sklearn.ensemble import RandomForestClassifier\n",
    "from matplotlib_venn import venn2, venn2_circles"
   ]
  },
  {
   "cell_type": "code",
   "execution_count": 4,
   "id": "c0b22503",
   "metadata": {},
   "outputs": [],
   "source": [
    "# we need the final dataset to begin with"
   ]
  },
  {
   "cell_type": "code",
   "execution_count": 3,
   "id": "cde12e87",
   "metadata": {},
   "outputs": [],
   "source": [
    "# build the final data frame\n",
    "\n",
    "# loading the dataset which has the features (gene symbol)\n",
    "file_path = 'dataset/ADNI_Gene_Expression_Profile.csv'\n",
    "df1 = pd.read_csv(file_path)\n",
    "\n",
    "# df1.head()\n",
    "\n",
    "col = df1.columns[3:747]\n",
    "# print(len(c))\n",
    "sampleList = []\n",
    "for c in col:\n",
    "    sample = df1.loc[:, c]\n",
    "    sample = sample.tolist()\n",
    "    sampleList.append(sample)\n",
    "    \n",
    "file_path = 'dataset/Complete_ADNI_clinical_info.csv'\n",
    "df2 = pd.read_csv(file_path)\n",
    "\n",
    "# df2.head(10)\n",
    "\n",
    "tem_col = list(df1['Unnamed: 2'])\n",
    "tem_col[1] = 'IID'\n",
    "\n",
    "finalDataFrame = pd.DataFrame(sampleList, columns=tem_col)\n",
    "finalDataFrame = finalDataFrame.loc[:, finalDataFrame.columns.notna()]\n",
    "finalDataFrame = finalDataFrame.drop(columns=['Symbol'])\n",
    "\n",
    "finalDataFrame['Phenotype'] = \"\"\n",
    "\n",
    "for index, row in finalDataFrame.iterrows():\n",
    "    patientID = finalDataFrame.at[index, 'IID']\n",
    "    # cell_value = df.at[row_number, column_name]\n",
    "    #print(\"P ID: \", patient)\n",
    "    for index2, row2 in df2.iterrows():\n",
    "        if df2.at[index2, 'IID'] == patientID:\n",
    "            finalDataFrame.at[index, 'Phenotype'] = df2.at[index2, 'Phenotype']"
   ]
  },
  {
   "cell_type": "code",
   "execution_count": 7,
   "id": "27fa594a",
   "metadata": {},
   "outputs": [],
   "source": [
    "# finalDataFrame.head()"
   ]
  },
  {
   "cell_type": "code",
   "execution_count": 4,
   "id": "acae076a",
   "metadata": {},
   "outputs": [],
   "source": [
    "pickle_file_name = 'keyDictionaryPickel.pickle'\n",
    "with open(pickle_file_name, 'rb') as file:\n",
    "    keyDictionary = pickle.load(file)"
   ]
  },
  {
   "cell_type": "code",
   "execution_count": 8,
   "id": "19c56c6f",
   "metadata": {},
   "outputs": [],
   "source": [
    "# load the csv file where metrics of gene symbol are stored"
   ]
  },
  {
   "cell_type": "code",
   "execution_count": 5,
   "id": "a58e4757",
   "metadata": {},
   "outputs": [],
   "source": [
    "geneMetrics = pd.read_csv(\"dataset/Gene_Metrics_Info.csv\")"
   ]
  },
  {
   "cell_type": "code",
   "execution_count": 13,
   "id": "a0ad9a0d",
   "metadata": {},
   "outputs": [],
   "source": [
    "# now we will look at the density plot of mean standard deviation of 12500 gene symbols that \n",
    "# have more than one expression values for multiple probe set"
   ]
  },
  {
   "cell_type": "code",
   "execution_count": 14,
   "id": "d3143350",
   "metadata": {},
   "outputs": [
    {
     "data": {
      "text/plain": [
       "<Axes: xlabel='Mean Standard Deviation', ylabel='Density'>"
      ]
     },
     "execution_count": 14,
     "metadata": {},
     "output_type": "execute_result"
    },
    {
     "data": {
      "image/png": "[encoded data removed]",
      "text/plain": [
       "<Figure size 640x480 with 1 Axes>"
      ]
     },
     "metadata": {},
     "output_type": "display_data"
    }
   ],
   "source": [
    "sns.kdeplot(geneMetrics[\"Mean Standard Deviation\"], shade=True)"
   ]
  },
  {
   "cell_type": "code",
   "execution_count": 15,
   "id": "15837035",
   "metadata": {},
   "outputs": [],
   "source": [
    "# from observing this density plot we found out 1.5 is the good threshold to decide low or high standard deviation"
   ]
  },
  {
   "cell_type": "code",
   "execution_count": 16,
   "id": "2e6c5851",
   "metadata": {},
   "outputs": [],
   "source": [
    "# I will build a dictionary lowHighGeneSymbolBasedOnStd. In this dictionary, key are gene symbols\n",
    "# values of this dictionary can be 0 or 1. 0 means low mean standard deviation ( <= 1.5) and 1 means high \n",
    "# mean standard deviation (> 1.5)"
   ]
  },
  {
   "cell_type": "code",
   "execution_count": 7,
   "id": "e65dc1fb",
   "metadata": {},
   "outputs": [],
   "source": [
    "lowHighGeneSymbolBasedOnStd = {}\n",
    "\n",
    "for index, row in geneMetrics.iterrows():\n",
    "    msd = geneMetrics.at[index, 'Mean Standard Deviation']\n",
    "    key = geneMetrics.at[index, 'Gene Symbol']\n",
    "    if msd > 1.5:\n",
    "        lowHighGeneSymbolBasedOnStd[key] = 1\n",
    "    else:\n",
    "        lowHighGeneSymbolBasedOnStd[key] = 0"
   ]
  },
  {
   "cell_type": "code",
   "execution_count": 8,
   "id": "59217aa5",
   "metadata": {},
   "outputs": [],
   "source": [
    "columns =  set(finalDataFrame.columns)\n",
    "idxs = finalDataFrame[\"IID\"]"
   ]
  },
  {
   "cell_type": "code",
   "execution_count": 9,
   "id": "c88a5d81",
   "metadata": {},
   "outputs": [],
   "source": [
    "dic = defaultdict(list)\n",
    "for idx in idxs:\n",
    "    for col in columns:\n",
    "        res = keyDictionary.get((idx, col))\n",
    "        if res:\n",
    "            if lowHighGeneSymbolBasedOnStd[col] == 0:\n",
    "                dic[col].append(np.mean(res))\n",
    "            else:\n",
    "                dic[col].append(np.median(res))\n",
    "lastBasedOnStd = pd.DataFrame(dic)"
   ]
  },
  {
   "cell_type": "code",
   "execution_count": 26,
   "id": "0794e8d3",
   "metadata": {},
   "outputs": [],
   "source": [
    "# lastBasedOnStd.head()"
   ]
  },
  {
   "cell_type": "code",
   "execution_count": 10,
   "id": "8498ea43",
   "metadata": {},
   "outputs": [],
   "source": [
    "original_col = finalDataFrame.columns\n",
    "new_colBasedOnStd = lastBasedOnStd.columns\n",
    "disjointBasedOnStd = [i for i in original_col if i not in new_colBasedOnStd]\n",
    "lastBasedOnStd = lastBasedOnStd.merge(finalDataFrame[disjointBasedOnStd], left_index=True, right_index=True)"
   ]
  },
  {
   "cell_type": "code",
   "execution_count": 11,
   "id": "31f86a00",
   "metadata": {},
   "outputs": [],
   "source": [
    "lastBasedOnStd.replace(\"\", np.nan, inplace=True)"
   ]
  },
  {
   "cell_type": "code",
   "execution_count": 12,
   "id": "b6c60c04",
   "metadata": {},
   "outputs": [
    {
     "data": {
      "text/plain": [
       "16"
      ]
     },
     "execution_count": 12,
     "metadata": {},
     "output_type": "execute_result"
    }
   ],
   "source": [
    "sum(lastBasedOnStd.isna().sum())"
   ]
  },
  {
   "cell_type": "code",
   "execution_count": 13,
   "id": "0c67b51f",
   "metadata": {},
   "outputs": [],
   "source": [
    "lastBasedOnStd = lastBasedOnStd[lastBasedOnStd[\"Phenotype\"].notna()].reset_index(drop=True)"
   ]
  },
  {
   "cell_type": "code",
   "execution_count": 14,
   "id": "d0b05a82",
   "metadata": {},
   "outputs": [
    {
     "data": {
      "text/plain": [
       "0"
      ]
     },
     "execution_count": 14,
     "metadata": {},
     "output_type": "execute_result"
    }
   ],
   "source": [
    "sum(lastBasedOnStd.isna().sum())"
   ]
  },
  {
   "cell_type": "code",
   "execution_count": 15,
   "id": "df1cbc1c",
   "metadata": {},
   "outputs": [],
   "source": [
    "for col in lastBasedOnStd.columns:\n",
    "    if (\n",
    "        any(lastBasedOnStd[col].isna())\n",
    "        and lastBasedOnStd[col].isna().value_counts().to_dict().get(True) / len(lastBasedOnStd[col])\n",
    "        > 0.90\n",
    "    ):\n",
    "        print(col)\n",
    "        lastBasedOnStd = lastBasedOnStd.drop(col, axis=1)"
   ]
  },
  {
   "cell_type": "code",
   "execution_count": 36,
   "id": "f0f0b508",
   "metadata": {},
   "outputs": [],
   "source": [
    "# now lastBasedOnStd is ready "
   ]
  },
  {
   "cell_type": "code",
   "execution_count": 16,
   "id": "611f7858",
   "metadata": {},
   "outputs": [],
   "source": [
    "featuresBasedOnStd = lastBasedOnStd.drop('Phenotype', axis = 1)\n",
    "targetBasedOnStd = lastBasedOnStd['Phenotype']"
   ]
  },
  {
   "cell_type": "code",
   "execution_count": 17,
   "id": "e78f5c78",
   "metadata": {},
   "outputs": [],
   "source": [
    "featuresBasedOnStd = featuresBasedOnStd.drop('IID', axis = 1)"
   ]
  },
  {
   "cell_type": "code",
   "execution_count": 18,
   "id": "9f7ae21c",
   "metadata": {},
   "outputs": [],
   "source": [
    "lasso1 = Lasso(alpha=0.01)\n",
    "lasso1.fit(featuresBasedOnStd, targetBasedOnStd)\n",
    "selectedFeaturesBasedOnStd = featuresBasedOnStd.columns[lasso1.coef_ != 0.0]"
   ]
  },
  {
   "cell_type": "code",
   "execution_count": 19,
   "id": "8b1df6fb",
   "metadata": {},
   "outputs": [
    {
     "data": {
      "text/plain": [
       "318"
      ]
     },
     "execution_count": 19,
     "metadata": {},
     "output_type": "execute_result"
    }
   ],
   "source": [
    "len(selectedFeaturesBasedOnStd)"
   ]
  },
  {
   "cell_type": "code",
   "execution_count": 46,
   "id": "09437e54",
   "metadata": {},
   "outputs": [],
   "source": [
    "# now we will look at the density plot of coefficient of variation of 12500 gene symbols that \n",
    "# have more than one expression values for multiple probe set"
   ]
  },
  {
   "cell_type": "code",
   "execution_count": 47,
   "id": "65d8efda",
   "metadata": {},
   "outputs": [
    {
     "data": {
      "text/plain": [
       "<Axes: xlabel='Mean CV', ylabel='Density'>"
      ]
     },
     "execution_count": 47,
     "metadata": {},
     "output_type": "execute_result"
    },
    {
     "data": {
      "image/png": "[encoded data removed]",
      "text/plain": [
       "<Figure size 640x480 with 1 Axes>"
      ]
     },
     "metadata": {},
     "output_type": "display_data"
    }
   ],
   "source": [
    "sns.kdeplot(geneMetrics[\"Mean CV\"], shade=True)"
   ]
  },
  {
   "cell_type": "code",
   "execution_count": 48,
   "id": "06efdd3f",
   "metadata": {},
   "outputs": [],
   "source": [
    "# from observing this density plot we found out 0.35 is the good threshold to decide low or high standard deviation"
   ]
  },
  {
   "cell_type": "code",
   "execution_count": null,
   "id": "6d944700",
   "metadata": {},
   "outputs": [],
   "source": [
    "# I will build a dictionary lowHighGeneSymbolBasedOnCV. In this dictionary, key are gene symbols\n",
    "# values of this dictionary can be 0 or 1. 0 means low mean CV ( <= 0.35) and 1 means high \n",
    "# mean CV (> 0.35)"
   ]
  },
  {
   "cell_type": "code",
   "execution_count": 20,
   "id": "e2138903",
   "metadata": {},
   "outputs": [],
   "source": [
    "lowHighGeneSymbolBasedOnCV = {}\n",
    "\n",
    "for index, row in geneMetrics.iterrows():\n",
    "    mcv = geneMetrics.at[index, 'Mean CV']\n",
    "    key = geneMetrics.at[index, 'Gene Symbol']\n",
    "    if mcv > 0.35:\n",
    "        lowHighGeneSymbolBasedOnCV[key] = 1\n",
    "    else:\n",
    "        lowHighGeneSymbolBasedOnCV[key] = 1"
   ]
  },
  {
   "cell_type": "code",
   "execution_count": 21,
   "id": "faacf3e6",
   "metadata": {},
   "outputs": [],
   "source": [
    "columns =  set(finalDataFrame.columns)\n",
    "idxs = finalDataFrame[\"IID\"]"
   ]
  },
  {
   "cell_type": "code",
   "execution_count": 22,
   "id": "bfa03447",
   "metadata": {},
   "outputs": [],
   "source": [
    "dic = defaultdict(list)\n",
    "for idx in idxs:\n",
    "    for col in columns:\n",
    "        res = keyDictionary.get((idx, col))\n",
    "        if res:\n",
    "            if lowHighGeneSymbolBasedOnCV[col] == 0:\n",
    "                dic[col].append(np.mean(res))\n",
    "            else:\n",
    "                dic[col].append(np.median(res))\n",
    "lastBasedOnCV = pd.DataFrame(dic)"
   ]
  },
  {
   "cell_type": "code",
   "execution_count": 53,
   "id": "a52c7b4f",
   "metadata": {},
   "outputs": [],
   "source": [
    "# lastBasedOnCV"
   ]
  },
  {
   "cell_type": "code",
   "execution_count": 23,
   "id": "7109bd2e",
   "metadata": {},
   "outputs": [],
   "source": [
    "original_col = finalDataFrame.columns\n",
    "new_colBasedOnCV = lastBasedOnCV.columns\n",
    "disjointBasedOnCV = [i for i in original_col if i not in new_colBasedOnCV]\n",
    "lastBasedOnCV = lastBasedOnCV.merge(finalDataFrame[disjointBasedOnCV], left_index=True, right_index=True)"
   ]
  },
  {
   "cell_type": "code",
   "execution_count": 24,
   "id": "2eaee474",
   "metadata": {},
   "outputs": [
    {
     "name": "stdout",
     "output_type": "stream",
     "text": [
      "16\n",
      "0\n"
     ]
    }
   ],
   "source": [
    "lastBasedOnCV.replace(\"\", np.nan, inplace=True)\n",
    "print(sum(lastBasedOnCV.isna().sum()))\n",
    "lastBasedOnCV = lastBasedOnCV[lastBasedOnCV[\"Phenotype\"].notna()].reset_index(drop=True)\n",
    "print(sum(lastBasedOnCV.isna().sum()))"
   ]
  },
  {
   "cell_type": "code",
   "execution_count": 25,
   "id": "34435cc4",
   "metadata": {},
   "outputs": [],
   "source": [
    "for col in lastBasedOnCV.columns:\n",
    "    if (\n",
    "        any(lastBasedOnCV[col].isna())\n",
    "        and lastBasedOnCV[col].isna().value_counts().to_dict().get(True) / len(lastBasedOnCV[col])\n",
    "        > 0.90\n",
    "    ):\n",
    "        print(col)\n",
    "        lastBasedOnCV = lastBasedOnCV.drop(col, axis=1)"
   ]
  },
  {
   "cell_type": "code",
   "execution_count": 26,
   "id": "4a23466b",
   "metadata": {},
   "outputs": [],
   "source": [
    "featuresBasedOnCV = lastBasedOnCV.drop('Phenotype', axis = 1)\n",
    "targetBasedOnCV = lastBasedOnCV['Phenotype']"
   ]
  },
  {
   "cell_type": "code",
   "execution_count": 27,
   "id": "53d77c96",
   "metadata": {},
   "outputs": [],
   "source": [
    "featuresBasedOnCV = featuresBasedOnCV.drop('IID', axis = 1)"
   ]
  },
  {
   "cell_type": "code",
   "execution_count": 28,
   "id": "875b0497",
   "metadata": {},
   "outputs": [],
   "source": [
    "lasso2 = Lasso(alpha=0.01)\n",
    "lasso2.fit(featuresBasedOnCV, targetBasedOnCV)\n",
    "selectedFeaturesBasedOnCV = featuresBasedOnCV.columns[lasso2.coef_ != 0.0]"
   ]
  },
  {
   "cell_type": "code",
   "execution_count": 29,
   "id": "2e3f4a88",
   "metadata": {},
   "outputs": [
    {
     "data": {
      "text/plain": [
       "327"
      ]
     },
     "execution_count": 29,
     "metadata": {},
     "output_type": "execute_result"
    }
   ],
   "source": [
    "len(selectedFeaturesBasedOnCV)"
   ]
  },
  {
   "cell_type": "code",
   "execution_count": 30,
   "id": "96a80a1b",
   "metadata": {},
   "outputs": [],
   "source": [
    "selectedFeaturesInBoth = []\n",
    "for feature in selectedFeaturesBasedOnStd:\n",
    "    if feature in selectedFeaturesBasedOnCV:\n",
    "        selectedFeaturesInBoth.append(feature)"
   ]
  },
  {
   "cell_type": "code",
   "execution_count": 31,
   "id": "101f9832",
   "metadata": {},
   "outputs": [
    {
     "data": {
      "text/plain": [
       "263"
      ]
     },
     "execution_count": 31,
     "metadata": {},
     "output_type": "execute_result"
    }
   ],
   "source": [
    "len(selectedFeaturesInBoth)"
   ]
  },
  {
   "cell_type": "code",
   "execution_count": 34,
   "id": "cecd2011",
   "metadata": {},
   "outputs": [],
   "source": [
    "csv_file = \"selectedFeaturesInBoth.csv\"\n",
    "\n",
    "# Open the CSV file in write mode\n",
    "with open(csv_file, mode='w', newline='') as file:\n",
    "    writer = csv.writer(file)\n",
    "\n",
    "    # Write the strings to the CSV file, one per row in the first column\n",
    "    for string in selectedFeaturesInBoth:\n",
    "        writer.writerow([string])"
   ]
  },
  {
   "cell_type": "code",
   "execution_count": 63,
   "id": "2eaadeb3",
   "metadata": {},
   "outputs": [],
   "source": [
    "selectedFeaturesBasedOnStdList = selectedFeaturesBasedOnStd.tolist()\n",
    "selectedFeaturesBasedOnCVList = selectedFeaturesBasedOnCV.tolist()"
   ]
  },
  {
   "cell_type": "code",
   "execution_count": 64,
   "id": "73882225",
   "metadata": {},
   "outputs": [
    {
     "name": "stdout",
     "output_type": "stream",
     "text": [
      "318\n",
      "328\n"
     ]
    }
   ],
   "source": [
    "print(len(selectedFeaturesBasedOnStdList))\n",
    "print(len(selectedFeaturesBasedOnCVList))"
   ]
  },
  {
   "cell_type": "code",
   "execution_count": 62,
   "id": "216d3ace",
   "metadata": {},
   "outputs": [],
   "source": [
    "# now I will represent this two set of selected features by Venn Diagram"
   ]
  },
  {
   "cell_type": "code",
   "execution_count": 65,
   "id": "d409fa62",
   "metadata": {},
   "outputs": [],
   "source": [
    "inBothList = 0\n",
    "\n",
    "for feature in selectedFeaturesBasedOnStdList:\n",
    "    if feature in selectedFeaturesBasedOnCVList:\n",
    "        inBothList += 1\n",
    "        \n",
    "onlyInFirstList = len(selectedFeaturesBasedOnStdList) - inBothList\n",
    "onlyInSecondList = len(selectedFeaturesBasedOnCVList) - inBothList"
   ]
  },
  {
   "cell_type": "code",
   "execution_count": 68,
   "id": "b25576c5",
   "metadata": {},
   "outputs": [
    {
     "data": {
      "image/png": "[encoded data removed]",
      "text/plain": [
       "<Figure size 640x480 with 1 Axes>"
      ]
     },
     "metadata": {},
     "output_type": "display_data"
    }
   ],
   "source": [
    "# depict venn diagram \n",
    "venn2(subsets=(onlyInFirstList, onlyInSecondList, inBothList),  \n",
    "      set_labels=('Selected Feautres Preprocessed based on Mean STD', 'Selected Feautres Preprocessed based on Mean CV'), \n",
    "      set_colors=(\"orange\", \"blue\"), alpha=.7) \n",
    "  \n",
    "# add outline \n",
    "venn2_circles(subsets=(onlyInFirstList, onlyInSecondList, inBothList),  \n",
    "              linestyle=\"dashed\",  \n",
    "              linewidth=2) \n",
    "  \n",
    "\n",
    "# assign title of the venn diagram \n",
    "plt.title(\"Venn Diagram representing features selected by Lasso preprocessed based on Mean STD and Mean CV\")   \n",
    "plt.show()"
   ]
  },
  {
   "cell_type": "code",
   "execution_count": null,
   "id": "33ca1e2f",
   "metadata": {},
   "outputs": [],
   "source": []
  }
 ],
 "metadata": {
  "kernelspec": {
   "display_name": "Python 3 (ipykernel)",
   "language": "python",
   "name": "python3"
  },
  "language_info": {
   "codemirror_mode": {
    "name": "ipython",
    "version": 3
   },
   "file_extension": ".py",
   "mimetype": "text/x-python",
   "name": "python",
   "nbconvert_exporter": "python",
   "pygments_lexer": "ipython3",
   "version": "3.11.4"
  }
 },
 "nbformat": 4,
 "nbformat_minor": 5
}
