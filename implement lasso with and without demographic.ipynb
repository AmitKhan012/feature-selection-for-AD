{
 "cells": [
  {
   "cell_type": "code",
   "execution_count": 1,
   "id": "e9226ab8",
   "metadata": {},
   "outputs": [],
   "source": [
    "import warnings\n",
    "warnings.filterwarnings('ignore')"
   ]
  },
  {
   "cell_type": "code",
   "execution_count": 2,
   "id": "cf59d26f",
   "metadata": {},
   "outputs": [],
   "source": [
    "import csv\n",
    "import pandas as pd\n",
    "import pickle\n",
    "import statistics\n",
    "from sklearn.preprocessing import LabelEncoder, MinMaxScaler\n",
    "from sklearn.impute import KNNImputer\n",
    "import numpy as np\n",
    "# import altair as alt\n",
    "import matplotlib.pyplot as plt\n",
    "import seaborn as sns\n",
    "from collections import Counter, defaultdict\n",
    "from sklearn.linear_model import Lasso\n",
    "from sklearn.metrics import make_scorer, accuracy_score\n",
    "from sklearn.model_selection import GridSearchCV\n",
    "from sklearn.ensemble import RandomForestClassifier\n",
    "from matplotlib_venn import venn2, venn2_circles"
   ]
  },
  {
   "cell_type": "code",
   "execution_count": 3,
   "id": "893bb90d",
   "metadata": {},
   "outputs": [],
   "source": [
    "# now I will build the finalDataFrame\n",
    "# but this time I will call it finalDataFrameWithoutDemographic"
   ]
  },
  {
   "cell_type": "code",
   "execution_count": 3,
   "id": "2aa20594",
   "metadata": {},
   "outputs": [],
   "source": [
    "# loading the dataset which has the features (gene symbol)\n",
    "file_path = 'dataset/ADNI_Gene_Expression_Profile.csv'\n",
    "df1 = pd.read_csv(file_path)"
   ]
  },
  {
   "cell_type": "code",
   "execution_count": 4,
   "id": "abab505a",
   "metadata": {},
   "outputs": [],
   "source": [
    "# loading the dataset with targets (phenotype) and demographic (age, gender, ethnicity, race)\n",
    "file_path = 'dataset/Complete_ADNI_clinical_info.csv'\n",
    "df2 = pd.read_csv(file_path)"
   ]
  },
  {
   "cell_type": "code",
   "execution_count": 5,
   "id": "e4683a62",
   "metadata": {},
   "outputs": [],
   "source": [
    "col = df1.columns[3:747]\n",
    "# print(len(c))\n",
    "sampleList = []\n",
    "for c in col:\n",
    "    sample = df1.loc[:, c]\n",
    "    sample = sample.tolist()\n",
    "    sampleList.append(sample)\n",
    "\n",
    "tem_col = list(df1['Unnamed: 2'])\n",
    "tem_col[1] = 'IID'"
   ]
  },
  {
   "cell_type": "code",
   "execution_count": 6,
   "id": "202681e2",
   "metadata": {},
   "outputs": [],
   "source": [
    "# final step of making the finalDataFrameWithoutDemographic\n",
    "finalDataFrameWithoutDemographic = pd.DataFrame(sampleList, columns=tem_col)\n",
    "finalDataFrameWithoutDemographic = finalDataFrameWithoutDemographic.loc[:, finalDataFrameWithoutDemographic.columns.notna()]\n",
    "finalDataFrameWithoutDemographic = finalDataFrameWithoutDemographic.drop(columns=['Symbol'])\n",
    "\n",
    "finalDataFrameWithoutDemographic['Phenotype'] = \"\"\n",
    "\n",
    "for index, row in finalDataFrameWithoutDemographic.iterrows():\n",
    "    patientID = finalDataFrameWithoutDemographic.at[index, 'IID']\n",
    "    # cell_value = df.at[row_number, column_name]\n",
    "    #print(\"P ID: \", patient)\n",
    "    for index2, row2 in df2.iterrows():\n",
    "        if df2.at[index2, 'IID'] == patientID:\n",
    "            finalDataFrameWithoutDemographic.at[index, 'Phenotype'] = df2.at[index2, 'Phenotype']"
   ]
  },
  {
   "cell_type": "code",
   "execution_count": 8,
   "id": "e6897275",
   "metadata": {},
   "outputs": [],
   "source": [
    "# finalDataFrameWithoutDemographic.head()"
   ]
  },
  {
   "cell_type": "code",
   "execution_count": 7,
   "id": "adad67d1",
   "metadata": {},
   "outputs": [],
   "source": [
    "# final step of making the finalDataFrameWithDemographic\n",
    "\n",
    "finalDataFrameWithDemographic = pd.DataFrame(sampleList, columns=tem_col)\n",
    "finalDataFrameWithDemographic = finalDataFrameWithDemographic.loc[:, finalDataFrameWithDemographic.columns.notna()]\n",
    "finalDataFrameWithDemographic = finalDataFrameWithDemographic.drop(columns=['Symbol'])\n",
    "\n",
    "finalDataFrameWithDemographic['Age'] = \"\"\n",
    "finalDataFrameWithDemographic['Gender'] = \"\"\n",
    "finalDataFrameWithDemographic['Ethnicity'] = \"\"\n",
    "finalDataFrameWithDemographic['Race'] = \"\"\n",
    "finalDataFrameWithDemographic['Phenotype'] = \"\"\n",
    "\n",
    "for index, row in finalDataFrameWithoutDemographic.iterrows():\n",
    "    patientID = finalDataFrameWithoutDemographic.at[index, 'IID']\n",
    "    # cell_value = df.at[row_number, column_name]\n",
    "    #print(\"P ID: \", patient)\n",
    "    for index2, row2 in df2.iterrows():\n",
    "        if df2.at[index2, 'IID'] == patientID:\n",
    "            finalDataFrameWithDemographic.at[index, 'Age'] = df2.at[index2, 'Age']\n",
    "            finalDataFrameWithDemographic.at[index, 'Gender'] = df2.at[index2, 'Gender']\n",
    "            finalDataFrameWithDemographic.at[index, 'Ethnicity'] = df2.at[index2, 'Ethnicity']\n",
    "            finalDataFrameWithDemographic.at[index, 'Race'] = df2.at[index2, 'Race']\n",
    "            finalDataFrameWithDemographic.at[index, 'Phenotype'] = df2.at[index2, 'Phenotype']"
   ]
  },
  {
   "cell_type": "code",
   "execution_count": 11,
   "id": "c14af3aa",
   "metadata": {},
   "outputs": [],
   "source": [
    "# finalDataFrameWithDemographic.head()"
   ]
  },
  {
   "cell_type": "code",
   "execution_count": 35,
   "id": "8ea0d5de",
   "metadata": {},
   "outputs": [],
   "source": [
    "# now I will preprocess the finalDataFrame both with and without Demographic"
   ]
  },
  {
   "cell_type": "code",
   "execution_count": 8,
   "id": "9517d4f0",
   "metadata": {},
   "outputs": [],
   "source": [
    "pickle_file_name = 'keyDictionaryPickel.pickle'\n",
    "with open(pickle_file_name, 'rb') as file:\n",
    "    keyDictionary = pickle.load(file)"
   ]
  },
  {
   "cell_type": "code",
   "execution_count": 37,
   "id": "9b5a5dff",
   "metadata": {},
   "outputs": [],
   "source": [
    "# now I will preporcess finalDataFrameWithoutDemographic"
   ]
  },
  {
   "cell_type": "code",
   "execution_count": 9,
   "id": "cc5fa908",
   "metadata": {},
   "outputs": [],
   "source": [
    "columnsWithoutDemographic =  set(finalDataFrameWithoutDemographic.columns)\n",
    "idxsWithoutDemographic = finalDataFrameWithoutDemographic[\"IID\"]"
   ]
  },
  {
   "cell_type": "code",
   "execution_count": 10,
   "id": "1b7afd32",
   "metadata": {},
   "outputs": [],
   "source": [
    "dic = defaultdict(list)\n",
    "for idx in idxsWithoutDemographic:\n",
    "    for col in columnsWithoutDemographic:\n",
    "        res = keyDictionary.get((idx, col))\n",
    "        if res:\n",
    "            dic[col].append(np.mean(res))\n",
    "lastWithoutDemographic = pd.DataFrame(dic)"
   ]
  },
  {
   "cell_type": "code",
   "execution_count": 16,
   "id": "ea31385e",
   "metadata": {},
   "outputs": [],
   "source": [
    "# lastWithoutDemographic"
   ]
  },
  {
   "cell_type": "code",
   "execution_count": 11,
   "id": "dc3d45a9",
   "metadata": {},
   "outputs": [],
   "source": [
    "originalColWithoutDemographic = finalDataFrameWithoutDemographic.columns\n",
    "newColWithoutDemographic = lastWithoutDemographic.columns\n",
    "disjointColWithoutDemographic = [i for i in originalColWithoutDemographic if i not in newColWithoutDemographic]\n",
    "lastWithoutDemographic = lastWithoutDemographic.merge(finalDataFrameWithoutDemographic[disjointColWithoutDemographic], left_index=True, right_index=True)"
   ]
  },
  {
   "cell_type": "code",
   "execution_count": 48,
   "id": "941cb6f1",
   "metadata": {},
   "outputs": [],
   "source": [
    "# lastWithoutDemographic"
   ]
  },
  {
   "cell_type": "code",
   "execution_count": 12,
   "id": "119d0c09",
   "metadata": {},
   "outputs": [
    {
     "name": "stdout",
     "output_type": "stream",
     "text": [
      "16\n",
      "0\n"
     ]
    }
   ],
   "source": [
    "# there are 16 sample such that for that 16 samples phenotype is \"\". I will drop those samples/rows\n",
    "\n",
    "lastWithoutDemographic.replace(\"\", np.nan, inplace=True)\n",
    "print(sum(lastWithoutDemographic.isna().sum()))\n",
    "lastWithoutDemographic = lastWithoutDemographic[lastWithoutDemographic[\"Phenotype\"].notna()].reset_index(drop=True)\n",
    "print(sum(lastWithoutDemographic.isna().sum()))"
   ]
  },
  {
   "cell_type": "code",
   "execution_count": 13,
   "id": "ace9046d",
   "metadata": {},
   "outputs": [],
   "source": [
    "for col in lastWithoutDemographic.columns:\n",
    "    if (\n",
    "        any(lastWithoutDemographic[col].isna())\n",
    "        and lastWithoutDemographic[col].isna().value_counts().to_dict().get(True) / len(lastWithoutDemographic[col])\n",
    "        > 0.90\n",
    "    ):\n",
    "        print(col)\n",
    "        lastWithoutDemographic = lastWithoutDemographic.drop(col, axis=1)"
   ]
  },
  {
   "cell_type": "code",
   "execution_count": 14,
   "id": "8116f669",
   "metadata": {},
   "outputs": [
    {
     "data": {
      "text/html": [
       "<div>\n",
       "<style scoped>\n",
       "    .dataframe tbody tr th:only-of-type {\n",
       "        vertical-align: middle;\n",
       "    }\n",
       "\n",
       "    .dataframe tbody tr th {\n",
       "        vertical-align: top;\n",
       "    }\n",
       "\n",
       "    .dataframe thead th {\n",
       "        text-align: right;\n",
       "    }\n",
       "</style>\n",
       "<table border=\"1\" class=\"dataframe\">\n",
       "  <thead>\n",
       "    <tr style=\"text-align: right;\">\n",
       "      <th></th>\n",
       "      <th>ZNF425</th>\n",
       "      <th>COL4A1</th>\n",
       "      <th>RBL1</th>\n",
       "      <th>ARG2</th>\n",
       "      <th>EIF3CL || EIF3C</th>\n",
       "      <th>DDX17</th>\n",
       "      <th>SKIDA1</th>\n",
       "      <th>NUP210</th>\n",
       "      <th>MRPS28</th>\n",
       "      <th>DSCC1</th>\n",
       "      <th>...</th>\n",
       "      <th>ENSG00000233920</th>\n",
       "      <th>ENSG00000226276</th>\n",
       "      <th>ENSG00000228033</th>\n",
       "      <th>IFITM10</th>\n",
       "      <th>ND4</th>\n",
       "      <th>ENSG00000226406</th>\n",
       "      <th>ENSG00000255209</th>\n",
       "      <th>RPS10</th>\n",
       "      <th>RNA28S5 || RNA45S5</th>\n",
       "      <th>Phenotype</th>\n",
       "    </tr>\n",
       "  </thead>\n",
       "  <tbody>\n",
       "    <tr>\n",
       "      <th>0</th>\n",
       "      <td>2.5245</td>\n",
       "      <td>2.193333</td>\n",
       "      <td>3.054333</td>\n",
       "      <td>5.6575</td>\n",
       "      <td>7.4938</td>\n",
       "      <td>8.841333</td>\n",
       "      <td>2.29850</td>\n",
       "      <td>6.5660</td>\n",
       "      <td>5.1690</td>\n",
       "      <td>2.505000</td>\n",
       "      <td>...</td>\n",
       "      <td>2.800</td>\n",
       "      <td>2.681</td>\n",
       "      <td>1.944</td>\n",
       "      <td>3.513</td>\n",
       "      <td>11.901</td>\n",
       "      <td>3.186</td>\n",
       "      <td>2.235</td>\n",
       "      <td>11.932</td>\n",
       "      <td>4.416</td>\n",
       "      <td>2.0</td>\n",
       "    </tr>\n",
       "    <tr>\n",
       "      <th>1</th>\n",
       "      <td>2.5675</td>\n",
       "      <td>2.246667</td>\n",
       "      <td>3.295667</td>\n",
       "      <td>5.7840</td>\n",
       "      <td>7.1532</td>\n",
       "      <td>8.878000</td>\n",
       "      <td>2.31225</td>\n",
       "      <td>6.8125</td>\n",
       "      <td>5.6555</td>\n",
       "      <td>2.444000</td>\n",
       "      <td>...</td>\n",
       "      <td>3.196</td>\n",
       "      <td>4.888</td>\n",
       "      <td>1.924</td>\n",
       "      <td>3.058</td>\n",
       "      <td>11.695</td>\n",
       "      <td>2.883</td>\n",
       "      <td>2.435</td>\n",
       "      <td>12.202</td>\n",
       "      <td>4.746</td>\n",
       "      <td>0.0</td>\n",
       "    </tr>\n",
       "    <tr>\n",
       "      <th>2</th>\n",
       "      <td>2.7175</td>\n",
       "      <td>2.073000</td>\n",
       "      <td>3.227333</td>\n",
       "      <td>5.5900</td>\n",
       "      <td>7.2202</td>\n",
       "      <td>9.072000</td>\n",
       "      <td>2.33050</td>\n",
       "      <td>7.1500</td>\n",
       "      <td>5.3050</td>\n",
       "      <td>2.768000</td>\n",
       "      <td>...</td>\n",
       "      <td>3.401</td>\n",
       "      <td>3.120</td>\n",
       "      <td>1.853</td>\n",
       "      <td>3.907</td>\n",
       "      <td>12.042</td>\n",
       "      <td>3.535</td>\n",
       "      <td>2.356</td>\n",
       "      <td>12.148</td>\n",
       "      <td>5.519</td>\n",
       "      <td>2.0</td>\n",
       "    </tr>\n",
       "    <tr>\n",
       "      <th>3</th>\n",
       "      <td>2.6625</td>\n",
       "      <td>2.138667</td>\n",
       "      <td>3.184000</td>\n",
       "      <td>5.7615</td>\n",
       "      <td>7.4932</td>\n",
       "      <td>9.478333</td>\n",
       "      <td>2.32825</td>\n",
       "      <td>7.0510</td>\n",
       "      <td>4.5075</td>\n",
       "      <td>2.251333</td>\n",
       "      <td>...</td>\n",
       "      <td>3.260</td>\n",
       "      <td>3.177</td>\n",
       "      <td>2.104</td>\n",
       "      <td>4.007</td>\n",
       "      <td>12.182</td>\n",
       "      <td>3.507</td>\n",
       "      <td>2.005</td>\n",
       "      <td>11.871</td>\n",
       "      <td>5.281</td>\n",
       "      <td>0.0</td>\n",
       "    </tr>\n",
       "    <tr>\n",
       "      <th>4</th>\n",
       "      <td>2.7965</td>\n",
       "      <td>2.079667</td>\n",
       "      <td>3.121667</td>\n",
       "      <td>5.7055</td>\n",
       "      <td>7.1698</td>\n",
       "      <td>8.898000</td>\n",
       "      <td>2.21300</td>\n",
       "      <td>6.5210</td>\n",
       "      <td>4.8670</td>\n",
       "      <td>2.113000</td>\n",
       "      <td>...</td>\n",
       "      <td>3.000</td>\n",
       "      <td>3.401</td>\n",
       "      <td>2.091</td>\n",
       "      <td>3.517</td>\n",
       "      <td>11.856</td>\n",
       "      <td>2.780</td>\n",
       "      <td>2.138</td>\n",
       "      <td>12.072</td>\n",
       "      <td>4.514</td>\n",
       "      <td>1.0</td>\n",
       "    </tr>\n",
       "  </tbody>\n",
       "</table>\n",
       "<p>5 rows × 20094 columns</p>\n",
       "</div>"
      ],
      "text/plain": [
       "   ZNF425    COL4A1      RBL1    ARG2  EIF3CL || EIF3C     DDX17   SKIDA1  \\\n",
       "0  2.5245  2.193333  3.054333  5.6575           7.4938  8.841333  2.29850   \n",
       "1  2.5675  2.246667  3.295667  5.7840           7.1532  8.878000  2.31225   \n",
       "2  2.7175  2.073000  3.227333  5.5900           7.2202  9.072000  2.33050   \n",
       "3  2.6625  2.138667  3.184000  5.7615           7.4932  9.478333  2.32825   \n",
       "4  2.7965  2.079667  3.121667  5.7055           7.1698  8.898000  2.21300   \n",
       "\n",
       "   NUP210  MRPS28     DSCC1  ...  ENSG00000233920  ENSG00000226276  \\\n",
       "0  6.5660  5.1690  2.505000  ...            2.800            2.681   \n",
       "1  6.8125  5.6555  2.444000  ...            3.196            4.888   \n",
       "2  7.1500  5.3050  2.768000  ...            3.401            3.120   \n",
       "3  7.0510  4.5075  2.251333  ...            3.260            3.177   \n",
       "4  6.5210  4.8670  2.113000  ...            3.000            3.401   \n",
       "\n",
       "   ENSG00000228033  IFITM10     ND4  ENSG00000226406  ENSG00000255209   RPS10  \\\n",
       "0            1.944    3.513  11.901            3.186            2.235  11.932   \n",
       "1            1.924    3.058  11.695            2.883            2.435  12.202   \n",
       "2            1.853    3.907  12.042            3.535            2.356  12.148   \n",
       "3            2.104    4.007  12.182            3.507            2.005  11.871   \n",
       "4            2.091    3.517  11.856            2.780            2.138  12.072   \n",
       "\n",
       "   RNA28S5 || RNA45S5  Phenotype  \n",
       "0               4.416        2.0  \n",
       "1               4.746        0.0  \n",
       "2               5.519        2.0  \n",
       "3               5.281        0.0  \n",
       "4               4.514        1.0  \n",
       "\n",
       "[5 rows x 20094 columns]"
      ]
     },
     "execution_count": 14,
     "metadata": {},
     "output_type": "execute_result"
    }
   ],
   "source": [
    "lastWithoutDemographic.head()"
   ]
  },
  {
   "cell_type": "code",
   "execution_count": 22,
   "id": "75618284",
   "metadata": {},
   "outputs": [],
   "source": [
    "# # first I will save this preprocessed dataset to a csv file\n",
    "# file_path = 'preprocessed dataset/last_without_demographic.csv'\n",
    "\n",
    "# # Save the DataFrame to a CSV file\n",
    "# lastWithoutDemographic.to_csv(file_path, index=False)"
   ]
  },
  {
   "cell_type": "code",
   "execution_count": 56,
   "id": "cb0cfc4a",
   "metadata": {},
   "outputs": [],
   "source": [
    "# preprocessing done for the dataframe without demographic\n",
    "# now I will train lasso and extract the important features from this dataframe"
   ]
  },
  {
   "cell_type": "code",
   "execution_count": 15,
   "id": "87de9f71",
   "metadata": {},
   "outputs": [],
   "source": [
    "featuresWithoutDemographic = lastWithoutDemographic.drop('Phenotype', axis = 1)\n",
    "targetWithoutDemographic = lastWithoutDemographic['Phenotype']"
   ]
  },
  {
   "cell_type": "code",
   "execution_count": 16,
   "id": "b5e65626",
   "metadata": {},
   "outputs": [],
   "source": [
    "featuresWithoutDemographic = featuresWithoutDemographic.drop('IID', axis = 1)"
   ]
  },
  {
   "cell_type": "code",
   "execution_count": 17,
   "id": "e0371c84",
   "metadata": {},
   "outputs": [],
   "source": [
    "lasso1 = Lasso(alpha=0.01)\n",
    "lasso1.fit(featuresWithoutDemographic, targetWithoutDemographic)\n",
    "selectedFeaturesWithoutDemographic = featuresWithoutDemographic.columns[lasso1.coef_ != 0.0]"
   ]
  },
  {
   "cell_type": "code",
   "execution_count": 23,
   "id": "72e4f4a8",
   "metadata": {},
   "outputs": [],
   "source": [
    "pd.DataFrame(selectedFeaturesWithoutDemographic, columns = ['Gene']).to_csv('selectedFeaturesWithoutDemographic.csv')"
   ]
  },
  {
   "cell_type": "code",
   "execution_count": 19,
   "id": "da468b22",
   "metadata": {},
   "outputs": [
    {
     "data": {
      "text/plain": [
       "pandas.core.indexes.base.Index"
      ]
     },
     "execution_count": 19,
     "metadata": {},
     "output_type": "execute_result"
    }
   ],
   "source": [
    "type(selectedFeaturesWithoutDemographic)"
   ]
  },
  {
   "cell_type": "code",
   "execution_count": 10,
   "id": "00adda0e",
   "metadata": {},
   "outputs": [],
   "source": [
    "columnsWithDemographic =  set(finalDataFrameWithDemographic.columns)\n",
    "idxsWithDemographic = finalDataFrameWithDemographic[\"IID\"]"
   ]
  },
  {
   "cell_type": "code",
   "execution_count": 11,
   "id": "331a8208",
   "metadata": {},
   "outputs": [],
   "source": [
    "dic2 = defaultdict(list)\n",
    "for idx in idxsWithDemographic:\n",
    "    for col in columnsWithDemographic:\n",
    "        res = keyDictionary.get((idx, col))\n",
    "        if res:\n",
    "            dic2[col].append(np.mean(res))\n",
    "lastWithDemographic = pd.DataFrame(dic2)"
   ]
  },
  {
   "cell_type": "code",
   "execution_count": 30,
   "id": "5b6ab5b9",
   "metadata": {},
   "outputs": [],
   "source": [
    "# lastWithDemographic"
   ]
  },
  {
   "cell_type": "code",
   "execution_count": 26,
   "id": "7a91f672",
   "metadata": {},
   "outputs": [],
   "source": [
    "originalColWithDemographic = finalDataFrameWithDemographic.columns\n",
    "newColWithDemographic = lastWithDemographic.columns\n",
    "disjointColWithDemographic = [i for i in originalColWithDemographic if i not in newColWithDemographic]\n",
    "lastWithDemographic = lastWithDemographic.merge(finalDataFrameWithDemographic[disjointColWithDemographic], left_index=True, right_index=True)"
   ]
  },
  {
   "cell_type": "code",
   "execution_count": 44,
   "id": "e476e703",
   "metadata": {},
   "outputs": [],
   "source": [
    "# lastWithDemographic"
   ]
  },
  {
   "cell_type": "code",
   "execution_count": 27,
   "id": "7048a48d",
   "metadata": {},
   "outputs": [
    {
     "name": "stdout",
     "output_type": "stream",
     "text": [
      "80\n",
      "0\n"
     ]
    }
   ],
   "source": [
    "# there are 16 sample such that for that 16 samples phenotype is \"\". I will drop those samples/rows\n",
    "\n",
    "lastWithDemographic.replace(\"\", np.nan, inplace=True)\n",
    "print(sum(lastWithDemographic.isna().sum()))\n",
    "lastWithDemographic = lastWithDemographic[lastWithDemographic[\"Phenotype\"].notna()].reset_index(drop=True)\n",
    "print(sum(lastWithDemographic.isna().sum()))"
   ]
  },
  {
   "cell_type": "code",
   "execution_count": 28,
   "id": "f3e80816",
   "metadata": {},
   "outputs": [],
   "source": [
    "for col in lastWithDemographic.columns:\n",
    "    if (\n",
    "        any(lastWithDemographic[col].isna())\n",
    "        and lastWithDemographic[col].isna().value_counts().to_dict().get(True) / len(lastWithDemographic[col])\n",
    "        > 0.90\n",
    "    ):\n",
    "        print(col)\n",
    "        lastWithDemographic = lastWithDemographic.drop(col, axis=1)"
   ]
  },
  {
   "cell_type": "code",
   "execution_count": 53,
   "id": "211221b5",
   "metadata": {},
   "outputs": [
    {
     "name": "stdout",
     "output_type": "stream",
     "text": [
      "55.6\n",
      "96.9\n"
     ]
    }
   ],
   "source": [
    "print(min(lastWithDemographic['Age']))\n",
    "print(max(lastWithDemographic['Age']))"
   ]
  },
  {
   "cell_type": "code",
   "execution_count": 54,
   "id": "a35288d2",
   "metadata": {},
   "outputs": [],
   "source": [
    "# as the limit of the age feature is not that big (97-56=41) \n",
    "# I have decided not to normalize this feature\n",
    "# in addition, lasso isn't that sensitive to the scale of features"
   ]
  },
  {
   "cell_type": "code",
   "execution_count": 29,
   "id": "4f33f388",
   "metadata": {},
   "outputs": [],
   "source": [
    "featuresWithDemographic = lastWithDemographic.drop('Phenotype', axis = 1)\n",
    "targetWithDemographic = lastWithDemographic['Phenotype']"
   ]
  },
  {
   "cell_type": "code",
   "execution_count": 30,
   "id": "1946b01c",
   "metadata": {},
   "outputs": [],
   "source": [
    "featuresWithDemographic = featuresWithDemographic.drop('IID', axis = 1)"
   ]
  },
  {
   "cell_type": "code",
   "execution_count": 31,
   "id": "54ac77ef",
   "metadata": {},
   "outputs": [],
   "source": [
    "lasso2 = Lasso(alpha=0.01)\n",
    "lasso2.fit(featuresWithDemographic, targetWithDemographic)\n",
    "selectedFeaturesWithDemographic = featuresWithDemographic.columns[lasso2.coef_ != 0.0]"
   ]
  },
  {
   "cell_type": "code",
   "execution_count": 32,
   "id": "9a6434a7",
   "metadata": {},
   "outputs": [
    {
     "data": {
      "text/plain": [
       "310"
      ]
     },
     "execution_count": 32,
     "metadata": {},
     "output_type": "execute_result"
    }
   ],
   "source": [
    "len(selectedFeaturesWithDemographic)"
   ]
  },
  {
   "cell_type": "code",
   "execution_count": 33,
   "id": "c5c84ea1",
   "metadata": {},
   "outputs": [],
   "source": [
    "pd.DataFrame(selectedFeaturesWithDemographic, columns = ['Gene']).to_csv('selectedFeaturesWithDemographic.csv')"
   ]
  },
  {
   "cell_type": "code",
   "execution_count": 34,
   "id": "2a3b153a",
   "metadata": {},
   "outputs": [],
   "source": [
    "selectedFeaturesWithoutDemographicList = selectedFeaturesWithoutDemographic.tolist()\n",
    "selectedFeaturesWithDemographicList = selectedFeaturesWithDemographic.tolist()"
   ]
  },
  {
   "cell_type": "code",
   "execution_count": 35,
   "id": "3d669922",
   "metadata": {},
   "outputs": [
    {
     "name": "stdout",
     "output_type": "stream",
     "text": [
      "299\n",
      "310\n"
     ]
    }
   ],
   "source": [
    "print(len(selectedFeaturesWithoutDemographicList))\n",
    "print(len(selectedFeaturesWithDemographicList))"
   ]
  },
  {
   "cell_type": "code",
   "execution_count": 73,
   "id": "3ff686d0",
   "metadata": {},
   "outputs": [],
   "source": [
    "# now I will represent this two set of selected features by Venn Diagram"
   ]
  },
  {
   "cell_type": "code",
   "execution_count": 36,
   "id": "fa2fe1b6",
   "metadata": {},
   "outputs": [],
   "source": [
    "selectedFeaturesInBoth = []\n",
    "for feature in selectedFeaturesWithoutDemographicList:\n",
    "    if feature in selectedFeaturesWithDemographicList:\n",
    "        selectedFeaturesInBoth.append(feature)"
   ]
  },
  {
   "cell_type": "code",
   "execution_count": 39,
   "id": "3e8a189b",
   "metadata": {},
   "outputs": [],
   "source": [
    "# print(selectedFeaturesInBoth)"
   ]
  },
  {
   "cell_type": "code",
   "execution_count": 40,
   "id": "9adf0967",
   "metadata": {},
   "outputs": [],
   "source": [
    "csv_file = \"selectedFeaturesInBoth.csv\"\n",
    "\n",
    "# Open the CSV file in write mode\n",
    "with open(csv_file, mode='w', newline='') as file:\n",
    "    writer = csv.writer(file)\n",
    "\n",
    "    # Write the strings to the CSV file, one per row in the first column\n",
    "    for string in selectedFeaturesInBoth:\n",
    "        writer.writerow([string])"
   ]
  },
  {
   "cell_type": "code",
   "execution_count": 76,
   "id": "727d7999",
   "metadata": {},
   "outputs": [],
   "source": [
    "inBothList = 0\n",
    "\n",
    "for feature in selectedFeaturesWithoutDemographicList:\n",
    "    if feature in selectedFeaturesWithDemographicList:\n",
    "        inBothList += 1\n",
    "        \n",
    "onlyInFirstList = len(selectedFeaturesWithoutDemographicList) - inBothList\n",
    "onlyInSecondList = len(selectedFeaturesWithDemographicList) - inBothList"
   ]
  },
  {
   "cell_type": "code",
   "execution_count": 88,
   "id": "61186051",
   "metadata": {},
   "outputs": [
    {
     "data": {
      "image/png": "[encoded data removed]",
      "text/plain": [
       "<Figure size 640x480 with 1 Axes>"
      ]
     },
     "metadata": {},
     "output_type": "display_data"
    }
   ],
   "source": [
    "# depict venn diagram \n",
    "venn2(subsets=(onlyInFirstList, onlyInSecondList, inBothList),  \n",
    "      set_labels=('Selected Feautres without Demographic', 'Selected Feautres with Demographic'), \n",
    "      set_colors=(\"orange\", \"blue\"), alpha=.7) \n",
    "  \n",
    "# add outline \n",
    "venn2_circles(subsets=(onlyInFirstList, onlyInSecondList, inBothList),  \n",
    "              linestyle=\"dashed\",  \n",
    "              linewidth=2) \n",
    "  \n",
    "\n",
    "# assign title of the venn diagram \n",
    "plt.title(\"Venn Diagram representing features selected by Lasso without and with Demographic\")   \n",
    "plt.show()"
   ]
  },
  {
   "cell_type": "code",
   "execution_count": null,
   "id": "a8f951ce",
   "metadata": {},
   "outputs": [],
   "source": []
  }
 ],
 "metadata": {
  "kernelspec": {
   "display_name": "Python 3 (ipykernel)",
   "language": "python",
   "name": "python3"
  },
  "language_info": {
   "codemirror_mode": {
    "name": "ipython",
    "version": 3
   },
   "file_extension": ".py",
   "mimetype": "text/x-python",
   "name": "python",
   "nbconvert_exporter": "python",
   "pygments_lexer": "ipython3",
   "version": "3.11.4"
  }
 },
 "nbformat": 4,
 "nbformat_minor": 5
}
