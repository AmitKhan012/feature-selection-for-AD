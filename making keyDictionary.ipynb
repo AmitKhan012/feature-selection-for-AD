{
 "cells": [
  {
   "cell_type": "code",
   "execution_count": 1,
   "id": "44f268c0",
   "metadata": {},
   "outputs": [],
   "source": [
    "import warnings\n",
    "warnings.filterwarnings('ignore')"
   ]
  },
  {
   "cell_type": "code",
   "execution_count": 2,
   "id": "eaf70545",
   "metadata": {},
   "outputs": [],
   "source": [
    "import pandas as pd\n",
    "import pickle\n",
    "import statistics"
   ]
  },
  {
   "cell_type": "code",
   "execution_count": 3,
   "id": "71f727b8",
   "metadata": {},
   "outputs": [],
   "source": [
    "# loading the dataset which has the features (gene symbol)\n",
    "file_path = 'ADNI_Gene_Expression_Profile.csv'\n",
    "df1 = pd.read_csv(file_path)"
   ]
  },
  {
   "cell_type": "code",
   "execution_count": 4,
   "id": "4940b9e0",
   "metadata": {},
   "outputs": [],
   "source": [
    "col = df1.columns[3:747]\n",
    "# print(len(c))\n",
    "sampleList = []\n",
    "for c in col:\n",
    "    sample = df1.loc[:, c]\n",
    "    sample = sample.tolist()\n",
    "    sampleList.append(sample)"
   ]
  },
  {
   "cell_type": "code",
   "execution_count": 5,
   "id": "53483d7f",
   "metadata": {},
   "outputs": [],
   "source": [
    "# loading the dataset which has the targets (Phenotype)\n",
    "file_path = 'Complete_ADNI_clinical_info.csv'\n",
    "df2 = pd.read_csv(file_path)\n",
    "# df2.head(10)"
   ]
  },
  {
   "cell_type": "code",
   "execution_count": 6,
   "id": "15acddf4",
   "metadata": {},
   "outputs": [],
   "source": [
    "tem_col = list(df1['Unnamed: 2'])\n",
    "tem_col[1] = 'IID'\n",
    "#tem_col.insert(0, 'IDD')"
   ]
  },
  {
   "cell_type": "code",
   "execution_count": 7,
   "id": "2e4bd09e",
   "metadata": {},
   "outputs": [],
   "source": [
    "finalDataFrame = pd.DataFrame(sampleList, columns=tem_col)\n",
    "finalDataFrame = finalDataFrame.loc[:, finalDataFrame.columns.notna()]\n",
    "finalDataFrame = finalDataFrame.drop(columns=['Symbol'])"
   ]
  },
  {
   "cell_type": "code",
   "execution_count": 8,
   "id": "26229b5e",
   "metadata": {},
   "outputs": [],
   "source": [
    "finalDataFrame['Phenotype'] = \"\""
   ]
  },
  {
   "cell_type": "code",
   "execution_count": 9,
   "id": "fdb504bd",
   "metadata": {},
   "outputs": [],
   "source": [
    "for index, row in finalDataFrame.iterrows():\n",
    "    patientID = finalDataFrame.at[index, 'IID']\n",
    "    # cell_value = df.at[row_number, column_name]\n",
    "    #print(\"P ID: \", patient)\n",
    "    for index2, row2 in df2.iterrows():\n",
    "        if df2.at[index2, 'IID'] == patientID:\n",
    "            finalDataFrame.at[index, 'Phenotype'] = df2.at[index2, 'Phenotype']"
   ]
  },
  {
   "cell_type": "code",
   "execution_count": 10,
   "id": "3bc1cd0c",
   "metadata": {},
   "outputs": [],
   "source": [
    "geneSymbols = finalDataFrame.columns.tolist()"
   ]
  },
  {
   "cell_type": "code",
   "execution_count": 11,
   "id": "6d7d52a4",
   "metadata": {},
   "outputs": [],
   "source": [
    "geneSymbolsFrequency = {}\n",
    "\n",
    "for geneSymbol in geneSymbols:\n",
    "    if geneSymbol in geneSymbolsFrequency:\n",
    "        geneSymbolsFrequency[geneSymbol] += 1\n",
    "    else:\n",
    "        geneSymbolsFrequency[geneSymbol] = 1"
   ]
  },
  {
   "cell_type": "code",
   "execution_count": 12,
   "id": "6a650c6a",
   "metadata": {},
   "outputs": [],
   "source": [
    "geneSymbolsWithMoreFrequency = {}\n",
    "for geneSymbol, frequency in geneSymbolsFrequency.items():\n",
    "    if frequency > 1:\n",
    "        geneSymbolsWithMoreFrequency[geneSymbol] = frequency"
   ]
  },
  {
   "cell_type": "code",
   "execution_count": 13,
   "id": "d8129c0d",
   "metadata": {},
   "outputs": [],
   "source": [
    "keyDictionary = {}\n",
    "for i in range(len(finalDataFrame)):\n",
    "    patientID = finalDataFrame.iloc[i,0]\n",
    "    count = 0\n",
    "    for geneSymbol, frequency in geneSymbolsWithMoreFrequency.items():\n",
    "        key = (patientID, geneSymbol)\n",
    "        keyDictionary[key] = []\n",
    "        #for j in range(frequency):\n",
    "        temp_data = list(finalDataFrame.loc[i, geneSymbol])\n",
    "        for j in range(len(temp_data)):\n",
    "            keyDictionary[key].append(float(temp_data[j]))\n",
    "        count += 1\n",
    "        if count == 5000:\n",
    "            break"
   ]
  },
  {
   "cell_type": "code",
   "execution_count": 16,
   "id": "3794fa4e",
   "metadata": {},
   "outputs": [
    {
     "name": "stdout",
     "output_type": "stream",
     "text": [
      "3720000\n"
     ]
    }
   ],
   "source": [
    "print(len(keyDictionary)) # 744 * 50000 = 3720000"
   ]
  },
  {
   "cell_type": "code",
   "execution_count": 15,
   "id": "3d8a61fe",
   "metadata": {},
   "outputs": [],
   "source": [
    "pickle_file_name = 'keyDictionaryPickel5000.pickle'\n",
    "\n",
    "with open(pickle_file_name, 'wb') as file:\n",
    "    pickle.dump(keyDictionary, file)"
   ]
  },
  {
   "cell_type": "code",
   "execution_count": 17,
   "id": "1204bc80",
   "metadata": {},
   "outputs": [],
   "source": [
    "# NOW I WILL MAKE THIS keyDictionary for all the gene symbol\n",
    "# AND DON'T INTERRUPT IT NO MATTER HOW MUCH TIME IT TAKES"
   ]
  },
  {
   "cell_type": "code",
   "execution_count": 18,
   "id": "06791fbc",
   "metadata": {},
   "outputs": [],
   "source": [
    "keyDictionary = {}\n",
    "for i in range(len(finalDataFrame)):\n",
    "    patientID = finalDataFrame.iloc[i,0]\n",
    "    for geneSymbol, frequency in geneSymbolsWithMoreFrequency.items():\n",
    "        key = (patientID, geneSymbol)\n",
    "        keyDictionary[key] = []\n",
    "        #for j in range(frequency):\n",
    "        temp_data = list(finalDataFrame.loc[i, geneSymbol])\n",
    "        for j in range(len(temp_data)):\n",
    "            keyDictionary[key].append(float(temp_data[j]))"
   ]
  },
  {
   "cell_type": "code",
   "execution_count": 19,
   "id": "b7b8ebdc",
   "metadata": {},
   "outputs": [
    {
     "data": {
      "text/plain": [
       "9300000"
      ]
     },
     "execution_count": 19,
     "metadata": {},
     "output_type": "execute_result"
    }
   ],
   "source": [
    "len(keyDictionary)"
   ]
  },
  {
   "cell_type": "code",
   "execution_count": 20,
   "id": "0b50dd98",
   "metadata": {},
   "outputs": [],
   "source": [
    "pickle_file_name = 'keyDictionaryPickel.pickle'\n",
    "\n",
    "with open(pickle_file_name, 'wb') as file:\n",
    "    pickle.dump(keyDictionary, file)"
   ]
  },
  {
   "cell_type": "code",
   "execution_count": null,
   "id": "01063d28",
   "metadata": {},
   "outputs": [],
   "source": []
  }
 ],
 "metadata": {
  "kernelspec": {
   "display_name": "Python 3 (ipykernel)",
   "language": "python",
   "name": "python3"
  },
  "language_info": {
   "codemirror_mode": {
    "name": "ipython",
    "version": 3
   },
   "file_extension": ".py",
   "mimetype": "text/x-python",
   "name": "python",
   "nbconvert_exporter": "python",
   "pygments_lexer": "ipython3",
   "version": "3.11.4"
  }
 },
 "nbformat": 4,
 "nbformat_minor": 5
}
