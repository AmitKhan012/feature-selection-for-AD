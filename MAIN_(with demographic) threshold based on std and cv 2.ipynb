{
 "cells": [
  {
   "cell_type": "code",
   "execution_count": 1,
   "id": "7de19f60",
   "metadata": {},
   "outputs": [],
   "source": [
    "# this time if there is a high threshold or cv will choose max instead of median"
   ]
  },
  {
   "cell_type": "code",
   "execution_count": 2,
   "id": "0d1215fa",
   "metadata": {},
   "outputs": [],
   "source": [
    "import warnings\n",
    "warnings.filterwarnings('ignore')"
   ]
  },
  {
   "cell_type": "code",
   "execution_count": 3,
   "id": "0ef6c4cf",
   "metadata": {},
   "outputs": [],
   "source": [
    "import pandas as pd\n",
    "import csv\n",
    "import pickle\n",
    "import statistics\n",
    "import numpy as np\n",
    "import matplotlib.pyplot as plt\n",
    "import seaborn as sns\n",
    "from collections import Counter, defaultdict\n",
    "from sklearn.linear_model import Lasso\n",
    "from sklearn.metrics import make_scorer, accuracy_score\n",
    "from sklearn.model_selection import GridSearchCV\n",
    "from sklearn.ensemble import RandomForestClassifier\n",
    "from matplotlib_venn import venn2, venn2_circles\n",
    "from sklearn.model_selection import train_test_split\n",
    "from sklearn.preprocessing import StandardScaler\n",
    "from sklearn.metrics import confusion_matrix"
   ]
  },
  {
   "cell_type": "code",
   "execution_count": 4,
   "id": "a416a7c7",
   "metadata": {},
   "outputs": [],
   "source": [
    "# build the final data frame\n",
    "\n",
    "# loading the dataset which has the features (gene symbol)\n",
    "file_path = 'dataset/ADNI_Gene_Expression_Profile.csv'\n",
    "df1 = pd.read_csv(file_path)\n",
    "\n",
    "# df1.head()\n",
    "\n",
    "col = df1.columns[3:747]\n",
    "# print(len(c))\n",
    "sampleList = []\n",
    "for c in col:\n",
    "    sample = df1.loc[:, c]\n",
    "    sample = sample.tolist()\n",
    "    sampleList.append(sample)\n",
    "    \n",
    "file_path = 'dataset/Complete_ADNI_clinical_info.csv'\n",
    "df2 = pd.read_csv(file_path)\n",
    "\n",
    "# df2.head(10)\n",
    "\n",
    "tem_col = list(df1['Unnamed: 2'])\n",
    "tem_col[1] = 'IID'\n",
    "\n",
    "finalDataFrame = pd.DataFrame(sampleList, columns=tem_col)\n",
    "finalDataFrame = finalDataFrame.loc[:, finalDataFrame.columns.notna()]\n",
    "finalDataFrame = finalDataFrame.drop(columns=['Symbol'])\n",
    "\n",
    "finalDataFrame['Age'] = \"\"\n",
    "finalDataFrame['Gender'] = \"\"\n",
    "finalDataFrame['Ethnicity'] = \"\"\n",
    "finalDataFrame['Race'] = \"\"\n",
    "finalDataFrame['Phenotype'] = \"\"\n",
    "\n",
    "for index, row in finalDataFrame.iterrows():\n",
    "    patientID = finalDataFrame.at[index, 'IID']\n",
    "    # cell_value = df.at[row_number, column_name]\n",
    "    #print(\"P ID: \", patient)\n",
    "    for index2, row2 in df2.iterrows():\n",
    "        if df2.at[index2, 'IID'] == patientID:\n",
    "            finalDataFrame.at[index, 'Age'] = df2.at[index2, 'Age']\n",
    "            finalDataFrame.at[index, 'Gender'] = df2.at[index2, 'Gender']\n",
    "            finalDataFrame.at[index, 'Ethnicity'] = df2.at[index2, 'Ethnicity']\n",
    "            finalDataFrame.at[index, 'Race'] = df2.at[index2, 'Race']\n",
    "            finalDataFrame.at[index, 'Phenotype'] = df2.at[index2, 'Phenotype']"
   ]
  },
  {
   "cell_type": "code",
   "execution_count": 5,
   "id": "2c0527a1",
   "metadata": {},
   "outputs": [],
   "source": [
    "pickle_file_name = 'keyDictionaryPickel.pickle'\n",
    "with open(pickle_file_name, 'rb') as file:\n",
    "    keyDictionary = pickle.load(file)"
   ]
  },
  {
   "cell_type": "code",
   "execution_count": 6,
   "id": "4cdd76e4",
   "metadata": {},
   "outputs": [],
   "source": [
    "geneMetrics = pd.read_csv(\"dataset/Gene_Metrics_Info.csv\")"
   ]
  },
  {
   "cell_type": "code",
   "execution_count": 7,
   "id": "7e46f8b2",
   "metadata": {},
   "outputs": [],
   "source": [
    "# geneMetrics.head()"
   ]
  },
  {
   "cell_type": "code",
   "execution_count": 8,
   "id": "3de822a2",
   "metadata": {},
   "outputs": [],
   "source": [
    "lowHighGeneSymbolBasedOnStd = {}\n",
    "\n",
    "for index, row in geneMetrics.iterrows():\n",
    "    msd = geneMetrics.at[index, 'Mean Standard Deviation']\n",
    "    key = geneMetrics.at[index, 'Gene Symbol']\n",
    "    if msd > 1.5:\n",
    "        lowHighGeneSymbolBasedOnStd[key] = 1\n",
    "    else:\n",
    "        lowHighGeneSymbolBasedOnStd[key] = 0"
   ]
  },
  {
   "cell_type": "code",
   "execution_count": 9,
   "id": "4473067b",
   "metadata": {},
   "outputs": [],
   "source": [
    "columns =  set(finalDataFrame.columns)\n",
    "idxs = finalDataFrame[\"IID\"]"
   ]
  },
  {
   "cell_type": "code",
   "execution_count": 10,
   "id": "a262c3fd",
   "metadata": {},
   "outputs": [],
   "source": [
    "dic = defaultdict(list)\n",
    "for idx in idxs:\n",
    "    for col in columns:\n",
    "        res = keyDictionary.get((idx, col))\n",
    "        if res:\n",
    "            if lowHighGeneSymbolBasedOnStd[col] == 0:\n",
    "                dic[col].append(np.mean(res))\n",
    "            else:\n",
    "                dic[col].append(np.amax(res))\n",
    "lastBasedOnStd = pd.DataFrame(dic)"
   ]
  },
  {
   "cell_type": "code",
   "execution_count": 11,
   "id": "021babc4",
   "metadata": {},
   "outputs": [],
   "source": [
    "original_col = finalDataFrame.columns\n",
    "new_colBasedOnStd = lastBasedOnStd.columns\n",
    "disjointBasedOnStd = [i for i in original_col if i not in new_colBasedOnStd]\n",
    "lastBasedOnStd = lastBasedOnStd.merge(finalDataFrame[disjointBasedOnStd], left_index=True, right_index=True)"
   ]
  },
  {
   "cell_type": "code",
   "execution_count": 12,
   "id": "722db44d",
   "metadata": {},
   "outputs": [
    {
     "name": "stdout",
     "output_type": "stream",
     "text": [
      "80\n",
      "0\n"
     ]
    }
   ],
   "source": [
    "lastBasedOnStd.replace(\"\", np.nan, inplace=True)\n",
    "print(sum(lastBasedOnStd.isna().sum()))\n",
    "lastBasedOnStd = lastBasedOnStd[lastBasedOnStd[\"Phenotype\"].notna()].reset_index(drop=True)\n",
    "print(sum(lastBasedOnStd.isna().sum()))"
   ]
  },
  {
   "cell_type": "code",
   "execution_count": 13,
   "id": "199e969a",
   "metadata": {},
   "outputs": [],
   "source": [
    "for col in lastBasedOnStd.columns:\n",
    "    if (\n",
    "        any(lastBasedOnStd[col].isna())\n",
    "        and lastBasedOnStd[col].isna().value_counts().to_dict().get(True) / len(lastBasedOnStd[col])\n",
    "        > 0.90\n",
    "    ):\n",
    "        print(col)\n",
    "        lastBasedOnStd = lastBasedOnStd.drop(col, axis=1)"
   ]
  },
  {
   "cell_type": "code",
   "execution_count": 14,
   "id": "9ae4d330",
   "metadata": {},
   "outputs": [],
   "source": [
    "featuresBasedOnStd = lastBasedOnStd.drop('Phenotype', axis = 1)\n",
    "targetBasedOnStd = lastBasedOnStd['Phenotype']\n",
    "featuresBasedOnStd = featuresBasedOnStd.drop('IID', axis = 1)"
   ]
  },
  {
   "cell_type": "code",
   "execution_count": 15,
   "id": "532e0420",
   "metadata": {},
   "outputs": [],
   "source": [
    "lasso1 = Lasso(alpha=0.01)\n",
    "lasso1.fit(featuresBasedOnStd, targetBasedOnStd)\n",
    "selectedFeaturesBasedOnStd = featuresBasedOnStd.columns[lasso1.coef_ != 0.0]"
   ]
  },
  {
   "cell_type": "code",
   "execution_count": 16,
   "id": "dc23b69e",
   "metadata": {},
   "outputs": [
    {
     "data": {
      "text/plain": [
       "321"
      ]
     },
     "execution_count": 16,
     "metadata": {},
     "output_type": "execute_result"
    }
   ],
   "source": [
    "len(selectedFeaturesBasedOnStd)"
   ]
  },
  {
   "cell_type": "code",
   "execution_count": 17,
   "id": "7635c8ea",
   "metadata": {},
   "outputs": [],
   "source": [
    "X = lastBasedOnStd[selectedFeaturesBasedOnStd]\n",
    "y = lastBasedOnStd['Phenotype']"
   ]
  },
  {
   "cell_type": "code",
   "execution_count": 18,
   "id": "615319f7",
   "metadata": {},
   "outputs": [
    {
     "data": {
      "text/html": [
       "<div>\n",
       "<style scoped>\n",
       "    .dataframe tbody tr th:only-of-type {\n",
       "        vertical-align: middle;\n",
       "    }\n",
       "\n",
       "    .dataframe tbody tr th {\n",
       "        vertical-align: top;\n",
       "    }\n",
       "\n",
       "    .dataframe thead th {\n",
       "        text-align: right;\n",
       "    }\n",
       "</style>\n",
       "<table border=\"1\" class=\"dataframe\">\n",
       "  <thead>\n",
       "    <tr style=\"text-align: right;\">\n",
       "      <th></th>\n",
       "      <th>KANK1</th>\n",
       "      <th>HSD17B13</th>\n",
       "      <th>SRD5A3</th>\n",
       "      <th>LINC00494</th>\n",
       "      <th>PPAT</th>\n",
       "      <th>SPRY1</th>\n",
       "      <th>PFN1P2</th>\n",
       "      <th>MEX3C</th>\n",
       "      <th>TWSG1</th>\n",
       "      <th>GOLGA8A</th>\n",
       "      <th>...</th>\n",
       "      <th>CATR1</th>\n",
       "      <th>LOC101927618</th>\n",
       "      <th>ENSG00000211776</th>\n",
       "      <th>ENSG00000211716 || ENSG00000261031</th>\n",
       "      <th>ENSG00000211638</th>\n",
       "      <th>IGHA2</th>\n",
       "      <th>LOC100505946</th>\n",
       "      <th>LOC101929125</th>\n",
       "      <th>SNORA16B</th>\n",
       "      <th>Age</th>\n",
       "    </tr>\n",
       "  </thead>\n",
       "  <tbody>\n",
       "    <tr>\n",
       "      <th>0</th>\n",
       "      <td>6.824</td>\n",
       "      <td>5.761</td>\n",
       "      <td>5.484</td>\n",
       "      <td>4.689</td>\n",
       "      <td>9.027</td>\n",
       "      <td>3.713667</td>\n",
       "      <td>4.062667</td>\n",
       "      <td>7.854</td>\n",
       "      <td>3.961333</td>\n",
       "      <td>8.144</td>\n",
       "      <td>...</td>\n",
       "      <td>3.110</td>\n",
       "      <td>4.705</td>\n",
       "      <td>4.460</td>\n",
       "      <td>7.021</td>\n",
       "      <td>4.070</td>\n",
       "      <td>8.176</td>\n",
       "      <td>2.307</td>\n",
       "      <td>5.371</td>\n",
       "      <td>3.551</td>\n",
       "      <td>78.8</td>\n",
       "    </tr>\n",
       "    <tr>\n",
       "      <th>1</th>\n",
       "      <td>6.741</td>\n",
       "      <td>4.769</td>\n",
       "      <td>6.415</td>\n",
       "      <td>5.149</td>\n",
       "      <td>8.697</td>\n",
       "      <td>3.043333</td>\n",
       "      <td>5.147333</td>\n",
       "      <td>8.909</td>\n",
       "      <td>5.278667</td>\n",
       "      <td>7.863</td>\n",
       "      <td>...</td>\n",
       "      <td>2.953</td>\n",
       "      <td>4.929</td>\n",
       "      <td>4.955</td>\n",
       "      <td>6.793</td>\n",
       "      <td>4.352</td>\n",
       "      <td>8.014</td>\n",
       "      <td>2.488</td>\n",
       "      <td>6.921</td>\n",
       "      <td>3.507</td>\n",
       "      <td>69.1</td>\n",
       "    </tr>\n",
       "    <tr>\n",
       "      <th>2</th>\n",
       "      <td>5.880</td>\n",
       "      <td>4.733</td>\n",
       "      <td>4.901</td>\n",
       "      <td>7.249</td>\n",
       "      <td>9.405</td>\n",
       "      <td>3.047667</td>\n",
       "      <td>5.435333</td>\n",
       "      <td>7.635</td>\n",
       "      <td>3.341667</td>\n",
       "      <td>7.608</td>\n",
       "      <td>...</td>\n",
       "      <td>3.068</td>\n",
       "      <td>4.678</td>\n",
       "      <td>5.399</td>\n",
       "      <td>7.118</td>\n",
       "      <td>6.438</td>\n",
       "      <td>8.827</td>\n",
       "      <td>2.548</td>\n",
       "      <td>5.891</td>\n",
       "      <td>3.916</td>\n",
       "      <td>79.3</td>\n",
       "    </tr>\n",
       "    <tr>\n",
       "      <th>3</th>\n",
       "      <td>6.968</td>\n",
       "      <td>5.653</td>\n",
       "      <td>5.450</td>\n",
       "      <td>6.449</td>\n",
       "      <td>9.091</td>\n",
       "      <td>2.155667</td>\n",
       "      <td>4.993333</td>\n",
       "      <td>6.115</td>\n",
       "      <td>4.006333</td>\n",
       "      <td>7.368</td>\n",
       "      <td>...</td>\n",
       "      <td>2.899</td>\n",
       "      <td>4.900</td>\n",
       "      <td>5.327</td>\n",
       "      <td>7.296</td>\n",
       "      <td>4.446</td>\n",
       "      <td>8.453</td>\n",
       "      <td>2.821</td>\n",
       "      <td>5.908</td>\n",
       "      <td>3.627</td>\n",
       "      <td>72.1</td>\n",
       "    </tr>\n",
       "    <tr>\n",
       "      <th>4</th>\n",
       "      <td>7.305</td>\n",
       "      <td>5.173</td>\n",
       "      <td>5.598</td>\n",
       "      <td>4.663</td>\n",
       "      <td>9.517</td>\n",
       "      <td>3.026000</td>\n",
       "      <td>4.670667</td>\n",
       "      <td>8.149</td>\n",
       "      <td>3.815667</td>\n",
       "      <td>8.080</td>\n",
       "      <td>...</td>\n",
       "      <td>3.493</td>\n",
       "      <td>5.502</td>\n",
       "      <td>5.383</td>\n",
       "      <td>6.736</td>\n",
       "      <td>3.093</td>\n",
       "      <td>9.516</td>\n",
       "      <td>2.436</td>\n",
       "      <td>5.862</td>\n",
       "      <td>3.383</td>\n",
       "      <td>86.4</td>\n",
       "    </tr>\n",
       "  </tbody>\n",
       "</table>\n",
       "<p>5 rows × 321 columns</p>\n",
       "</div>"
      ],
      "text/plain": [
       "   KANK1  HSD17B13  SRD5A3  LINC00494   PPAT     SPRY1    PFN1P2  MEX3C  \\\n",
       "0  6.824     5.761   5.484      4.689  9.027  3.713667  4.062667  7.854   \n",
       "1  6.741     4.769   6.415      5.149  8.697  3.043333  5.147333  8.909   \n",
       "2  5.880     4.733   4.901      7.249  9.405  3.047667  5.435333  7.635   \n",
       "3  6.968     5.653   5.450      6.449  9.091  2.155667  4.993333  6.115   \n",
       "4  7.305     5.173   5.598      4.663  9.517  3.026000  4.670667  8.149   \n",
       "\n",
       "      TWSG1  GOLGA8A  ...  CATR1  LOC101927618  ENSG00000211776  \\\n",
       "0  3.961333    8.144  ...  3.110         4.705            4.460   \n",
       "1  5.278667    7.863  ...  2.953         4.929            4.955   \n",
       "2  3.341667    7.608  ...  3.068         4.678            5.399   \n",
       "3  4.006333    7.368  ...  2.899         4.900            5.327   \n",
       "4  3.815667    8.080  ...  3.493         5.502            5.383   \n",
       "\n",
       "   ENSG00000211716 || ENSG00000261031  ENSG00000211638  IGHA2  LOC100505946  \\\n",
       "0                               7.021            4.070  8.176         2.307   \n",
       "1                               6.793            4.352  8.014         2.488   \n",
       "2                               7.118            6.438  8.827         2.548   \n",
       "3                               7.296            4.446  8.453         2.821   \n",
       "4                               6.736            3.093  9.516         2.436   \n",
       "\n",
       "   LOC101929125  SNORA16B   Age  \n",
       "0         5.371     3.551  78.8  \n",
       "1         6.921     3.507  69.1  \n",
       "2         5.891     3.916  79.3  \n",
       "3         5.908     3.627  72.1  \n",
       "4         5.862     3.383  86.4  \n",
       "\n",
       "[5 rows x 321 columns]"
      ]
     },
     "execution_count": 18,
     "metadata": {},
     "output_type": "execute_result"
    }
   ],
   "source": [
    "X.head()"
   ]
  },
  {
   "cell_type": "code",
   "execution_count": 19,
   "id": "d90aaa36",
   "metadata": {},
   "outputs": [],
   "source": [
    "X_train, X_test, y_train, y_test = train_test_split(X, y, test_size=0.2, random_state=42)"
   ]
  },
  {
   "cell_type": "code",
   "execution_count": 20,
   "id": "a53a2c43",
   "metadata": {},
   "outputs": [],
   "source": [
    "scaler = StandardScaler()\n",
    "X_train = scaler.fit_transform(X_train)\n",
    "X_test = scaler.transform(X_test)"
   ]
  },
  {
   "cell_type": "code",
   "execution_count": 21,
   "id": "809c15a0",
   "metadata": {},
   "outputs": [],
   "source": [
    "y_train = y_train.values\n",
    "y_test = y_test.values"
   ]
  },
  {
   "cell_type": "code",
   "execution_count": 22,
   "id": "3a1595ba",
   "metadata": {},
   "outputs": [],
   "source": [
    "y_train = y_train.astype(np.int)\n",
    "y_test = y_test.astype(np.int)"
   ]
  },
  {
   "cell_type": "code",
   "execution_count": 23,
   "id": "55d0d98c",
   "metadata": {},
   "outputs": [],
   "source": [
    "parameterGrid = { \n",
    "    'n_estimators': [int(x) for x in np.linspace(start = 50, stop = 200, num = 10)], \n",
    "    'max_features': ['sqrt', 'log2', None], \n",
    "    'max_depth': [3, 6, 9], \n",
    "    'max_leaf_nodes': [3, 6, 9], \n",
    "}"
   ]
  },
  {
   "cell_type": "code",
   "execution_count": 24,
   "id": "9cd7ea6a",
   "metadata": {},
   "outputs": [
    {
     "name": "stdout",
     "output_type": "stream",
     "text": [
      "RandomForestClassifier(max_depth=9, max_features=None, max_leaf_nodes=9,\n",
      "                       n_estimators=200)\n"
     ]
    }
   ],
   "source": [
    "gridSearch = GridSearchCV(RandomForestClassifier(), \n",
    "                           param_grid=parameterGrid) \n",
    "gridSearch.fit(X_train, y_train) \n",
    "print(gridSearch.best_estimator_)"
   ]
  },
  {
   "cell_type": "code",
   "execution_count": 25,
   "id": "5c75c4f2",
   "metadata": {},
   "outputs": [],
   "source": [
    "model = RandomForestClassifier(n_estimators=200, max_depth=9, max_features=None, max_leaf_nodes=9, random_state=42)"
   ]
  },
  {
   "cell_type": "code",
   "execution_count": 26,
   "id": "4a743e02",
   "metadata": {},
   "outputs": [
    {
     "data": {
      "text/html": [
       "<style>#sk-container-id-1 {color: black;}#sk-container-id-1 pre{padding: 0;}#sk-container-id-1 div.sk-toggleable {background-color: white;}#sk-container-id-1 label.sk-toggleable__label {cursor: pointer;display: block;width: 100%;margin-bottom: 0;padding: 0.3em;box-sizing: border-box;text-align: center;}#sk-container-id-1 label.sk-toggleable__label-arrow:before {content: \"▸\";float: left;margin-right: 0.25em;color: #696969;}#sk-container-id-1 label.sk-toggleable__label-arrow:hover:before {color: black;}#sk-container-id-1 div.sk-estimator:hover label.sk-toggleable__label-arrow:before {color: black;}#sk-container-id-1 div.sk-toggleable__content {max-height: 0;max-width: 0;overflow: hidden;text-align: left;background-color: #f0f8ff;}#sk-container-id-1 div.sk-toggleable__content pre {margin: 0.2em;color: black;border-radius: 0.25em;background-color: #f0f8ff;}#sk-container-id-1 input.sk-toggleable__control:checked~div.sk-toggleable__content {max-height: 200px;max-width: 100%;overflow: auto;}#sk-container-id-1 input.sk-toggleable__control:checked~label.sk-toggleable__label-arrow:before {content: \"▾\";}#sk-container-id-1 div.sk-estimator input.sk-toggleable__control:checked~label.sk-toggleable__label {background-color: #d4ebff;}#sk-container-id-1 div.sk-label input.sk-toggleable__control:checked~label.sk-toggleable__label {background-color: #d4ebff;}#sk-container-id-1 input.sk-hidden--visually {border: 0;clip: rect(1px 1px 1px 1px);clip: rect(1px, 1px, 1px, 1px);height: 1px;margin: -1px;overflow: hidden;padding: 0;position: absolute;width: 1px;}#sk-container-id-1 div.sk-estimator {font-family: monospace;background-color: #f0f8ff;border: 1px dotted black;border-radius: 0.25em;box-sizing: border-box;margin-bottom: 0.5em;}#sk-container-id-1 div.sk-estimator:hover {background-color: #d4ebff;}#sk-container-id-1 div.sk-parallel-item::after {content: \"\";width: 100%;border-bottom: 1px solid gray;flex-grow: 1;}#sk-container-id-1 div.sk-label:hover label.sk-toggleable__label {background-color: #d4ebff;}#sk-container-id-1 div.sk-serial::before {content: \"\";position: absolute;border-left: 1px solid gray;box-sizing: border-box;top: 0;bottom: 0;left: 50%;z-index: 0;}#sk-container-id-1 div.sk-serial {display: flex;flex-direction: column;align-items: center;background-color: white;padding-right: 0.2em;padding-left: 0.2em;position: relative;}#sk-container-id-1 div.sk-item {position: relative;z-index: 1;}#sk-container-id-1 div.sk-parallel {display: flex;align-items: stretch;justify-content: center;background-color: white;position: relative;}#sk-container-id-1 div.sk-item::before, #sk-container-id-1 div.sk-parallel-item::before {content: \"\";position: absolute;border-left: 1px solid gray;box-sizing: border-box;top: 0;bottom: 0;left: 50%;z-index: -1;}#sk-container-id-1 div.sk-parallel-item {display: flex;flex-direction: column;z-index: 1;position: relative;background-color: white;}#sk-container-id-1 div.sk-parallel-item:first-child::after {align-self: flex-end;width: 50%;}#sk-container-id-1 div.sk-parallel-item:last-child::after {align-self: flex-start;width: 50%;}#sk-container-id-1 div.sk-parallel-item:only-child::after {width: 0;}#sk-container-id-1 div.sk-dashed-wrapped {border: 1px dashed gray;margin: 0 0.4em 0.5em 0.4em;box-sizing: border-box;padding-bottom: 0.4em;background-color: white;}#sk-container-id-1 div.sk-label label {font-family: monospace;font-weight: bold;display: inline-block;line-height: 1.2em;}#sk-container-id-1 div.sk-label-container {text-align: center;}#sk-container-id-1 div.sk-container {/* jupyter's `normalize.less` sets `[hidden] { display: none; }` but bootstrap.min.css set `[hidden] { display: none !important; }` so we also need the `!important` here to be able to override the default hidden behavior on the sphinx rendered scikit-learn.org. See: https://github.com/scikit-learn/scikit-learn/issues/21755 */display: inline-block !important;position: relative;}#sk-container-id-1 div.sk-text-repr-fallback {display: none;}</style><div id=\"sk-container-id-1\" class=\"sk-top-container\"><div class=\"sk-text-repr-fallback\"><pre>RandomForestClassifier(max_depth=9, max_features=None, max_leaf_nodes=9,\n",
       "                       n_estimators=200, random_state=42)</pre><b>In a Jupyter environment, please rerun this cell to show the HTML representation or trust the notebook. <br />On GitHub, the HTML representation is unable to render, please try loading this page with nbviewer.org.</b></div><div class=\"sk-container\" hidden><div class=\"sk-item\"><div class=\"sk-estimator sk-toggleable\"><input class=\"sk-toggleable__control sk-hidden--visually\" id=\"sk-estimator-id-1\" type=\"checkbox\" checked><label for=\"sk-estimator-id-1\" class=\"sk-toggleable__label sk-toggleable__label-arrow\">RandomForestClassifier</label><div class=\"sk-toggleable__content\"><pre>RandomForestClassifier(max_depth=9, max_features=None, max_leaf_nodes=9,\n",
       "                       n_estimators=200, random_state=42)</pre></div></div></div></div></div>"
      ],
      "text/plain": [
       "RandomForestClassifier(max_depth=9, max_features=None, max_leaf_nodes=9,\n",
       "                       n_estimators=200, random_state=42)"
      ]
     },
     "execution_count": 26,
     "metadata": {},
     "output_type": "execute_result"
    }
   ],
   "source": [
    "model.fit(X_train, y_train)"
   ]
  },
  {
   "cell_type": "code",
   "execution_count": 27,
   "id": "71bfd57f",
   "metadata": {},
   "outputs": [],
   "source": [
    "y_pred = model.predict(X_test)"
   ]
  },
  {
   "cell_type": "code",
   "execution_count": 28,
   "id": "c667fc22",
   "metadata": {},
   "outputs": [],
   "source": [
    "accuracy = accuracy_score(y_test, y_pred)"
   ]
  },
  {
   "cell_type": "code",
   "execution_count": 29,
   "id": "c9a6b9fb",
   "metadata": {},
   "outputs": [
    {
     "name": "stdout",
     "output_type": "stream",
     "text": [
      "0.4726027397260274\n"
     ]
    }
   ],
   "source": [
    "print(accuracy)"
   ]
  },
  {
   "cell_type": "code",
   "execution_count": 30,
   "id": "d0414bd9",
   "metadata": {},
   "outputs": [],
   "source": [
    "cm = confusion_matrix(y_test, y_pred)"
   ]
  },
  {
   "cell_type": "code",
   "execution_count": 31,
   "id": "2182fbd7",
   "metadata": {},
   "outputs": [],
   "source": [
    "cmDF = pd.DataFrame(cm,\n",
    "                     index = ['Control','MCI','AD'], \n",
    "                     columns = ['Control','MCI','AD'])"
   ]
  },
  {
   "cell_type": "code",
   "execution_count": 32,
   "id": "01b3239a",
   "metadata": {},
   "outputs": [
    {
     "data": {
      "image/png": "[encoded data removed]",
      "text/plain": [
       "<Figure size 500x400 with 2 Axes>"
      ]
     },
     "metadata": {},
     "output_type": "display_data"
    }
   ],
   "source": [
    "# plotting the confusion matrix to represent the preformance of Random Forest Model\n",
    "plt.figure(figsize=(5,4))\n",
    "sns.heatmap(cmDF, annot=True)\n",
    "plt.title('Confusion Matrix')\n",
    "plt.ylabel('Actual Values')\n",
    "plt.xlabel('Predicted Values')\n",
    "plt.show()"
   ]
  },
  {
   "cell_type": "code",
   "execution_count": null,
   "id": "4354787a",
   "metadata": {},
   "outputs": [],
   "source": []
  },
  {
   "cell_type": "code",
   "execution_count": 33,
   "id": "4f7d0714",
   "metadata": {},
   "outputs": [],
   "source": [
    "lowHighGeneSymbolBasedOnCV = {}\n",
    "\n",
    "for index, row in geneMetrics.iterrows():\n",
    "    mcv = geneMetrics.at[index, 'Mean CV']\n",
    "    key = geneMetrics.at[index, 'Gene Symbol']\n",
    "    if mcv > 0.35:\n",
    "        lowHighGeneSymbolBasedOnCV[key] = 1\n",
    "    else:\n",
    "        lowHighGeneSymbolBasedOnCV[key] = 1"
   ]
  },
  {
   "cell_type": "code",
   "execution_count": 34,
   "id": "aded2a15",
   "metadata": {},
   "outputs": [],
   "source": [
    "columns =  set(finalDataFrame.columns)\n",
    "idxs = finalDataFrame[\"IID\"]"
   ]
  },
  {
   "cell_type": "code",
   "execution_count": 35,
   "id": "d499725e",
   "metadata": {},
   "outputs": [],
   "source": [
    "dic = defaultdict(list)\n",
    "for idx in idxs:\n",
    "    for col in columns:\n",
    "        res = keyDictionary.get((idx, col))\n",
    "        if res:\n",
    "            if lowHighGeneSymbolBasedOnCV[col] == 0:\n",
    "                dic[col].append(np.mean(res))\n",
    "            else:\n",
    "                dic[col].append(np.amax(res))\n",
    "lastBasedOnCV = pd.DataFrame(dic)"
   ]
  },
  {
   "cell_type": "code",
   "execution_count": 36,
   "id": "c3cb35c4",
   "metadata": {},
   "outputs": [],
   "source": [
    "original_col = finalDataFrame.columns\n",
    "new_colBasedOnCV = lastBasedOnCV.columns\n",
    "disjointBasedOnCV = [i for i in original_col if i not in new_colBasedOnCV]\n",
    "lastBasedOnCV = lastBasedOnCV.merge(finalDataFrame[disjointBasedOnCV], left_index=True, right_index=True)"
   ]
  },
  {
   "cell_type": "code",
   "execution_count": 37,
   "id": "69d637d5",
   "metadata": {},
   "outputs": [
    {
     "name": "stdout",
     "output_type": "stream",
     "text": [
      "80\n",
      "0\n"
     ]
    }
   ],
   "source": [
    "lastBasedOnCV.replace(\"\", np.nan, inplace=True)\n",
    "print(sum(lastBasedOnCV.isna().sum()))\n",
    "lastBasedOnCV = lastBasedOnCV[lastBasedOnCV[\"Phenotype\"].notna()].reset_index(drop=True)\n",
    "print(sum(lastBasedOnCV.isna().sum()))"
   ]
  },
  {
   "cell_type": "code",
   "execution_count": 38,
   "id": "39c1b5d6",
   "metadata": {},
   "outputs": [],
   "source": [
    "for col in lastBasedOnCV.columns:\n",
    "    if (\n",
    "        any(lastBasedOnCV[col].isna())\n",
    "        and lastBasedOnCV[col].isna().value_counts().to_dict().get(True) / len(lastBasedOnCV[col])\n",
    "        > 0.90\n",
    "    ):\n",
    "        print(col)\n",
    "        lastBasedOnCV = lastBasedOnCV.drop(col, axis=1)"
   ]
  },
  {
   "cell_type": "code",
   "execution_count": 39,
   "id": "4e4df5c5",
   "metadata": {},
   "outputs": [],
   "source": [
    "featuresBasedOnCV = lastBasedOnCV.drop('Phenotype', axis = 1)\n",
    "targetBasedOnCV = lastBasedOnCV['Phenotype']\n",
    "featuresBasedOnCV = featuresBasedOnCV.drop('IID', axis = 1)"
   ]
  },
  {
   "cell_type": "code",
   "execution_count": 40,
   "id": "449dcb81",
   "metadata": {},
   "outputs": [],
   "source": [
    "lasso2 = Lasso(alpha=0.01)\n",
    "lasso2.fit(featuresBasedOnCV, targetBasedOnCV)\n",
    "selectedFeaturesBasedOnCV = featuresBasedOnCV.columns[lasso2.coef_ != 0.0]"
   ]
  },
  {
   "cell_type": "code",
   "execution_count": 41,
   "id": "66e59024",
   "metadata": {},
   "outputs": [
    {
     "data": {
      "text/plain": [
       "364"
      ]
     },
     "execution_count": 41,
     "metadata": {},
     "output_type": "execute_result"
    }
   ],
   "source": [
    "len(selectedFeaturesBasedOnCV)"
   ]
  },
  {
   "cell_type": "code",
   "execution_count": 42,
   "id": "5c44d5f7",
   "metadata": {},
   "outputs": [],
   "source": [
    "X2 = lastBasedOnCV[selectedFeaturesBasedOnCV]\n",
    "y2 = lastBasedOnCV['Phenotype']"
   ]
  },
  {
   "cell_type": "code",
   "execution_count": 43,
   "id": "1305c18c",
   "metadata": {},
   "outputs": [],
   "source": [
    "X_train2, X_test2, y_train2, y_test2 = train_test_split(X2, y2, test_size=0.2, random_state=42)"
   ]
  },
  {
   "cell_type": "code",
   "execution_count": 44,
   "id": "f2bd92fd",
   "metadata": {},
   "outputs": [],
   "source": [
    "scaler2 = StandardScaler()\n",
    "X_train2 = scaler2.fit_transform(X_train2)\n",
    "X_test2 = scaler2.transform(X_test2)"
   ]
  },
  {
   "cell_type": "code",
   "execution_count": 45,
   "id": "9cbdf9d8",
   "metadata": {},
   "outputs": [],
   "source": [
    "y_train2 = y_train2.values\n",
    "y_test2 = y_test2.values"
   ]
  },
  {
   "cell_type": "code",
   "execution_count": 46,
   "id": "76e594e8",
   "metadata": {},
   "outputs": [],
   "source": [
    "y_train2 = y_train2.astype(np.int)\n",
    "y_test2 = y_test2.astype(np.int)"
   ]
  },
  {
   "cell_type": "code",
   "execution_count": 47,
   "id": "e2e92726",
   "metadata": {},
   "outputs": [],
   "source": [
    "model2 = RandomForestClassifier(n_estimators=200, max_depth=9, max_features=None, max_leaf_nodes=9, random_state=42)"
   ]
  },
  {
   "cell_type": "code",
   "execution_count": 48,
   "id": "818da1af",
   "metadata": {},
   "outputs": [
    {
     "data": {
      "text/html": [
       "<style>#sk-container-id-2 {color: black;}#sk-container-id-2 pre{padding: 0;}#sk-container-id-2 div.sk-toggleable {background-color: white;}#sk-container-id-2 label.sk-toggleable__label {cursor: pointer;display: block;width: 100%;margin-bottom: 0;padding: 0.3em;box-sizing: border-box;text-align: center;}#sk-container-id-2 label.sk-toggleable__label-arrow:before {content: \"▸\";float: left;margin-right: 0.25em;color: #696969;}#sk-container-id-2 label.sk-toggleable__label-arrow:hover:before {color: black;}#sk-container-id-2 div.sk-estimator:hover label.sk-toggleable__label-arrow:before {color: black;}#sk-container-id-2 div.sk-toggleable__content {max-height: 0;max-width: 0;overflow: hidden;text-align: left;background-color: #f0f8ff;}#sk-container-id-2 div.sk-toggleable__content pre {margin: 0.2em;color: black;border-radius: 0.25em;background-color: #f0f8ff;}#sk-container-id-2 input.sk-toggleable__control:checked~div.sk-toggleable__content {max-height: 200px;max-width: 100%;overflow: auto;}#sk-container-id-2 input.sk-toggleable__control:checked~label.sk-toggleable__label-arrow:before {content: \"▾\";}#sk-container-id-2 div.sk-estimator input.sk-toggleable__control:checked~label.sk-toggleable__label {background-color: #d4ebff;}#sk-container-id-2 div.sk-label input.sk-toggleable__control:checked~label.sk-toggleable__label {background-color: #d4ebff;}#sk-container-id-2 input.sk-hidden--visually {border: 0;clip: rect(1px 1px 1px 1px);clip: rect(1px, 1px, 1px, 1px);height: 1px;margin: -1px;overflow: hidden;padding: 0;position: absolute;width: 1px;}#sk-container-id-2 div.sk-estimator {font-family: monospace;background-color: #f0f8ff;border: 1px dotted black;border-radius: 0.25em;box-sizing: border-box;margin-bottom: 0.5em;}#sk-container-id-2 div.sk-estimator:hover {background-color: #d4ebff;}#sk-container-id-2 div.sk-parallel-item::after {content: \"\";width: 100%;border-bottom: 1px solid gray;flex-grow: 1;}#sk-container-id-2 div.sk-label:hover label.sk-toggleable__label {background-color: #d4ebff;}#sk-container-id-2 div.sk-serial::before {content: \"\";position: absolute;border-left: 1px solid gray;box-sizing: border-box;top: 0;bottom: 0;left: 50%;z-index: 0;}#sk-container-id-2 div.sk-serial {display: flex;flex-direction: column;align-items: center;background-color: white;padding-right: 0.2em;padding-left: 0.2em;position: relative;}#sk-container-id-2 div.sk-item {position: relative;z-index: 1;}#sk-container-id-2 div.sk-parallel {display: flex;align-items: stretch;justify-content: center;background-color: white;position: relative;}#sk-container-id-2 div.sk-item::before, #sk-container-id-2 div.sk-parallel-item::before {content: \"\";position: absolute;border-left: 1px solid gray;box-sizing: border-box;top: 0;bottom: 0;left: 50%;z-index: -1;}#sk-container-id-2 div.sk-parallel-item {display: flex;flex-direction: column;z-index: 1;position: relative;background-color: white;}#sk-container-id-2 div.sk-parallel-item:first-child::after {align-self: flex-end;width: 50%;}#sk-container-id-2 div.sk-parallel-item:last-child::after {align-self: flex-start;width: 50%;}#sk-container-id-2 div.sk-parallel-item:only-child::after {width: 0;}#sk-container-id-2 div.sk-dashed-wrapped {border: 1px dashed gray;margin: 0 0.4em 0.5em 0.4em;box-sizing: border-box;padding-bottom: 0.4em;background-color: white;}#sk-container-id-2 div.sk-label label {font-family: monospace;font-weight: bold;display: inline-block;line-height: 1.2em;}#sk-container-id-2 div.sk-label-container {text-align: center;}#sk-container-id-2 div.sk-container {/* jupyter's `normalize.less` sets `[hidden] { display: none; }` but bootstrap.min.css set `[hidden] { display: none !important; }` so we also need the `!important` here to be able to override the default hidden behavior on the sphinx rendered scikit-learn.org. See: https://github.com/scikit-learn/scikit-learn/issues/21755 */display: inline-block !important;position: relative;}#sk-container-id-2 div.sk-text-repr-fallback {display: none;}</style><div id=\"sk-container-id-2\" class=\"sk-top-container\"><div class=\"sk-text-repr-fallback\"><pre>RandomForestClassifier(max_depth=9, max_features=None, max_leaf_nodes=9,\n",
       "                       n_estimators=200, random_state=42)</pre><b>In a Jupyter environment, please rerun this cell to show the HTML representation or trust the notebook. <br />On GitHub, the HTML representation is unable to render, please try loading this page with nbviewer.org.</b></div><div class=\"sk-container\" hidden><div class=\"sk-item\"><div class=\"sk-estimator sk-toggleable\"><input class=\"sk-toggleable__control sk-hidden--visually\" id=\"sk-estimator-id-2\" type=\"checkbox\" checked><label for=\"sk-estimator-id-2\" class=\"sk-toggleable__label sk-toggleable__label-arrow\">RandomForestClassifier</label><div class=\"sk-toggleable__content\"><pre>RandomForestClassifier(max_depth=9, max_features=None, max_leaf_nodes=9,\n",
       "                       n_estimators=200, random_state=42)</pre></div></div></div></div></div>"
      ],
      "text/plain": [
       "RandomForestClassifier(max_depth=9, max_features=None, max_leaf_nodes=9,\n",
       "                       n_estimators=200, random_state=42)"
      ]
     },
     "execution_count": 48,
     "metadata": {},
     "output_type": "execute_result"
    }
   ],
   "source": [
    "model2.fit(X_train2, y_train2)"
   ]
  },
  {
   "cell_type": "code",
   "execution_count": 49,
   "id": "a994d0bb",
   "metadata": {},
   "outputs": [],
   "source": [
    "y_pred2 = model2.predict(X_test2)"
   ]
  },
  {
   "cell_type": "code",
   "execution_count": 50,
   "id": "2a5e969b",
   "metadata": {},
   "outputs": [],
   "source": [
    "accuracy2 = accuracy_score(y_test2, y_pred2)"
   ]
  },
  {
   "cell_type": "code",
   "execution_count": 51,
   "id": "44c62fb5",
   "metadata": {},
   "outputs": [
    {
     "name": "stdout",
     "output_type": "stream",
     "text": [
      "0.5136986301369864\n"
     ]
    }
   ],
   "source": [
    "print(accuracy2)"
   ]
  },
  {
   "cell_type": "code",
   "execution_count": 52,
   "id": "b7e23100",
   "metadata": {},
   "outputs": [],
   "source": [
    "cm2 = confusion_matrix(y_test2, y_pred2)"
   ]
  },
  {
   "cell_type": "code",
   "execution_count": 53,
   "id": "12567652",
   "metadata": {},
   "outputs": [],
   "source": [
    "cmDF2 = pd.DataFrame(cm2,\n",
    "                     index = ['Control','MCI','AD'], \n",
    "                     columns = ['Control','MCI','AD'])"
   ]
  },
  {
   "cell_type": "code",
   "execution_count": 54,
   "id": "d4354685",
   "metadata": {},
   "outputs": [
    {
     "data": {
      "image/png": "[encoded data removed]",
      "text/plain": [
       "<Figure size 500x400 with 2 Axes>"
      ]
     },
     "metadata": {},
     "output_type": "display_data"
    }
   ],
   "source": [
    "# plotting the confusion matrix to represent the preformance of Random Forest Model\n",
    "plt.figure(figsize=(5,4))\n",
    "sns.heatmap(cmDF2, annot=True)\n",
    "plt.title('Confusion Matrix')\n",
    "plt.ylabel('Actual Values')\n",
    "plt.xlabel('Predicted Values')\n",
    "plt.show()"
   ]
  },
  {
   "cell_type": "code",
   "execution_count": null,
   "id": "74241b6c",
   "metadata": {},
   "outputs": [],
   "source": []
  },
  {
   "cell_type": "code",
   "execution_count": 55,
   "id": "a092f110",
   "metadata": {},
   "outputs": [],
   "source": [
    "selectedFeaturesBasedOnStdList = selectedFeaturesBasedOnStd.tolist()\n",
    "selectedFeaturesBasedOnCVList = selectedFeaturesBasedOnCV.tolist()"
   ]
  },
  {
   "cell_type": "code",
   "execution_count": 56,
   "id": "94b2b0c5",
   "metadata": {},
   "outputs": [
    {
     "name": "stdout",
     "output_type": "stream",
     "text": [
      "321\n",
      "364\n"
     ]
    }
   ],
   "source": [
    "print(len(selectedFeaturesBasedOnStdList))\n",
    "print(len(selectedFeaturesBasedOnCVList))"
   ]
  },
  {
   "cell_type": "code",
   "execution_count": 57,
   "id": "7f3fc469",
   "metadata": {},
   "outputs": [],
   "source": [
    "inBothList = 0\n",
    "\n",
    "for feature in selectedFeaturesBasedOnStdList:\n",
    "    if feature in selectedFeaturesBasedOnCVList:\n",
    "        inBothList += 1\n",
    "        \n",
    "onlyInFirstList = len(selectedFeaturesBasedOnStdList) - inBothList\n",
    "onlyInSecondList = len(selectedFeaturesBasedOnCVList) - inBothList"
   ]
  },
  {
   "cell_type": "code",
   "execution_count": 58,
   "id": "286af0a7",
   "metadata": {},
   "outputs": [
    {
     "data": {
      "image/png": "[encoded data removed]",
      "text/plain": [
       "<Figure size 640x480 with 1 Axes>"
      ]
     },
     "metadata": {},
     "output_type": "display_data"
    }
   ],
   "source": [
    "# depict venn diagram \n",
    "venn2(subsets=(onlyInFirstList, onlyInSecondList, inBothList),  \n",
    "      set_labels=('Selected Feautres Preprocessed based on Mean STD', 'Selected Feautres Preprocessed based on Mean CV'), \n",
    "      set_colors=(\"orange\", \"blue\"), alpha=.7) \n",
    "  \n",
    "# add outline \n",
    "venn2_circles(subsets=(onlyInFirstList, onlyInSecondList, inBothList),  \n",
    "              linestyle=\"dashed\",  \n",
    "              linewidth=2) \n",
    "  \n",
    "\n",
    "# assign title of the venn diagram \n",
    "plt.title(\"Venn Diagram representing features selected by Lasso preprocessed based on Mean STD and Mean CV\")   \n",
    "plt.show()"
   ]
  },
  {
   "cell_type": "code",
   "execution_count": null,
   "id": "ffa00e32",
   "metadata": {},
   "outputs": [],
   "source": [
    "import csv"
   ]
  },
  {
   "cell_type": "code",
   "execution_count": null,
   "id": "d9b1de9d",
   "metadata": {},
   "outputs": [],
   "source": [
    "csv_file = \"selectedFeaturesBasedOnStdListMedian.csv\""
   ]
  },
  {
   "cell_type": "code",
   "execution_count": null,
   "id": "9e728d8c",
   "metadata": {},
   "outputs": [],
   "source": [
    "with open(csv_file, 'w', newline='') as file:\n",
    "    # Create a CSV writer\n",
    "    writer = csv.writer(file)\n",
    "    \n",
    "    # Write the strings to the CSV file\n",
    "    for feature in selectedFeaturesBasedOnStdList:\n",
    "        writer.writerow([feature])"
   ]
  },
  {
   "cell_type": "code",
   "execution_count": null,
   "id": "326d59c3",
   "metadata": {},
   "outputs": [],
   "source": [
    "for feature in selectedFeaturesBasedOnStdList:\n",
    "    print(feature)"
   ]
  },
  {
   "cell_type": "code",
   "execution_count": null,
   "id": "22c5d9a9",
   "metadata": {},
   "outputs": [],
   "source": [
    "for feature in selectedFeaturesBasedOnCVList:\n",
    "    print(feature)"
   ]
  },
  {
   "cell_type": "code",
   "execution_count": null,
   "id": "db436c5f",
   "metadata": {},
   "outputs": [],
   "source": []
  }
 ],
 "metadata": {
  "kernelspec": {
   "display_name": "Python 3 (ipykernel)",
   "language": "python",
   "name": "python3"
  },
  "language_info": {
   "codemirror_mode": {
    "name": "ipython",
    "version": 3
   },
   "file_extension": ".py",
   "mimetype": "text/x-python",
   "name": "python",
   "nbconvert_exporter": "python",
   "pygments_lexer": "ipython3",
   "version": "3.11.4"
  }
 },
 "nbformat": 4,
 "nbformat_minor": 5
}
